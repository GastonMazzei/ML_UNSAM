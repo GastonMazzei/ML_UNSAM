{
 "cells": [
  {
   "cell_type": "markdown",
   "metadata": {},
   "source": [
    "### Introducción a la materia Aprendizaje Automático\n",
    "\n",
    "**Un juego**\n",
    "\n",
    "Un amigo entrañable, Alex, se fue a vivir a EEUU hace unos años. Hace un rato mandó mensajito de WhatsApp, después de un par de meses sin tener noticias. Nos contó que había conseguido un trabajo muy bien pago en una inmobiliaria en San Francisco, California.  Claro que para hacerlo, había tenido que poner en su CV que era \"Data Scientists\". Alex nos explica que es lo que está haciendo todo el mundo, porque piden Data Scientists por doquier. Pero en realidad su formación en estadística y análisis de datos se limita a un par de videos de YouTube, y a un cursito de Coursera, que dejó por la mitad. \n",
    "\n",
    "El primer lunes en la oficina, nos cuenta Alex, su jefe llega, exultante, y le cuenta lo satisfecho que está de iniciar su departamento de Data Science en la Inmobiliaria, y le pasa la clave para acceder a los archivos de la empresa, que contiene información de las propiedades que tiene en su haber la inmobiliaria. Y le pide que los use para \"mejorar la eficiencia y ganancia de la inmobiliaria\". Le pide algún resultado para el final de la semana.\n",
    "\n",
    "Alex está en pánico, pero vio el tuit que vos había escrito, diciendo que arrancabas la materia de Aprendizaje Automático de UNSAM, y pensó que tal vez podés darle una mano para salir de este brete. Promete conectarse como oyente a las clases de ahora en más. Antes de esperar la respuesta, manda los datos y un gif simpático.\n",
    "\n",
    "Vamos a ver cómo podemos ayudarlo, pobre Alex."
   ]
  },
  {
   "cell_type": "markdown",
   "metadata": {},
   "source": [
    "**Plan**\n",
    "\n",
    "1) Visualizar los datos para obtener alguna idea de qué pregunta podrían llegar a responder.\n",
    "\n",
    "2) Definir el proyecto.\n",
    "\n",
    "3) Preparar los datos.\n",
    "\n",
    "4) Correr algún modelo simple simple (¿tal vez el jueves?)"
   ]
  },
  {
   "cell_type": "markdown",
   "metadata": {},
   "source": [
    "## Preparación"
   ]
  },
  {
   "cell_type": "markdown",
   "metadata": {},
   "source": [
    "Antes que nada, corramos algunas celdas de código para prepararnos. Mucho de lo que viene a continuación está sacado del libro de Aurélien Geron, y su [repo de GitHub](https://github.com/ageron/handson-ml2), que recomendamos."
   ]
  },
  {
   "cell_type": "code",
   "execution_count": null,
   "metadata": {},
   "outputs": [],
   "source": [
    "# Python ≥3.5 is required\n",
    "import sys\n",
    "assert sys.version_info >= (3, 5)\n",
    "\n",
    "# Scikit-Learn ≥0.20 is required\n",
    "import sklearn\n",
    "assert sklearn.__version__ >= \"0.20\"\n",
    "\n",
    "# Common imports\n",
    "import numpy as np\n",
    "import os\n",
    "\n",
    "# To plot pretty figures\n",
    "%matplotlib inline\n",
    "import matplotlib as mpl\n",
    "import matplotlib.pyplot as plt\n",
    "mpl.rc('axes', labelsize=14)\n",
    "mpl.rc('xtick', labelsize=12)\n",
    "mpl.rc('ytick', labelsize=12)\n",
    "\n",
    "# Where to save the figures\n",
    "PROJECT_ROOT_DIR = \".\"\n",
    "CHAPTER_ID = \"01_Intro\"\n",
    "IMAGES_PATH = os.path.join(PROJECT_ROOT_DIR, \"images\", CHAPTER_ID)\n",
    "os.makedirs(IMAGES_PATH, exist_ok=True)\n",
    "\n",
    "def save_fig(fig_id, tight_layout=True, fig_extension=\"png\", resolution=300):\n",
    "    path = os.path.join(IMAGES_PATH, fig_id + \".\" + fig_extension)\n",
    "    print(\"Saving figure\", fig_id)\n",
    "    if tight_layout:\n",
    "        plt.tight_layout()\n",
    "    plt.savefig(path, format=fig_extension, dpi=resolution)\n",
    "\n",
    "# Ignore useless warnings (see SciPy issue #5998)\n",
    "import warnings\n",
    "warnings.filterwarnings(action=\"ignore\", message=\"^internal gelsd\")"
   ]
  },
  {
   "cell_type": "markdown",
   "metadata": {},
   "source": [
    "## Obtención de los datos\n",
    "\n",
    "Lo primero es obtener los datos que manda Alex. Para eso, definimos una variable extra, con la ubicación del archivo"
   ]
  },
  {
   "cell_type": "code",
   "execution_count": null,
   "metadata": {},
   "outputs": [],
   "source": [
    "HOUSING_PATH = os.path.join(\".\", \"datasets\", \"housing\")"
   ]
  },
  {
   "cell_type": "markdown",
   "metadata": {},
   "source": [
    "Si están corriendo esto en Colab, tienen que bajar los datos del repositorio y copiarlo a su directorio en la nube. Esto se hace con el código de la siguiente celda"
   ]
  },
  {
   "cell_type": "code",
   "execution_count": null,
   "metadata": {},
   "outputs": [],
   "source": [
    "assert 'google.colab' in sys.modules, \"Ojo! No estás corriendo en Colab. No hace falta esto.\"\n",
    "    \n",
    "import tarfile\n",
    "\n",
    "DOWNLOAD_ROOT = \"https://raw.githubusercontent.com/IAI-UNSAM/ML_UNSAM/master/\"\n",
    "HOUSING_URL = DOWNLOAD_ROOT + \"datasets/housing/housing.tgz\"\n",
    "\n",
    "!mkdir -p ./datasets/housing\n",
    "\n",
    "def fetch_housing_data(housing_url=HOUSING_URL, housing_path=HOUSING_PATH):\n",
    "    os.makedirs(housing_path, exist_ok=True)\n",
    "    tgz_path = os.path.join(housing_path, \"housing.tgz\")\n",
    "    #urllib.request.urlretrieve(housing_url, tgz_path)\n",
    "    !wget https://raw.githubusercontent.com/IAI-UNSAM/ML_UNSAM/master/datasets/housing/housing.tgz -P {housing_path}\n",
    "    housing_tgz = tarfile.open(tgz_path)\n",
    "    housing_tgz.extractall(path=housing_path)\n",
    "    housing_tgz.close()\n",
    "    \n",
    "# Corramos la función\n",
    "fetch_housing_data()"
   ]
  },
  {
   "cell_type": "code",
   "execution_count": null,
   "metadata": {},
   "outputs": [],
   "source": [
    "import pandas as pd\n",
    "\n",
    "def load_housing_data(housing_path=HOUSING_PATH):\n",
    "    csv_path = os.path.join(housing_path, \"housing.csv\")\n",
    "    return pd.read_csv(csv_path)"
   ]
  },
  {
   "cell_type": "code",
   "execution_count": null,
   "metadata": {},
   "outputs": [],
   "source": [
    "#Cargemos los datos y veamos las primeras filas\n",
    "housing = load_housing_data()\n",
    "housing.head()"
   ]
  },
  {
   "cell_type": "markdown",
   "metadata": {},
   "source": [
    "> Yo: \"Alex, ¿qué es esto? Tirame alguna pista adicional.\"\n",
    ">\n",
    "> Alex: \"Son datos por distrito. Cada fila representa un distrito diferente en California.\"\n",
    ">\n",
    "> Yo: \"Algo más?\"\n",
    ">\n",
    "> Alex: ...\n",
    "> \n",
    "> Yo: \"Las unidades de cada columna?\"\n",
    ">\n",
    "> Alex: ...\n",
    "\n",
    "Creo que se dice \"nos clavó el visto\".\n",
    "\n",
    "Bueno, por suerte el paquete `pandas` tiene cosas útiles. Usemos el método <tt>info</tt> para tener más información."
   ]
  },
  {
   "cell_type": "code",
   "execution_count": null,
   "metadata": {},
   "outputs": [],
   "source": [
    "housing.info()"
   ]
  },
  {
   "cell_type": "markdown",
   "metadata": {},
   "source": [
    "Vemos que tenemos 20640 registros (distritos), con 10 columnas para cada uno.\n",
    "\n",
    "La mayoría de esas columnas son numéricas, pero hay una que tiene otro tipo de objetos (ya lo vimos arriba).\n",
    "\n",
    "`ocean_proximity` es intrigante. Veamos más de cerca. ¿Qué valores toma?"
   ]
  },
  {
   "cell_type": "code",
   "execution_count": null,
   "metadata": {},
   "outputs": [],
   "source": [
    "housing[\"ocean_proximity\"].unique()"
   ]
  },
  {
   "cell_type": "markdown",
   "metadata": {},
   "source": [
    "Ok, vemos que es lo que se llama una variable categórica. Hay solo cinco posibles valores para esa variable. Veamos cuantos distritos en cada uno."
   ]
  },
  {
   "cell_type": "markdown",
   "metadata": {},
   "source": [
    "***\n",
    "\n",
    "**Preguntas**\n",
    "\n",
    "1) ¿Qué preguntas creen que pueden responder estos datos?\n",
    "\n",
    "2) ¿Cómo haríamos para empezar a responder esa pregunta?\n",
    "\n",
    "3) ¿Qué variables parecen las más relevantes?"
   ]
  },
  {
   "cell_type": "markdown",
   "metadata": {},
   "source": [
    "## Criterio de evaluación."
   ]
  },
  {
   "cell_type": "markdown",
   "metadata": {},
   "source": [
    "Una vez que tenemos una idea clara de los objetivos, lo primero que tenemos que hacer es decidir qué criterio de evaluación vamos a usar.\n",
    "\n",
    "***\n",
    "\n",
    "**Preguntas**\n",
    "\n",
    "1) ¿Cómo podemos saber si nuestro modelo funciona?\n",
    "\n",
    "2) ¿Cómo podemos cuantíficar cuán bien funciona?\n",
    "\n",
    "3) ¿Cómo garantizamos que la predicción va a funcionar cuando aparezcan nuevas casas para evaluar?"
   ]
  },
  {
   "cell_type": "markdown",
   "metadata": {},
   "source": [
    "## Exploración de los datos"
   ]
  },
  {
   "cell_type": "markdown",
   "metadata": {},
   "source": [
    "Tal vez lo primero que a uno se le puede ocurrir es calcular promedios y cosas de los datos."
   ]
  },
  {
   "cell_type": "code",
   "execution_count": null,
   "metadata": {},
   "outputs": [],
   "source": [
    "housing.describe().round(2)"
   ]
  },
  {
   "cell_type": "markdown",
   "metadata": {},
   "source": [
    "Vean que `ocean_proximity` no aparece en esta tabla, porque no es numérica. Y volvemos a ver que faltan algunas entrdas en `total_bedrooms`.\n",
    "\n",
    "***\n",
    "**Pregunta**: ¿Se les ocurre que podemos hacer con los registros que faltan de `total_bedrooms`?\n",
    "***\n",
    "Otra buena idea es hacer un plot de los gráficos. Como tenemos latitud y longitud, se impone graficar eso."
   ]
  },
  {
   "cell_type": "code",
   "execution_count": null,
   "metadata": {},
   "outputs": [],
   "source": [
    "ax = housing.plot(kind=\"scatter\", x=\"longitude\", y=\"latitude\", figsize=(8, 8))\n",
    "# save_fig(\"bad_visualization_plot\")"
   ]
  },
  {
   "cell_type": "markdown",
   "metadata": {},
   "source": [
    "Mmmm, no se ve nada, no? Aunque se adivina la forma de California.\n",
    "\n",
    "<p><a href=\"https://commons.wikimedia.org/wiki/File:Map_of_California_NA-2004-compact.png#/media/File:Map_of_California_NA-2004-compact.png\"><img src=\"https://upload.wikimedia.org/wikipedia/commons/thumb/7/78/Map_of_California_NA-2004-compact.png/1200px-Map_of_California_NA-2004-compact.png\" alt=\"Map of California NA-2004-compact.png\" style=\"width:400px; align:left\"></a></p>\n",
    "\n",
    "Podemos agregar algo de claridad haciendo que los puntos sean transparentes."
   ]
  },
  {
   "cell_type": "code",
   "execution_count": null,
   "metadata": {
    "scrolled": false
   },
   "outputs": [],
   "source": [
    "housing.plot(kind=\"scatter\", x=\"longitude\", y=\"latitude\", alpha=0.1, figsize=(8, 8))\n",
    "# save_fig(\"better_visualization_plot\")"
   ]
  },
  {
   "cell_type": "markdown",
   "metadata": {},
   "source": [
    "Ahora podemos ver que hay zonas más pobladas y otras menos pobladas, por ejemplo.\n",
    "\n",
    "Por último agreguemos otras variables como tamaño de los símbolos y color.\n",
    "\n",
    "*** \n",
    "\n",
    "*Pregunta*\n",
    "\n",
    "1) ¿Qué variable agregarían?\n",
    "\n",
    "----"
   ]
  },
  {
   "cell_type": "code",
   "execution_count": null,
   "metadata": {},
   "outputs": [],
   "source": [
    "housing.head()"
   ]
  },
  {
   "cell_type": "markdown",
   "metadata": {},
   "source": [
    "Decidimos agregar la mediana del valor de las casas y la población. Pueden experimentar con otros, a ver qué pasa."
   ]
  },
  {
   "cell_type": "code",
   "execution_count": null,
   "metadata": {},
   "outputs": [],
   "source": [
    "housing.plot(kind=\"scatter\", x=\"longitude\", y=\"latitude\", s=housing[\"population\"]/50, label=\"población\", \n",
    "             c=\"median_house_value\", figsize=(8, 8), alpha=0.4, cmap=plt.get_cmap(\"jet\"), colorbar=True,\n",
    "             sharex=False)"
   ]
  },
  {
   "cell_type": "code",
   "execution_count": null,
   "metadata": {},
   "outputs": [],
   "source": [
    "housing.plot(kind=\"scatter\", x=\"longitude\", y=\"latitude\", s=housing[\"median_income\"]*10, label=\"Ingreso\", \n",
    "             c=\"median_house_value\", figsize=(8, 8), alpha=0.1, cmap=plt.get_cmap(\"jet\"), colorbar=True,\n",
    "             sharex=False)"
   ]
  },
  {
   "cell_type": "markdown",
   "metadata": {},
   "source": [
    "Epa! Bueno, esto ya es otra cosa! Solo con este gráfico tenemos mucha tela para cortar.\n",
    "\n",
    "Pero si quieren algo todavía más bonito, pueden usar este código (gracias, Geron!)"
   ]
  },
  {
   "cell_type": "code",
   "execution_count": null,
   "metadata": {},
   "outputs": [],
   "source": [
    "# Download the California image\n",
    "images_path = os.path.join(PROJECT_ROOT_DIR, \"images\", \"01_Intro\")\n",
    "os.makedirs(images_path, exist_ok=True)\n",
    "DOWNLOAD_ROOT = \"https://raw.githubusercontent.com/ageron/handson-ml2/master/\"\n",
    "filename = \"california.png\"\n",
    "print(\"Downloading\", filename)\n",
    "url = DOWNLOAD_ROOT + \"images/end_to_end_project/\" + filename\n",
    "!wget {url} -P {images_path}\n",
    "# !mv california.png {images_path}\n",
    "# urllib.request.urlretrieve(url, os.path.join(images_path, filename))"
   ]
  },
  {
   "cell_type": "code",
   "execution_count": null,
   "metadata": {},
   "outputs": [],
   "source": [
    "import matplotlib.image as mpimg\n",
    "california_img=mpimg.imread(os.path.join(images_path, filename))\n",
    "ax = housing.plot(kind=\"scatter\", x=\"longitude\", y=\"latitude\", figsize=(10,7),\n",
    "                       s=housing['population']/100, label=\"Population\",\n",
    "                       c=\"median_house_value\", cmap=plt.get_cmap(\"jet\"),\n",
    "                       colorbar=False, alpha=0.4,\n",
    "                      )\n",
    "plt.imshow(california_img, extent=[-124.55, -113.80, 32.45, 42.05], alpha=0.5,\n",
    "           cmap=plt.get_cmap(\"jet\"))\n",
    "plt.ylabel(\"Latitude\", fontsize=14)\n",
    "plt.xlabel(\"Longitude\", fontsize=14)\n",
    "\n",
    "prices = housing[\"median_house_value\"]\n",
    "tick_values = np.linspace(prices.min(), prices.max(), 11)\n",
    "cbar = plt.colorbar(ticks=tick_values/prices.max())\n",
    "cbar.ax.set_yticklabels([\"$%dk\"%(round(v/1000)) for v in tick_values], fontsize=14)\n",
    "cbar.set_label('Median House Value', fontsize=16)\n",
    "\n",
    "plt.legend(fontsize=16)\n",
    "# save_fig(\"california_housing_prices_plot\")\n",
    "plt.show()"
   ]
  },
  {
   "cell_type": "code",
   "execution_count": null,
   "metadata": {},
   "outputs": [],
   "source": [
    "housing.describe()"
   ]
  },
  {
   "cell_type": "code",
   "execution_count": null,
   "metadata": {},
   "outputs": [],
   "source": [
    "housing['median_house_value'].hist(bins=50)\n",
    "\n",
    "# a = housing['median_house_value'].to_numpy()\n",
    "# print(type(housing['median_house_value']))\n",
    "# print(type(a))\n",
    "\n",
    "# plt.hist(a, 50)"
   ]
  },
  {
   "cell_type": "code",
   "execution_count": null,
   "metadata": {},
   "outputs": [],
   "source": [
    "sum(housing['median_house_value'] == housing.median_house_value.max())"
   ]
  },
  {
   "cell_type": "markdown",
   "metadata": {},
   "source": [
    "Hay 965 distritos que fueron asignados al valor más alto (501 000). Es decir, que en el proceso de obtención de datos, se cortó en ese valor el precio de las casas."
   ]
  },
  {
   "cell_type": "markdown",
   "metadata": {},
   "source": [
    "### Variable categórica"
   ]
  },
  {
   "cell_type": "code",
   "execution_count": null,
   "metadata": {},
   "outputs": [],
   "source": [
    "housing[\"ocean_proximity\"].unique()"
   ]
  },
  {
   "cell_type": "code",
   "execution_count": null,
   "metadata": {},
   "outputs": [],
   "source": [
    "housing[\"ocean_proximity\"].value_counts()"
   ]
  },
  {
   "cell_type": "markdown",
   "metadata": {},
   "source": [
    "Un poco más visual."
   ]
  },
  {
   "cell_type": "code",
   "execution_count": null,
   "metadata": {},
   "outputs": [],
   "source": [
    "ocean_group = housing.groupby('ocean_proximity')\n",
    "ocean_group.count().plot(kind='bar')"
   ]
  },
  {
   "cell_type": "markdown",
   "metadata": {},
   "source": [
    "Hago la estadística para cada categoría de una de las variables (en este caso, \"median house value\")"
   ]
  },
  {
   "cell_type": "code",
   "execution_count": null,
   "metadata": {},
   "outputs": [],
   "source": [
    "ocean_group.describe()['median_house_value'].round(2)"
   ]
  },
  {
   "cell_type": "markdown",
   "metadata": {},
   "source": [
    "Vemos que el precio medio depende fuertemente de la ubicación con respecto al océano, como ya habíamos visto en el plot."
   ]
  },
  {
   "cell_type": "code",
   "execution_count": null,
   "metadata": {},
   "outputs": [],
   "source": [
    "corr_matrix = housing.corr()"
   ]
  },
  {
   "cell_type": "code",
   "execution_count": null,
   "metadata": {},
   "outputs": [],
   "source": [
    "housing.plot(kind='scatter', x='total_rooms', y='total_bedrooms')"
   ]
  },
  {
   "cell_type": "code",
   "execution_count": null,
   "metadata": {},
   "outputs": [],
   "source": [
    "plt.pcolor(corr_matrix)\n",
    "plt.yticks(np.arange(0.5, len(corr_matrix.index), 1), corr_matrix.index, rotation=0)\n",
    "plt.xticks(np.arange(0.5, len(corr_matrix.columns), 1), corr_matrix.columns, rotation=90)\n",
    "plt.colorbar()"
   ]
  },
  {
   "cell_type": "code",
   "execution_count": null,
   "metadata": {
    "scrolled": true
   },
   "outputs": [],
   "source": [
    "corr_matrix['median_house_value'].sort_values(ascending=False)"
   ]
  },
  {
   "cell_type": "code",
   "execution_count": null,
   "metadata": {},
   "outputs": [],
   "source": [
    "ax = housing.plot(kind='scatter', x='median_income', y='median_house_value', alpha=0.1)\n",
    "ax.axvline(housing.median_income.mean(), color='r')\n",
    "ax.axhline(housing.median_house_value.mean(), color='r')\n",
    "ax.plot()"
   ]
  },
  {
   "cell_type": "code",
   "execution_count": null,
   "metadata": {},
   "outputs": [],
   "source": [
    "from pandas.plotting import scatter_matrix\n",
    "\n",
    "attributes = [\"median_house_value\", \"median_income\", \"total_rooms\",\n",
    "              \"housing_median_age\"]\n",
    "sm = scatter_matrix(housing[attributes], figsize=(12, 8), hist_kwds={'bins':100})"
   ]
  },
  {
   "cell_type": "code",
   "execution_count": null,
   "metadata": {},
   "outputs": [],
   "source": [
    "scatter_matrix??"
   ]
  },
  {
   "cell_type": "code",
   "execution_count": null,
   "metadata": {},
   "outputs": [],
   "source": [
    "housing.median_income.describe()"
   ]
  },
  {
   "cell_type": "code",
   "execution_count": null,
   "metadata": {},
   "outputs": [],
   "source": [
    "import pandas as pd\n",
    "housing[\"income_cat\"] = pd.cut(housing[\"median_income\"],\n",
    "                               bins=[0., 1.5, 3.0, 4.5, 6., np.inf],\n",
    "                               labels=[1, 2, 3, 4, 5])"
   ]
  },
  {
   "cell_type": "code",
   "execution_count": null,
   "metadata": {},
   "outputs": [],
   "source": [
    "income_group = housing.groupby(\"income_cat\")\n",
    "income_group.describe()['median_house_value'].round(2)"
   ]
  },
  {
   "cell_type": "markdown",
   "metadata": {},
   "source": [
    "Segementamos por ingreso, pero el número de bins y los límites son arbitrarios."
   ]
  },
  {
   "cell_type": "markdown",
   "metadata": {},
   "source": [
    "### \"infinitos\" bins (regresión lineal)\n",
    "\n",
    "$$\n",
    "\\hat{\\text{median_house_value}} = \\omega_0 + \\omega_1*\\text{median_income}\n",
    "$$\n",
    "\n",
    "$$\n",
    "y = \\omega_0 + \\omega_1 * x\n",
    "$$\n",
    "\n",
    "$\\omega_0$ y $\\omega_1$ son los parámetros de mi modelo."
   ]
  },
  {
   "cell_type": "code",
   "execution_count": null,
   "metadata": {},
   "outputs": [],
   "source": [
    "# Variables predictoras\n",
    "x = housing.median_income.to_numpy()\n",
    "x = x.reshape([-1, 1])\n",
    "\n",
    "# Labels (valores reales) / Targets\n",
    "t = housing.median_house_value.to_numpy()\n",
    "\n",
    "\n",
    "from sklearn.linear_model import LinearRegression\n",
    "\n",
    "lr = LinearRegression()"
   ]
  },
  {
   "cell_type": "markdown",
   "metadata": {},
   "source": [
    "A partir de mi predicción $y$, busco minimizar el MSE (error cuadrático medio)\n",
    "\n",
    "$$\n",
    "\\frac{1}{N}\\sum_{i=1}^{N}(y_i - t_i)^2\n",
    "$$\n",
    "\n",
    "Es más piola usar el RMSE (raíz del error cuadrático medio)\n",
    "\n",
    "$$\n",
    "\\sqrt{\\frac{1}{N}\\sum_{i=1}^{N}(y_i - t_i)^2}\n",
    "$$\n"
   ]
  },
  {
   "cell_type": "code",
   "execution_count": null,
   "metadata": {},
   "outputs": [],
   "source": [
    "lr.fit(x, t)"
   ]
  },
  {
   "cell_type": "code",
   "execution_count": null,
   "metadata": {},
   "outputs": [],
   "source": [
    "y = lr.predict(x)"
   ]
  },
  {
   "cell_type": "code",
   "execution_count": null,
   "metadata": {},
   "outputs": [],
   "source": [
    "plt.hist(y, histtype='step', label='predicción')\n",
    "plt.hist(t, histtype='step', label='target')\n",
    "plt.legend(loc=0)"
   ]
  },
  {
   "cell_type": "code",
   "execution_count": null,
   "metadata": {},
   "outputs": [],
   "source": [
    "rmse = np.sqrt(np.sum((y - t)**2)/len(y))\n",
    "print('El RMSE del modelo lineal es {:.3f}'.format(rmse))"
   ]
  },
  {
   "cell_type": "code",
   "execution_count": null,
   "metadata": {},
   "outputs": [],
   "source": [
    "plt.plot(x, t, '.b', alpha=0.1)\n",
    "plt.plot(x, y, 'or')\n",
    "plt.xlabel('x = median_income')\n",
    "plt.ylabel('y = median_house_value')"
   ]
  },
  {
   "cell_type": "code",
   "execution_count": null,
   "metadata": {},
   "outputs": [],
   "source": [
    "lr.coef_, lr.intercept_"
   ]
  },
  {
   "cell_type": "code",
   "execution_count": null,
   "metadata": {},
   "outputs": [],
   "source": []
  }
 ],
 "metadata": {
  "kernelspec": {
   "display_name": "Python 3",
   "language": "python",
   "name": "python3"
  },
  "language_info": {
   "codemirror_mode": {
    "name": "ipython",
    "version": 3
   },
   "file_extension": ".py",
   "mimetype": "text/x-python",
   "name": "python",
   "nbconvert_exporter": "python",
   "pygments_lexer": "ipython3",
   "version": "3.8.3"
  },
  "nav_menu": {
   "height": "279px",
   "width": "309px"
  },
  "toc": {
   "nav_menu": {},
   "number_sections": true,
   "sideBar": true,
   "skip_h1_title": false,
   "toc_cell": false,
   "toc_position": {},
   "toc_section_display": "block",
   "toc_window_display": false
  }
 },
 "nbformat": 4,
 "nbformat_minor": 4
}
