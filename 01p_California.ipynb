{
  "nbformat": 4,
  "nbformat_minor": 0,
  "metadata": {
    "colab": {
      "name": "01p_California.ipynb",
      "provenance": [],
      "collapsed_sections": [
        "2k7kkTDZwuB9",
        "OW9PLnzx8r6B",
        "VOEumX243htu",
        "wk6u0MaIGvVn",
        "VCp1NAk0Gy3H",
        "_ZL_AUp4G1jT",
        "uc6cdepvJQhN",
        "OHfKOCz_stF5",
        "LJsApqyDWTr8"
      ]
    },
    "kernelspec": {
      "name": "python3",
      "display_name": "Python 3"
    }
  },
  "cells": [
    {
      "cell_type": "markdown",
      "metadata": {
        "id": "BVZ6uqpoteyT",
        "colab_type": "text"
      },
      "source": [
        "# Una breve introduccion a lo que queremos del curso\n",
        "\n",
        "Este notebook introduce un ejemplo de lo que queremos que sepan hacer hacia el final del curso. Conceptualmente, el procedimiento es:\n",
        "\n",
        "*   Explorar los datos (que lo hicieron con Rodrigo)\n",
        "*   Plantear el problema a resolver\n",
        "*   Preprocesar los datos a un formato adecuado\n",
        "*   Elegir algoritmos\n",
        "*   Fittear y validar\n",
        "*   Decidir el algoritmo final, y testear\n",
        "\n",
        "\n"
      ]
    },
    {
      "cell_type": "markdown",
      "metadata": {
        "id": "R1BGWisEvtpg",
        "colab_type": "text"
      },
      "source": [
        "Antes que nada, importamos algunos paquetes"
      ]
    },
    {
      "cell_type": "code",
      "metadata": {
        "id": "MBKZj7ZusPd9",
        "colab_type": "code",
        "colab": {}
      },
      "source": [
        "import numpy as np\n",
        "import os\n",
        "import tarfile\n",
        "import sklearn\n",
        "import matplotlib.pyplot as plt\n",
        "%matplotlib inline\n",
        "# to make this notebook's output stable across runs\n",
        "np.random.seed(42)\n",
        "import pandas as pd\n",
        "from pandas.plotting import scatter_matrix\n",
        "from sklearn.model_selection import train_test_split\n",
        "from sklearn.model_selection import StratifiedShuffleSplit\n",
        "from sklearn.preprocessing import StandardScaler\n",
        "from sklearn.impute import SimpleImputer\n",
        "from sklearn.pipeline import Pipeline\n",
        "from sklearn.preprocessing import OneHotEncoder\n",
        "from sklearn.compose import ColumnTransformer\n",
        "\n",
        "from sklearn.linear_model import LinearRegression\n",
        "from sklearn.model_selection import cross_val_score\n",
        "from sklearn.metrics import mean_squared_error\n",
        "from sklearn.metrics import mean_absolute_error\n",
        "from sklearn.tree import DecisionTreeRegressor\n",
        "from sklearn.ensemble import RandomForestRegressor\n",
        "from sklearn.model_selection import GridSearchCV\n",
        "from sklearn import tree\n"
      ],
      "execution_count": null,
      "outputs": []
    },
    {
      "cell_type": "markdown",
      "metadata": {
        "id": "_bcuzVcmudwx",
        "colab_type": "text"
      },
      "source": [
        "# Los datos\n",
        "\n",
        "Vamos a utilizar el dataset de California. Una buena practica es, si los datos lo permiten, separar un conjunto de test que voy a utilizar solamente al final de todo, para evaluar todo lo que hice."
      ]
    },
    {
      "cell_type": "markdown",
      "metadata": {
        "id": "2k7kkTDZwuB9",
        "colab_type": "text"
      },
      "source": [
        "## Si usamos el default de google collab"
      ]
    },
    {
      "cell_type": "code",
      "metadata": {
        "id": "oXgeymxrvdSr",
        "colab_type": "code",
        "colab": {}
      },
      "source": [
        "california_housing_train=pd.read_csv('sample_data/california_housing_train.csv')\n",
        "california_housing_test=pd.read_csv('sample_data/california_housing_test.csv')"
      ],
      "execution_count": null,
      "outputs": []
    },
    {
      "cell_type": "code",
      "metadata": {
        "id": "ZEhfi3yOxr7k",
        "colab_type": "code",
        "colab": {}
      },
      "source": [
        "california_housing_train.info()"
      ],
      "execution_count": null,
      "outputs": []
    },
    {
      "cell_type": "code",
      "metadata": {
        "id": "HySZlHRZxvdl",
        "colab_type": "code",
        "colab": {}
      },
      "source": [
        "california_housing_test.info()"
      ],
      "execution_count": null,
      "outputs": []
    },
    {
      "cell_type": "markdown",
      "metadata": {
        "id": "OF9F9DBRwwoa",
        "colab_type": "text"
      },
      "source": [
        "## Si usamos el del Geron"
      ]
    },
    {
      "cell_type": "code",
      "metadata": {
        "id": "C7ocQKpVwx_c",
        "colab_type": "code",
        "colab": {}
      },
      "source": [
        "DOWNLOAD_ROOT = \"https://raw.githubusercontent.com/IAI-UNSAM/ML_UNSAM/master/\"\n",
        "HOUSING_PATH = os.path.join(\".\", \"datasets\", \"housing\")\n",
        "HOUSING_URL = DOWNLOAD_ROOT + \"datasets/housing/housing.tgz\"\n",
        "\n",
        "def fetch_housing_data(housing_url=HOUSING_URL, housing_path=HOUSING_PATH):\n",
        "    os.makedirs(housing_path, exist_ok=True)\n",
        "    tgz_path = os.path.join(housing_path, \"housing.tgz\")\n",
        "    #urllib.request.urlretrieve(housing_url, tgz_path)\n",
        "    !wget http://raw.githubusercontent.com/IAI-UNSAM/ML_UNSAM/master/datasets/housing/housing.tgz -P {housing_path}\n",
        "    housing_tgz = tarfile.open(tgz_path)\n",
        "    housing_tgz.extractall(path=housing_path)\n",
        "    housing_tgz.close()\n",
        "\n",
        "fetch_housing_data()\n",
        "\n",
        "def load_housing_data(housing_path=HOUSING_PATH):\n",
        "    csv_path = os.path.join(housing_path, \"housing.csv\")\n",
        "    return pd.read_csv(csv_path)\n",
        "\n",
        "housing_pre = load_housing_data()\n",
        "\n",
        "housing_pre[\"income_cat\"] = pd.cut(housing_pre[\"median_income\"],\n",
        "                               bins=[0., 1.5, 3.0, 4.5, 6., np.inf],\n",
        "                               labels=[1, 2, 3, 4, 5])\n",
        "\n",
        "split = StratifiedShuffleSplit(n_splits=1, test_size=0.2, random_state=445543)\n",
        "for train_index, test_index in split.split(housing_pre, housing_pre[\"income_cat\"]):\n",
        "    california_housing_train = housing_pre.loc[train_index]\n",
        "    california_housing_test = housing_pre.loc[test_index]\n",
        "\n",
        "for set_ in (california_housing_train, california_housing_test):\n",
        "    set_.drop(\"income_cat\", axis=1, inplace=True)"
      ],
      "execution_count": null,
      "outputs": []
    },
    {
      "cell_type": "code",
      "metadata": {
        "id": "NfNjCB8vyDLv",
        "colab_type": "code",
        "colab": {}
      },
      "source": [
        "california_housing_train.info()"
      ],
      "execution_count": null,
      "outputs": []
    },
    {
      "cell_type": "code",
      "metadata": {
        "id": "253kKL45yhtm",
        "colab_type": "code",
        "colab": {}
      },
      "source": [
        "california_housing_test.info()"
      ],
      "execution_count": null,
      "outputs": []
    },
    {
      "cell_type": "markdown",
      "metadata": {
        "id": "nwaNIKHnykOA",
        "colab_type": "text"
      },
      "source": [
        "## Exploremos los datos (nuevamente)"
      ]
    },
    {
      "cell_type": "code",
      "metadata": {
        "id": "iVcyUq2Yyjrl",
        "colab_type": "code",
        "colab": {}
      },
      "source": [
        "housing=california_housing_train.copy()"
      ],
      "execution_count": null,
      "outputs": []
    },
    {
      "cell_type": "code",
      "metadata": {
        "id": "RNAP4XRRy3lg",
        "colab_type": "code",
        "colab": {}
      },
      "source": [
        "housing.hist(bins=50, figsize=(20,15))"
      ],
      "execution_count": null,
      "outputs": []
    },
    {
      "cell_type": "code",
      "metadata": {
        "id": "RjcLoYcuy4PW",
        "colab_type": "code",
        "colab": {}
      },
      "source": [
        "attributes = [\"median_house_value\", \"median_income\", \"total_rooms\",\n",
        "              \"housing_median_age\"]\n",
        "scatter_matrix(housing[attributes], figsize=(12, 8))"
      ],
      "execution_count": null,
      "outputs": []
    },
    {
      "cell_type": "code",
      "metadata": {
        "id": "Jm37PZGwzZlO",
        "colab_type": "code",
        "colab": {}
      },
      "source": [
        "corr_matrix = housing.corr()\n",
        "corr_matrix[\"median_house_value\"].sort_values(ascending=False)\n"
      ],
      "execution_count": null,
      "outputs": []
    },
    {
      "cell_type": "code",
      "metadata": {
        "id": "U2omPvrrz-3T",
        "colab_type": "code",
        "colab": {}
      },
      "source": [
        "housing[\"rooms_per_household\"] = housing[\"total_rooms\"]/housing[\"households\"]\n",
        "housing[\"bedrooms_per_room\"] = housing[\"total_bedrooms\"]/housing[\"total_rooms\"]\n",
        "housing[\"population_per_household\"]=housing[\"population\"]/housing[\"households\"]"
      ],
      "execution_count": null,
      "outputs": []
    },
    {
      "cell_type": "code",
      "metadata": {
        "id": "jR_qCyEkBPw9",
        "colab_type": "code",
        "colab": {}
      },
      "source": [
        "housing.info()"
      ],
      "execution_count": null,
      "outputs": []
    },
    {
      "cell_type": "code",
      "metadata": {
        "id": "JUaKp0J2ATpE",
        "colab_type": "code",
        "colab": {}
      },
      "source": [
        "set(housing[\"ocean_proximity\"].values)"
      ],
      "execution_count": null,
      "outputs": []
    },
    {
      "cell_type": "markdown",
      "metadata": {
        "id": "4ecDPO7K0C86",
        "colab_type": "text"
      },
      "source": [
        "# Preprocesado de datos\n",
        "\n",
        "El objetivo es poder predecir la mediana del precio de un distrito por sus caracteristicas. Es un problema de regresion univariada supervisada donde mi target es \"median_house_value\" y mis features son todas las otras categorias."
      ]
    },
    {
      "cell_type": "markdown",
      "metadata": {
        "id": "OW9PLnzx8r6B",
        "colab_type": "text"
      },
      "source": [
        "## Datos colab:"
      ]
    },
    {
      "cell_type": "code",
      "metadata": {
        "id": "O95FUXvk0TCQ",
        "colab_type": "code",
        "colab": {}
      },
      "source": [
        "housing_labels = housing[\"median_house_value\"].copy()\n",
        "housing_num = housing.drop(\"median_house_value\", axis=1) # drop labels for training set"
      ],
      "execution_count": null,
      "outputs": []
    },
    {
      "cell_type": "code",
      "metadata": {
        "id": "srF3O03W1MM9",
        "colab_type": "code",
        "colab": {}
      },
      "source": [
        "\n",
        "num_pipeline = Pipeline([\n",
        "        ('imputer', SimpleImputer(strategy=\"median\")),\n",
        "        ('std_scaler', StandardScaler()),\n",
        "    ])\n",
        "\n",
        "housing_prepared = num_pipeline.fit_transform(housing_num)\n",
        "\n"
      ],
      "execution_count": null,
      "outputs": []
    },
    {
      "cell_type": "code",
      "metadata": {
        "id": "LSkqDWX91hiq",
        "colab_type": "code",
        "colab": {}
      },
      "source": [
        "housing_prepared.head(10)"
      ],
      "execution_count": null,
      "outputs": []
    },
    {
      "cell_type": "code",
      "metadata": {
        "id": "kqAHsvw71l9I",
        "colab_type": "code",
        "colab": {}
      },
      "source": [
        ""
      ],
      "execution_count": null,
      "outputs": []
    },
    {
      "cell_type": "markdown",
      "metadata": {
        "id": "kBpv3Py5-QlU",
        "colab_type": "text"
      },
      "source": [
        "## Datos Geron:\n",
        "\n",
        "Voy a separar el target y escalear las variables numericas y re-expresar las categoricas. Combino todo en un pipeline."
      ]
    },
    {
      "cell_type": "code",
      "metadata": {
        "id": "goHRMguT-T7M",
        "colab_type": "code",
        "colab": {}
      },
      "source": [
        "housing_labels = housing[\"median_house_value\"].copy()\n",
        "# label_scaler=StandardScaler()\n",
        "# housing_labels_scaled=label_scaler.fit_transform(np.asarray(housing_labels).reshape(-1,1))[:,0]\n",
        "housing = housing.drop(\"median_house_value\", axis=1) # drop labels for training set\n",
        "housing_cat = housing[[\"ocean_proximity\"]]\n",
        "housing_num = housing.drop(\"ocean_proximity\", axis=1)"
      ],
      "execution_count": null,
      "outputs": []
    },
    {
      "cell_type": "code",
      "metadata": {
        "id": "G-5PmE8f-hqQ",
        "colab_type": "code",
        "colab": {}
      },
      "source": [
        "num_pipeline = Pipeline([\n",
        "        ('imputer', SimpleImputer(strategy=\"median\")),#hay mas opciones aca\n",
        "        ('std_scaler', StandardScaler()),\n",
        "    ])\n",
        "\n",
        "num_attribs = list(housing_num)\n",
        "cat_attribs = [\"ocean_proximity\"]\n",
        "\n",
        "full_pipeline = ColumnTransformer([\n",
        "        (\"num\", num_pipeline, num_attribs),\n",
        "        (\"cat\", OneHotEncoder(), cat_attribs),\n",
        "    ])\n",
        "\n",
        "housing_prepared = full_pipeline.fit_transform(housing)"
      ],
      "execution_count": null,
      "outputs": []
    },
    {
      "cell_type": "code",
      "metadata": {
        "id": "jvkYbsdMiC0d",
        "colab_type": "code",
        "colab": {}
      },
      "source": [
        "num_pipeline.fit_transform(housing_num)"
      ],
      "execution_count": null,
      "outputs": []
    },
    {
      "cell_type": "code",
      "metadata": {
        "id": "OqAs8YEBiTCu",
        "colab_type": "code",
        "colab": {}
      },
      "source": [
        "num_pipeline.named_steps['std_scaler'].mean_"
      ],
      "execution_count": null,
      "outputs": []
    },
    {
      "cell_type": "code",
      "metadata": {
        "id": "mMEoGbiH_lhZ",
        "colab_type": "code",
        "colab": {}
      },
      "source": [
        "housing_prepared[0,:]"
      ],
      "execution_count": null,
      "outputs": []
    },
    {
      "cell_type": "markdown",
      "metadata": {
        "id": "VOEumX243htu",
        "colab_type": "text"
      },
      "source": [
        "# Regresion\n",
        "\n",
        "Vamos a resolver el problema. Voy a probar varios algoritmos (sin justificarlos bien, ya los vamos a ver) y evaluar la performance."
      ]
    },
    {
      "cell_type": "markdown",
      "metadata": {
        "id": "wk6u0MaIGvVn",
        "colab_type": "text"
      },
      "source": [
        "## Underfitting con Regresion Lineal\n",
        "\n",
        "Defino otro Pipeline solo para mostrar, no es estrictamente necesario."
      ]
    },
    {
      "cell_type": "code",
      "metadata": {
        "id": "emq7A8ZU3kGc",
        "colab_type": "code",
        "colab": {}
      },
      "source": [
        "full_pipeline_with_predictor_lr = Pipeline([\n",
        "        (\"preparation\", full_pipeline),\n",
        "        (\"linear\", LinearRegression())\n",
        "    ])\n",
        "\n",
        "scores_lr=cross_val_score(full_pipeline_with_predictor_lr, housing, housing_labels,scoring=\"neg_mean_squared_error\", cv=10)#no lo aplico en housing_prepared, no deberia cambiar pero igual\n",
        "cross_scores_lr = np.sqrt(-scores_lr)\n",
        "\n",
        "print(\"Puntajes:\", cross_scores_lr)\n",
        "print(\"Media:\", cross_scores_lr.mean())\n",
        "print(\"Desviacion Estandar:\", cross_scores_lr.std())\n",
        "\n",
        "full_pipeline_with_predictor_lr.fit(housing, housing_labels)\n",
        "predictions_lr=full_pipeline_with_predictor_lr.predict(housing)\n",
        "print(\"Ejemplo: \", (round(predictions_lr[100]),housing_labels[100]))\n",
        "print(\"MSE Total del conjunto de entrenamiento:\", np.sqrt(mean_squared_error(predictions_lr,housing_labels)))"
      ],
      "execution_count": null,
      "outputs": []
    },
    {
      "cell_type": "code",
      "metadata": {
        "id": "nbhC7vCuNcpk",
        "colab_type": "code",
        "colab": {}
      },
      "source": [
        "x=np.linspace(min(housing_labels),max(housing_labels),3)\n",
        "plt.scatter(housing_labels,predictions_lr)\n",
        "plt.plot(x,x,color='red')\n",
        "plt.xlabel('t')\n",
        "plt.ylabel('y')"
      ],
      "execution_count": null,
      "outputs": []
    },
    {
      "cell_type": "markdown",
      "metadata": {
        "id": "VCp1NAk0Gy3H",
        "colab_type": "text"
      },
      "source": [
        "## Overfitting con Decision Tree"
      ]
    },
    {
      "cell_type": "code",
      "metadata": {
        "id": "IEaHs-zmIWZh",
        "colab_type": "code",
        "colab": {}
      },
      "source": [
        "tree_reg = DecisionTreeRegressor(random_state=42)#,max_depth=5\n",
        "tree_reg.fit(housing_prepared, housing_labels)\n"
      ],
      "execution_count": null,
      "outputs": []
    },
    {
      "cell_type": "code",
      "metadata": {
        "id": "d-wPx3r3MUXZ",
        "colab_type": "code",
        "colab": {}
      },
      "source": [
        "x=np.linspace(min(housing_labels),max(housing_labels),3)\n",
        "plt.scatter(housing_labels,tree_reg.predict(housing_prepared))\n",
        "plt.plot(x,x,color='red')"
      ],
      "execution_count": null,
      "outputs": []
    },
    {
      "cell_type": "code",
      "metadata": {
        "id": "Qu8WTVBoIrE_",
        "colab_type": "code",
        "colab": {}
      },
      "source": [
        "housing_predictions = tree_reg.predict(housing_prepared)\n",
        "tree_mse = mean_squared_error(housing_labels, housing_predictions)\n",
        "tree_rmse = np.sqrt(tree_mse)\n",
        "tree_rmse"
      ],
      "execution_count": null,
      "outputs": []
    },
    {
      "cell_type": "code",
      "metadata": {
        "id": "dmopLBfwImyp",
        "colab_type": "code",
        "colab": {}
      },
      "source": [
        "scores = cross_val_score(tree_reg, housing_prepared, housing_labels,\n",
        "                         scoring=\"neg_mean_squared_error\", cv=10)\n",
        "tree_rmse_scores = np.sqrt(-scores)\n",
        "\n",
        "print(\"Puntajes:\", tree_rmse_scores)\n",
        "print(\"Media:\", tree_rmse_scores.mean())\n",
        "print(\"Desviacion Estandar:\", tree_rmse_scores.std())"
      ],
      "execution_count": null,
      "outputs": []
    },
    {
      "cell_type": "code",
      "metadata": {
        "id": "7LJVjpSxzvRk",
        "colab_type": "code",
        "colab": {}
      },
      "source": [
        "tree.plot_tree(tree_reg) \n",
        "plt.show()"
      ],
      "execution_count": null,
      "outputs": []
    },
    {
      "cell_type": "markdown",
      "metadata": {
        "id": "_ZL_AUp4G1jT",
        "colab_type": "text"
      },
      "source": [
        "## Fitting con RandomForest"
      ]
    },
    {
      "cell_type": "code",
      "metadata": {
        "id": "2k6F8Vnx3kuZ",
        "colab_type": "code",
        "colab": {}
      },
      "source": [
        "param_grid = [\n",
        "    # try 12 (3×4) combinations of hyperparameters\n",
        "    {'n_estimators': [3, 10, 30], 'max_features': [2, 4, 6, 8]},\n",
        "    # then try 6 (2×3) combinations with bootstrap set as False\n",
        "    {'bootstrap': [False], 'n_estimators': [3, 10], 'max_features': [2, 3, 4]},\n",
        "  ]\n",
        "\n",
        "forest_reg = RandomForestRegressor(random_state=42)\n",
        "# train across 5 folds, that's a total of (12+6)*5=90 rounds of training \n",
        "grid_search = GridSearchCV(forest_reg, param_grid, cv=5,\n",
        "                           scoring='neg_mean_squared_error',\n",
        "                           return_train_score=True)\n",
        "grid_search.fit(housing_prepared, housing_labels)"
      ],
      "execution_count": null,
      "outputs": []
    },
    {
      "cell_type": "code",
      "metadata": {
        "id": "J3OKERviFNSF",
        "colab_type": "code",
        "colab": {}
      },
      "source": [
        "print(\"Best params:\", grid_search.best_params_)\n",
        "print(\"Best estimator:\", grid_search.best_estimator_)\n"
      ],
      "execution_count": null,
      "outputs": []
    },
    {
      "cell_type": "code",
      "metadata": {
        "id": "eNiu6CURFlfP",
        "colab_type": "code",
        "colab": {}
      },
      "source": [
        "cvres = grid_search.cv_results_\n",
        "for mean_score, std, params in zip(cvres[\"mean_test_score\"], cvres[\"std_test_score\"], cvres[\"params\"]):\n",
        "    print(np.sqrt(-mean_score), np.sqrt(std),params)"
      ],
      "execution_count": null,
      "outputs": []
    },
    {
      "cell_type": "code",
      "metadata": {
        "id": "YDjUbtpfFidO",
        "colab_type": "code",
        "colab": {}
      },
      "source": [
        "best_rf=grid_search.best_estimator_\n",
        "print(\"Example: \", round(best_rf.predict(housing_prepared)[100]),housing_labels[100])\n",
        "print(\"Train MSE: \",np.sqrt(mean_squared_error(best_rf.predict(housing_prepared),housing_labels)))"
      ],
      "execution_count": null,
      "outputs": []
    },
    {
      "cell_type": "code",
      "metadata": {
        "id": "XvVUpsx2IRqC",
        "colab_type": "code",
        "colab": {}
      },
      "source": [
        "x=np.linspace(min(housing_labels),max(housing_labels),3)\n",
        "plt.scatter(housing_labels,best_rf.predict(housing_prepared))\n",
        "plt.plot(x,x,color='red')"
      ],
      "execution_count": null,
      "outputs": []
    },
    {
      "cell_type": "markdown",
      "metadata": {
        "id": "uc6cdepvJQhN",
        "colab_type": "text"
      },
      "source": [
        "## Una Red Neuronal"
      ]
    },
    {
      "cell_type": "code",
      "metadata": {
        "id": "T1Db32UoJS__",
        "colab_type": "code",
        "colab": {}
      },
      "source": [
        "import tensorflow as tf\n",
        "from tensorflow import keras\n",
        "tf.random.set_seed(42)\n",
        "keras.backend.clear_session()\n"
      ],
      "execution_count": null,
      "outputs": []
    },
    {
      "cell_type": "code",
      "metadata": {
        "id": "5CJdx1htbm0S",
        "colab_type": "code",
        "colab": {}
      },
      "source": [
        "X_train, X_valid, y_train, y_valid = train_test_split(housing_num, housing_labels, random_state=42)\n",
        "X_train_proc=num_pipeline.fit_transform(X_train)\n",
        "X_valid_proc=num_pipeline.transform(X_valid)"
      ],
      "execution_count": null,
      "outputs": []
    },
    {
      "cell_type": "code",
      "metadata": {
        "id": "KDYUTqTUd3YF",
        "colab_type": "code",
        "colab": {}
      },
      "source": [
        "# print(np.asarray(y_train).reshape(-1,1).shape)\n",
        "\n",
        "scaler = StandardScaler()\n",
        "y_train_proc = scaler.fit_transform(np.asarray(y_train).reshape(-1,1))\n",
        "y_valid_proc = scaler.transform(np.asarray(y_valid).reshape(-1,1))\n"
      ],
      "execution_count": null,
      "outputs": []
    },
    {
      "cell_type": "code",
      "metadata": {
        "id": "VsUBLQGsfPBB",
        "colab_type": "code",
        "colab": {}
      },
      "source": [
        "y_train_proc[:,0].shape"
      ],
      "execution_count": null,
      "outputs": []
    },
    {
      "cell_type": "code",
      "metadata": {
        "id": "gxVcZz0WOiFj",
        "colab_type": "code",
        "colab": {}
      },
      "source": [
        "input_shape = X_train_proc.shape[1:]\n",
        "batch_size = 128\n",
        "epochs = 50"
      ],
      "execution_count": null,
      "outputs": []
    },
    {
      "cell_type": "code",
      "metadata": {
        "id": "yqx1scsFO-JW",
        "colab_type": "code",
        "colab": {}
      },
      "source": [
        "model = keras.models.Sequential([\n",
        "    keras.layers.Dense(30, activation=\"relu\", input_shape=input_shape),\n",
        "    # keras.layers.Dense(30, activation=\"relu\"),\n",
        "    keras.layers.Dense(1)\n",
        "])"
      ],
      "execution_count": null,
      "outputs": []
    },
    {
      "cell_type": "code",
      "metadata": {
        "id": "onONJ2yEO_uN",
        "colab_type": "code",
        "colab": {}
      },
      "source": [
        "\n",
        "model.compile(loss=\"mean_squared_error\", optimizer=keras.optimizers.SGD(lr=1e-3))"
      ],
      "execution_count": null,
      "outputs": []
    },
    {
      "cell_type": "code",
      "metadata": {
        "id": "eo5Hs0yKPvXQ",
        "colab_type": "code",
        "colab": {}
      },
      "source": [
        "model.summary()"
      ],
      "execution_count": null,
      "outputs": []
    },
    {
      "cell_type": "code",
      "metadata": {
        "id": "vDYKCCKXP6yP",
        "colab_type": "code",
        "colab": {}
      },
      "source": [
        "early_stopping_cb = keras.callbacks.EarlyStopping(patience=10,\n",
        "                                                  restore_best_weights=True)\n",
        "history = model.fit(X_train_proc, y_train_proc[:,0], epochs=epochs,\n",
        "                    validation_data=(X_valid_proc, y_valid_proc[:,0]),\n",
        "                    callbacks=[early_stopping_cb])"
      ],
      "execution_count": null,
      "outputs": []
    },
    {
      "cell_type": "code",
      "metadata": {
        "id": "TlLswlXvQHp8",
        "colab_type": "code",
        "colab": {}
      },
      "source": [
        "pd.DataFrame(history.history).plot()\n",
        "plt.grid(True)\n",
        "plt.gca().set_ylim(0, 1)\n",
        "plt.show()"
      ],
      "execution_count": null,
      "outputs": []
    },
    {
      "cell_type": "code",
      "metadata": {
        "id": "Iysn_jZBS2V4",
        "colab_type": "code",
        "colab": {}
      },
      "source": [
        "mse_train = model.evaluate(X_train_proc, y_train_proc)"
      ],
      "execution_count": null,
      "outputs": []
    },
    {
      "cell_type": "code",
      "metadata": {
        "id": "QSe0PZJaRKxg",
        "colab_type": "code",
        "colab": {}
      },
      "source": [
        "x=np.linspace(min(y_train_proc[:,0]),max(y_train_proc[:,0]),3)\n",
        "plt.scatter(y_train_proc[:,0],model.predict(X_train_proc))\n",
        "plt.plot(x,x,color='red')"
      ],
      "execution_count": null,
      "outputs": []
    },
    {
      "cell_type": "code",
      "metadata": {
        "id": "Wkk2c-q9TH7g",
        "colab_type": "code",
        "colab": {}
      },
      "source": [
        ""
      ],
      "execution_count": null,
      "outputs": []
    },
    {
      "cell_type": "markdown",
      "metadata": {
        "id": "OHfKOCz_stF5",
        "colab_type": "text"
      },
      "source": [
        "# Vamos al Test\n",
        "\n",
        "Esto esta incompleto para llenarlo en clase. Despues de clase subo la version _en vivo_."
      ]
    },
    {
      "cell_type": "code",
      "metadata": {
        "id": "UDbfuVQHsubH",
        "colab_type": "code",
        "colab": {}
      },
      "source": [
        "housing_test=california_housing_test.copy()\n",
        "housing_test[\"rooms_per_household\"] = housing_test[\"total_rooms\"]/housing_test[\"households\"]\n",
        "housing_test[\"bedrooms_per_room\"] = housing_test[\"total_bedrooms\"]/housing_test[\"total_rooms\"]\n",
        "housing_test[\"population_per_household\"]=housing_test[\"population\"]/housing_test[\"households\"]"
      ],
      "execution_count": null,
      "outputs": []
    },
    {
      "cell_type": "code",
      "metadata": {
        "id": "0LT7dSsng29_",
        "colab_type": "code",
        "colab": {}
      },
      "source": [
        "housing_test_labels = housing_test[\"median_house_value\"].copy()\n",
        "housing_test = housing_test.drop(\"median_house_value\", axis=1) # drop labels for training set\n",
        "housing_test_cat = housing_test[[\"ocean_proximity\"]]\n",
        "housing_test_num = housing_test.drop(\"ocean_proximity\", axis=1)"
      ],
      "execution_count": null,
      "outputs": []
    },
    {
      "cell_type": "code",
      "metadata": {
        "id": "JxiZY_9XhGk4",
        "colab_type": "code",
        "colab": {}
      },
      "source": [
        "housing_test_prepared = full_pipeline.transform(housing_test)"
      ],
      "execution_count": null,
      "outputs": []
    },
    {
      "cell_type": "markdown",
      "metadata": {
        "id": "LJsApqyDWTr8",
        "colab_type": "text"
      },
      "source": [
        "# Algunos ejericicios (que pueden ser para dentro de unas clases...)\n",
        "\n",
        "\n",
        "\n",
        "*   Esta bueno poder mostrar un grafico lindo. En particular, el mapa de latitud y longitud es bastante claro. Juegue con los tres algoritmos que utilizamos pero ahora utilizando como features latitud y longitud. Para cada algoritmo dibuje el mapa y las regiones inferidas de precio utilizando plt.contourf. Por que sugerimos utilizar unicamente dos variables a la hora de entrenar en lugar de utilizar los algoritmos ya entrenados?\n",
        "*   Reemplaze el GridSearchCV por el RandomizedSearchCV. No se preocupe, lo vamos a ver en detalle mas adelante.\n",
        "*   Fijese si puede juntar el preprocesado de los datos y los distintos algoritmos en un solo Pipeline. Que hiperparametros tiene? Puede implementarlos en GridSearchCV?\n",
        "\n",
        "\n"
      ]
    },
    {
      "cell_type": "code",
      "metadata": {
        "id": "jfnlqSPoWVfK",
        "colab_type": "code",
        "colab": {}
      },
      "source": [
        ""
      ],
      "execution_count": null,
      "outputs": []
    }
  ]
}