{
  "nbformat": 4,
  "nbformat_minor": 0,
  "metadata": {
    "colab": {
      "name": "01p_California.ipynb",
      "provenance": [],
      "collapsed_sections": [
        "2k7kkTDZwuB9",
        "OW9PLnzx8r6B",
        "VOEumX243htu",
        "wk6u0MaIGvVn",
        "VCp1NAk0Gy3H",
        "_ZL_AUp4G1jT",
        "uc6cdepvJQhN",
        "LJsApqyDWTr8"
      ]
    },
    "kernelspec": {
      "name": "python3",
      "display_name": "Python 3"
    }
  },
  "cells": [
    {
      "cell_type": "markdown",
      "metadata": {
        "id": "BVZ6uqpoteyT",
        "colab_type": "text"
      },
      "source": [
        "# Una breve introduccion a lo que queremos del curso\n",
        "\n",
        "Este notebook introduce un ejemplo de lo que queremos que sepan hacer hacia el final del curso. Conceptualmente, el procedimiento es:\n",
        "\n",
        "*   Explorar los datos (que lo hicieron con Rodrigo)\n",
        "*   Plantear el problema a resolver\n",
        "*   Preprocesar los datos a un formato adecuado\n",
        "*   Elegir algoritmos\n",
        "*   Fittear y validar\n",
        "*   Decidir el algoritmo final, y testear\n",
        "\n",
        "\n"
      ]
    },
    {
      "cell_type": "markdown",
      "metadata": {
        "id": "R1BGWisEvtpg",
        "colab_type": "text"
      },
      "source": [
        "Antes que nada, importamos algunos paquetes"
      ]
    },
    {
      "cell_type": "code",
      "metadata": {
        "id": "MBKZj7ZusPd9",
        "colab_type": "code",
        "colab": {}
      },
      "source": [
        "import numpy as np\n",
        "import os\n",
        "import tarfile\n",
        "import sklearn\n",
        "import matplotlib.pyplot as plt\n",
        "%matplotlib inline\n",
        "# to make this notebook's output stable across runs\n",
        "np.random.seed(42)\n",
        "import pandas as pd\n",
        "from pandas.plotting import scatter_matrix\n",
        "from sklearn.model_selection import train_test_split\n",
        "from sklearn.model_selection import StratifiedShuffleSplit\n",
        "from sklearn.preprocessing import StandardScaler\n",
        "from sklearn.impute import SimpleImputer\n",
        "from sklearn.pipeline import Pipeline\n",
        "from sklearn.preprocessing import OneHotEncoder\n",
        "from sklearn.compose import ColumnTransformer\n",
        "\n",
        "from sklearn.linear_model import LinearRegression\n",
        "from sklearn.model_selection import cross_val_score\n",
        "from sklearn.metrics import mean_squared_error\n",
        "from sklearn.metrics import mean_absolute_error\n",
        "from sklearn.tree import DecisionTreeRegressor\n",
        "from sklearn.ensemble import RandomForestRegressor\n",
        "from sklearn.model_selection import GridSearchCV\n",
        "from sklearn import tree\n"
      ],
      "execution_count": null,
      "outputs": []
    },
    {
      "cell_type": "markdown",
      "metadata": {
        "id": "_bcuzVcmudwx",
        "colab_type": "text"
      },
      "source": [
        "# Los datos\n",
        "\n",
        "Vamos a utilizar el dataset de California. Una buena practica es, si los datos lo permiten, separar un conjunto de test que voy a utilizar solamente al final de todo, para evaluar todo lo que hice."
      ]
    },
    {
      "cell_type": "markdown",
      "metadata": {
        "id": "2k7kkTDZwuB9",
        "colab_type": "text"
      },
      "source": [
        "## Si usamos el default de google collab"
      ]
    },
    {
      "cell_type": "code",
      "metadata": {
        "id": "oXgeymxrvdSr",
        "colab_type": "code",
        "colab": {}
      },
      "source": [
        "california_housing_train=pd.read_csv('sample_data/california_housing_train.csv')\n",
        "california_housing_test=pd.read_csv('sample_data/california_housing_test.csv')"
      ],
      "execution_count": null,
      "outputs": []
    },
    {
      "cell_type": "code",
      "metadata": {
        "id": "ZEhfi3yOxr7k",
        "colab_type": "code",
        "colab": {}
      },
      "source": [
        "california_housing_train.info()"
      ],
      "execution_count": null,
      "outputs": []
    },
    {
      "cell_type": "code",
      "metadata": {
        "id": "HySZlHRZxvdl",
        "colab_type": "code",
        "colab": {}
      },
      "source": [
        "california_housing_test.info()"
      ],
      "execution_count": null,
      "outputs": []
    },
    {
      "cell_type": "markdown",
      "metadata": {
        "id": "OF9F9DBRwwoa",
        "colab_type": "text"
      },
      "source": [
        "## Si usamos el del Geron"
      ]
    },
    {
      "cell_type": "code",
      "metadata": {
        "id": "C7ocQKpVwx_c",
        "colab_type": "code",
        "colab": {
          "base_uri": "https://localhost:8080/",
          "height": 221
        },
        "outputId": "c3c3facf-935e-4b1d-ddc0-8dd69b71d897"
      },
      "source": [
        "DOWNLOAD_ROOT = \"https://raw.githubusercontent.com/IAI-UNSAM/ML_UNSAM/master/\"\n",
        "HOUSING_PATH = os.path.join(\".\", \"datasets\", \"housing\")\n",
        "HOUSING_URL = DOWNLOAD_ROOT + \"datasets/housing/housing.tgz\"\n",
        "\n",
        "def fetch_housing_data(housing_url=HOUSING_URL, housing_path=HOUSING_PATH):\n",
        "    os.makedirs(housing_path, exist_ok=True)\n",
        "    tgz_path = os.path.join(housing_path, \"housing.tgz\")\n",
        "    #urllib.request.urlretrieve(housing_url, tgz_path)\n",
        "    !wget http://raw.githubusercontent.com/IAI-UNSAM/ML_UNSAM/master/datasets/housing/housing.tgz -P {housing_path}\n",
        "    housing_tgz = tarfile.open(tgz_path)\n",
        "    housing_tgz.extractall(path=housing_path)\n",
        "    housing_tgz.close()\n",
        "\n",
        "fetch_housing_data()\n",
        "\n",
        "def load_housing_data(housing_path=HOUSING_PATH):\n",
        "    csv_path = os.path.join(housing_path, \"housing.csv\")\n",
        "    return pd.read_csv(csv_path)\n",
        "\n",
        "housing_pre = load_housing_data()\n",
        "\n",
        "housing_pre[\"income_cat\"] = pd.cut(housing_pre[\"median_income\"],\n",
        "                               bins=[0., 1.5, 3.0, 4.5, 6., np.inf],\n",
        "                               labels=[1, 2, 3, 4, 5])\n",
        "\n",
        "split = StratifiedShuffleSplit(n_splits=1, test_size=0.2, random_state=445543)\n",
        "for train_index, test_index in split.split(housing_pre, housing_pre[\"income_cat\"]):\n",
        "    california_housing_train = housing_pre.loc[train_index]\n",
        "    california_housing_test = housing_pre.loc[test_index]\n",
        "\n",
        "for set_ in (california_housing_train, california_housing_test):\n",
        "    set_.drop(\"income_cat\", axis=1, inplace=True)"
      ],
      "execution_count": null,
      "outputs": [
        {
          "output_type": "stream",
          "text": [
            "URL transformed to HTTPS due to an HSTS policy\n",
            "--2020-08-11 18:41:29--  https://raw.githubusercontent.com/IAI-UNSAM/ML_UNSAM/master/datasets/housing/housing.tgz\n",
            "Resolving raw.githubusercontent.com (raw.githubusercontent.com)... 151.101.0.133, 151.101.64.133, 151.101.128.133, ...\n",
            "Connecting to raw.githubusercontent.com (raw.githubusercontent.com)|151.101.0.133|:443... connected.\n",
            "HTTP request sent, awaiting response... 200 OK\n",
            "Length: 409488 (400K) [application/octet-stream]\n",
            "Saving to: ‘./datasets/housing/housing.tgz.1’\n",
            "\n",
            "\rhousing.tgz.1         0%[                    ]       0  --.-KB/s               \rhousing.tgz.1       100%[===================>] 399.89K  --.-KB/s    in 0.06s   \n",
            "\n",
            "2020-08-11 18:41:30 (6.77 MB/s) - ‘./datasets/housing/housing.tgz.1’ saved [409488/409488]\n",
            "\n"
          ],
          "name": "stdout"
        }
      ]
    },
    {
      "cell_type": "code",
      "metadata": {
        "id": "NfNjCB8vyDLv",
        "colab_type": "code",
        "colab": {}
      },
      "source": [
        "california_housing_train.info()"
      ],
      "execution_count": null,
      "outputs": []
    },
    {
      "cell_type": "code",
      "metadata": {
        "id": "253kKL45yhtm",
        "colab_type": "code",
        "colab": {}
      },
      "source": [
        "california_housing_test.info()"
      ],
      "execution_count": null,
      "outputs": []
    },
    {
      "cell_type": "markdown",
      "metadata": {
        "id": "nwaNIKHnykOA",
        "colab_type": "text"
      },
      "source": [
        "## Exploremos los datos (nuevamente)"
      ]
    },
    {
      "cell_type": "code",
      "metadata": {
        "id": "iVcyUq2Yyjrl",
        "colab_type": "code",
        "colab": {}
      },
      "source": [
        "housing=california_housing_train.copy()"
      ],
      "execution_count": null,
      "outputs": []
    },
    {
      "cell_type": "code",
      "metadata": {
        "id": "RNAP4XRRy3lg",
        "colab_type": "code",
        "colab": {}
      },
      "source": [
        "housing.hist(bins=50, figsize=(20,15))"
      ],
      "execution_count": null,
      "outputs": []
    },
    {
      "cell_type": "code",
      "metadata": {
        "id": "RjcLoYcuy4PW",
        "colab_type": "code",
        "colab": {}
      },
      "source": [
        "attributes = [\"median_house_value\", \"median_income\", \"total_rooms\",\n",
        "              \"housing_median_age\"]\n",
        "scatter_matrix(housing[attributes], figsize=(12, 8))"
      ],
      "execution_count": null,
      "outputs": []
    },
    {
      "cell_type": "code",
      "metadata": {
        "id": "Jm37PZGwzZlO",
        "colab_type": "code",
        "colab": {}
      },
      "source": [
        "corr_matrix = housing.corr()\n",
        "corr_matrix[\"median_house_value\"].sort_values(ascending=False)\n"
      ],
      "execution_count": null,
      "outputs": []
    },
    {
      "cell_type": "code",
      "metadata": {
        "id": "U2omPvrrz-3T",
        "colab_type": "code",
        "colab": {}
      },
      "source": [
        "housing[\"rooms_per_household\"] = housing[\"total_rooms\"]/housing[\"households\"]\n",
        "housing[\"bedrooms_per_room\"] = housing[\"total_bedrooms\"]/housing[\"total_rooms\"]\n",
        "housing[\"population_per_household\"]=housing[\"population\"]/housing[\"households\"]"
      ],
      "execution_count": null,
      "outputs": []
    },
    {
      "cell_type": "code",
      "metadata": {
        "id": "jR_qCyEkBPw9",
        "colab_type": "code",
        "colab": {}
      },
      "source": [
        "housing.info()"
      ],
      "execution_count": null,
      "outputs": []
    },
    {
      "cell_type": "code",
      "metadata": {
        "id": "JUaKp0J2ATpE",
        "colab_type": "code",
        "colab": {}
      },
      "source": [
        "set(housing[\"ocean_proximity\"].values)"
      ],
      "execution_count": null,
      "outputs": []
    },
    {
      "cell_type": "markdown",
      "metadata": {
        "id": "4ecDPO7K0C86",
        "colab_type": "text"
      },
      "source": [
        "# Preprocesado de datos\n",
        "\n",
        "El objetivo es poder predecir la mediana del precio de un distrito por sus caracteristicas. Es un problema de regresion univariada supervisada donde mi target es \"median_house_value\" y mis features son todas las otras categorias."
      ]
    },
    {
      "cell_type": "markdown",
      "metadata": {
        "id": "OW9PLnzx8r6B",
        "colab_type": "text"
      },
      "source": [
        "## Datos colab:"
      ]
    },
    {
      "cell_type": "code",
      "metadata": {
        "id": "O95FUXvk0TCQ",
        "colab_type": "code",
        "colab": {}
      },
      "source": [
        "housing_labels = housing[\"median_house_value\"].copy()\n",
        "housing_num = housing.drop(\"median_house_value\", axis=1) # drop labels for training set"
      ],
      "execution_count": null,
      "outputs": []
    },
    {
      "cell_type": "code",
      "metadata": {
        "id": "srF3O03W1MM9",
        "colab_type": "code",
        "colab": {}
      },
      "source": [
        "\n",
        "num_pipeline = Pipeline([\n",
        "        ('imputer', SimpleImputer(strategy=\"median\")),\n",
        "        ('std_scaler', StandardScaler()),\n",
        "    ])\n",
        "\n",
        "housing_prepared = num_pipeline.fit_transform(housing_num)\n",
        "\n"
      ],
      "execution_count": null,
      "outputs": []
    },
    {
      "cell_type": "code",
      "metadata": {
        "id": "LSkqDWX91hiq",
        "colab_type": "code",
        "colab": {}
      },
      "source": [
        "housing_prepared.head(10)"
      ],
      "execution_count": null,
      "outputs": []
    },
    {
      "cell_type": "code",
      "metadata": {
        "id": "kqAHsvw71l9I",
        "colab_type": "code",
        "colab": {}
      },
      "source": [
        ""
      ],
      "execution_count": null,
      "outputs": []
    },
    {
      "cell_type": "markdown",
      "metadata": {
        "id": "kBpv3Py5-QlU",
        "colab_type": "text"
      },
      "source": [
        "## Datos Geron:\n",
        "\n",
        "Voy a separar el target y escalear las variables numericas y re-expresar las categoricas. Combino todo en un pipeline."
      ]
    },
    {
      "cell_type": "code",
      "metadata": {
        "id": "goHRMguT-T7M",
        "colab_type": "code",
        "colab": {}
      },
      "source": [
        "housing_labels = housing[\"median_house_value\"].copy()\n",
        "# label_scaler=StandardScaler()\n",
        "# housing_labels_scaled=label_scaler.fit_transform(np.asarray(housing_labels).reshape(-1,1))[:,0]\n",
        "housing = housing.drop(\"median_house_value\", axis=1) # drop labels for training set\n",
        "housing_cat = housing[[\"ocean_proximity\"]]\n",
        "housing_num = housing.drop(\"ocean_proximity\", axis=1)"
      ],
      "execution_count": null,
      "outputs": []
    },
    {
      "cell_type": "code",
      "metadata": {
        "id": "G-5PmE8f-hqQ",
        "colab_type": "code",
        "colab": {}
      },
      "source": [
        "num_pipeline = Pipeline([\n",
        "        ('imputer', SimpleImputer(strategy=\"median\")),#hay mas opciones aca\n",
        "        ('std_scaler', StandardScaler()),\n",
        "    ])\n",
        "\n",
        "num_attribs = list(housing_num)\n",
        "cat_attribs = [\"ocean_proximity\"]\n",
        "\n",
        "full_pipeline = ColumnTransformer([\n",
        "        (\"num\", num_pipeline, num_attribs),\n",
        "        (\"cat\", OneHotEncoder(), cat_attribs),\n",
        "    ])\n",
        "\n",
        "housing_prepared = full_pipeline.fit_transform(housing)"
      ],
      "execution_count": null,
      "outputs": []
    },
    {
      "cell_type": "code",
      "metadata": {
        "id": "jvkYbsdMiC0d",
        "colab_type": "code",
        "colab": {}
      },
      "source": [
        "num_pipeline.fit_transform(housing_num)"
      ],
      "execution_count": null,
      "outputs": []
    },
    {
      "cell_type": "code",
      "metadata": {
        "id": "OqAs8YEBiTCu",
        "colab_type": "code",
        "colab": {}
      },
      "source": [
        "num_pipeline.named_steps['std_scaler'].mean_"
      ],
      "execution_count": null,
      "outputs": []
    },
    {
      "cell_type": "code",
      "metadata": {
        "id": "mMEoGbiH_lhZ",
        "colab_type": "code",
        "colab": {
          "base_uri": "https://localhost:8080/",
          "height": 34
        },
        "outputId": "1ca093ae-67a2-4487-c1c6-3cd771499589"
      },
      "source": [
        "housing_prepared.shape"
      ],
      "execution_count": null,
      "outputs": [
        {
          "output_type": "execute_result",
          "data": {
            "text/plain": [
              "(16512, 16)"
            ]
          },
          "metadata": {
            "tags": []
          },
          "execution_count": 7
        }
      ]
    },
    {
      "cell_type": "markdown",
      "metadata": {
        "id": "VOEumX243htu",
        "colab_type": "text"
      },
      "source": [
        "# Regresion\n",
        "\n",
        "Vamos a resolver el problema. Voy a probar varios algoritmos (sin justificarlos bien, ya los vamos a ver) y evaluar la performance."
      ]
    },
    {
      "cell_type": "markdown",
      "metadata": {
        "id": "wk6u0MaIGvVn",
        "colab_type": "text"
      },
      "source": [
        "## Underfitting con Regresion Lineal\n",
        "\n",
        "Defino otro Pipeline solo para mostrar, no es estrictamente necesario."
      ]
    },
    {
      "cell_type": "markdown",
      "metadata": {
        "id": "mhCVMYbwvrjG",
        "colab_type": "text"
      },
      "source": [
        "$y = w_0 + \\sum_{i=1}^{M}w_{i}\\phi_{i}(\\vec{x})$\n",
        "\n",
        "Caso Clase Jueves (y hoy):\n",
        "\n",
        "$\\phi_{i} = x_{i} $\n",
        "\n",
        "$y = w_0 + \\sum_{i=1}^{16}w_{i}x_{i}$"
      ]
    },
    {
      "cell_type": "code",
      "metadata": {
        "id": "emq7A8ZU3kGc",
        "colab_type": "code",
        "colab": {
          "base_uri": "https://localhost:8080/",
          "height": 136
        },
        "outputId": "7b90b4e8-9df4-4775-aaf6-1d9f220a1511"
      },
      "source": [
        "full_pipeline_with_predictor_lr = Pipeline([\n",
        "        (\"preparation\", full_pipeline),\n",
        "        (\"linear\", LinearRegression())\n",
        "    ])\n",
        "\n",
        "scores_lr=cross_val_score(full_pipeline_with_predictor_lr, housing, housing_labels,scoring=\"neg_mean_squared_error\", cv=10)#no lo aplico en housing_prepared, no deberia cambiar pero igual\n",
        "cross_scores_lr = np.sqrt(-scores_lr)\n",
        "\n",
        "print(\"Puntajes:\", cross_scores_lr)\n",
        "print(\"Media:\", cross_scores_lr.mean())\n",
        "print(\"Desviacion Estandar:\", cross_scores_lr.std())\n",
        "\n",
        "full_pipeline_with_predictor_lr.fit(housing, housing_labels)\n",
        "predictions_lr=full_pipeline_with_predictor_lr.predict(housing)\n",
        "print(\"Ejemplo: \", (round(predictions_lr[100]),housing_labels[100]))\n",
        "print(\"MSE Total del conjunto de entrenamiento:\", np.sqrt(mean_squared_error(predictions_lr,housing_labels)))"
      ],
      "execution_count": null,
      "outputs": [
        {
          "output_type": "stream",
          "text": [
            "Puntajes: [72498.77894031 67018.92745544 69811.55320864 66736.56591758\n",
            " 66966.13542574 72935.62934387 67546.8042703  67759.81120117\n",
            " 70190.77524634 65744.53835569]\n",
            "Media: 68720.95193650777\n",
            "Desviacion Estandar: 2376.14777460679\n",
            "Ejemplo:  (167852.0, 257800.0)\n",
            "MSE Total del conjunto de entrenamiento: 68382.48122288262\n"
          ],
          "name": "stdout"
        }
      ]
    },
    {
      "cell_type": "code",
      "metadata": {
        "id": "nbhC7vCuNcpk",
        "colab_type": "code",
        "colab": {
          "base_uri": "https://localhost:8080/",
          "height": 296
        },
        "outputId": "dbcf9e15-71d5-4b09-981a-6184ab40be3c"
      },
      "source": [
        "x=np.linspace(min(housing_labels),max(housing_labels),3)\n",
        "plt.scatter(housing_labels,predictions_lr)\n",
        "plt.plot(x,x,color='red')\n",
        "plt.xlabel('t')\n",
        "plt.ylabel('y')"
      ],
      "execution_count": null,
      "outputs": [
        {
          "output_type": "execute_result",
          "data": {
            "text/plain": [
              "Text(0, 0.5, 'y')"
            ]
          },
          "metadata": {
            "tags": []
          },
          "execution_count": 9
        },
        {
          "output_type": "display_data",
          "data": {
            "image/png": "[encoded data removed]",
            "text/plain": [
              "<Figure size 432x288 with 1 Axes>"
            ]
          },
          "metadata": {
            "tags": [],
            "needs_background": "light"
          }
        }
      ]
    },
    {
      "cell_type": "markdown",
      "metadata": {
        "id": "VCp1NAk0Gy3H",
        "colab_type": "text"
      },
      "source": [
        "## Overfitting con Decision Tree"
      ]
    },
    {
      "cell_type": "code",
      "metadata": {
        "id": "IEaHs-zmIWZh",
        "colab_type": "code",
        "colab": {
          "base_uri": "https://localhost:8080/",
          "height": 119
        },
        "outputId": "567d01a2-1b64-4a95-c197-f2403751d3df"
      },
      "source": [
        "tree_reg = DecisionTreeRegressor(random_state=42,max_depth=7)#,max_depth=5\n",
        "tree_reg.fit(housing_prepared, housing_labels)\n"
      ],
      "execution_count": null,
      "outputs": [
        {
          "output_type": "execute_result",
          "data": {
            "text/plain": [
              "DecisionTreeRegressor(ccp_alpha=0.0, criterion='mse', max_depth=7,\n",
              "                      max_features=None, max_leaf_nodes=None,\n",
              "                      min_impurity_decrease=0.0, min_impurity_split=None,\n",
              "                      min_samples_leaf=1, min_samples_split=2,\n",
              "                      min_weight_fraction_leaf=0.0, presort='deprecated',\n",
              "                      random_state=42, splitter='best')"
            ]
          },
          "metadata": {
            "tags": []
          },
          "execution_count": 26
        }
      ]
    },
    {
      "cell_type": "code",
      "metadata": {
        "id": "d-wPx3r3MUXZ",
        "colab_type": "code",
        "colab": {
          "base_uri": "https://localhost:8080/",
          "height": 282
        },
        "outputId": "8397c6f2-ce90-4264-e900-9f425c54c20a"
      },
      "source": [
        "x=np.linspace(min(housing_labels),max(housing_labels),3)\n",
        "plt.scatter(housing_labels,tree_reg.predict(housing_prepared))\n",
        "plt.plot(x,x,color='red')"
      ],
      "execution_count": null,
      "outputs": [
        {
          "output_type": "execute_result",
          "data": {
            "text/plain": [
              "[<matplotlib.lines.Line2D at 0x7f365f9d7ac8>]"
            ]
          },
          "metadata": {
            "tags": []
          },
          "execution_count": 27
        },
        {
          "output_type": "display_data",
          "data": {
            "image/png": "[encoded data removed]",
            "text/plain": [
              "<Figure size 432x288 with 1 Axes>"
            ]
          },
          "metadata": {
            "tags": [],
            "needs_background": "light"
          }
        }
      ]
    },
    {
      "cell_type": "code",
      "metadata": {
        "id": "Qu8WTVBoIrE_",
        "colab_type": "code",
        "colab": {
          "base_uri": "https://localhost:8080/",
          "height": 34
        },
        "outputId": "72a8d9af-c2e8-46f1-831e-4cfc9f4f91fe"
      },
      "source": [
        "housing_predictions = tree_reg.predict(housing_prepared)\n",
        "tree_mse = mean_squared_error(housing_labels, housing_predictions)\n",
        "tree_rmse = np.sqrt(tree_mse)\n",
        "tree_rmse"
      ],
      "execution_count": null,
      "outputs": [
        {
          "output_type": "execute_result",
          "data": {
            "text/plain": [
              "58461.14032291324"
            ]
          },
          "metadata": {
            "tags": []
          },
          "execution_count": 28
        }
      ]
    },
    {
      "cell_type": "code",
      "metadata": {
        "id": "jezUic762ggk",
        "colab_type": "code",
        "colab": {
          "base_uri": "https://localhost:8080/",
          "height": 34
        },
        "outputId": "b6f00c42-1563-4154-d01c-35b22ff2ce98"
      },
      "source": [
        "tree_reg.get_n_leaves()"
      ],
      "execution_count": null,
      "outputs": [
        {
          "output_type": "execute_result",
          "data": {
            "text/plain": [
              "32"
            ]
          },
          "metadata": {
            "tags": []
          },
          "execution_count": 24
        }
      ]
    },
    {
      "cell_type": "code",
      "metadata": {
        "id": "dmopLBfwImyp",
        "colab_type": "code",
        "colab": {
          "base_uri": "https://localhost:8080/",
          "height": 102
        },
        "outputId": "f974b579-8876-4069-b533-a47deb72d054"
      },
      "source": [
        "scores = cross_val_score(tree_reg, housing_prepared, housing_labels,\n",
        "                         scoring=\"neg_mean_squared_error\", cv=10)\n",
        "tree_rmse_scores = np.sqrt(-scores)\n",
        "\n",
        "print(\"Puntajes:\", tree_rmse_scores)\n",
        "print(\"Media:\", tree_rmse_scores.mean())\n",
        "print(\"Desviacion Estandar:\", tree_rmse_scores.std())"
      ],
      "execution_count": null,
      "outputs": [
        {
          "output_type": "stream",
          "text": [
            "Puntajes: [66125.7862463  62322.41967658 64568.78957814 60488.18028535\n",
            " 61000.77337508 63218.20055612 61274.40852525 62812.70815589\n",
            " 61815.38474732 60895.451348  ]\n",
            "Media: 62452.21024940397\n",
            "Desviacion Estandar: 1699.6752260838857\n"
          ],
          "name": "stdout"
        }
      ]
    },
    {
      "cell_type": "code",
      "metadata": {
        "id": "7LJVjpSxzvRk",
        "colab_type": "code",
        "colab": {
          "base_uri": "https://localhost:8080/",
          "height": 248
        },
        "outputId": "f9cbb798-e444-40a0-8d04-3afe604ba9f3"
      },
      "source": [
        "tree.plot_tree(tree_reg) \n",
        "plt.show()"
      ],
      "execution_count": null,
      "outputs": [
        {
          "output_type": "display_data",
          "data": {
            "image/png": "[encoded data removed]",
            "text/plain": [
              "<Figure size 432x288 with 1 Axes>"
            ]
          },
          "metadata": {
            "tags": [],
            "needs_background": "light"
          }
        }
      ]
    },
    {
      "cell_type": "markdown",
      "metadata": {
        "id": "_ZL_AUp4G1jT",
        "colab_type": "text"
      },
      "source": [
        "## Fitting con RandomForest"
      ]
    },
    {
      "cell_type": "code",
      "metadata": {
        "id": "2k6F8Vnx3kuZ",
        "colab_type": "code",
        "colab": {
          "base_uri": "https://localhost:8080/",
          "height": 390
        },
        "outputId": "eb0b9681-aaac-40e8-816e-80ba1a58e5cf"
      },
      "source": [
        "param_grid = [\n",
        "    # try 12 (3×4) combinations of hyperparameters\n",
        "    {'n_estimators': [3, 10, 30], 'max_features': [2, 4, 6, 8]},\n",
        "    # then try 6 (2×3) combinations with bootstrap set as False\n",
        "    {'bootstrap': [False], 'n_estimators': [3, 10], 'max_features': [2, 3, 4]},\n",
        "  ]\n",
        "\n",
        "forest_reg = RandomForestRegressor(random_state=42)\n",
        "# train across 5 folds, that's a total of (12+6)*5=90 rounds of training \n",
        "grid_search = GridSearchCV(forest_reg, param_grid, cv=5,\n",
        "                           scoring='neg_mean_squared_error',\n",
        "                           return_train_score=True)\n",
        "grid_search.fit(housing_prepared, housing_labels)"
      ],
      "execution_count": null,
      "outputs": [
        {
          "output_type": "execute_result",
          "data": {
            "text/plain": [
              "GridSearchCV(cv=5, error_score=nan,\n",
              "             estimator=RandomForestRegressor(bootstrap=True, ccp_alpha=0.0,\n",
              "                                             criterion='mse', max_depth=None,\n",
              "                                             max_features='auto',\n",
              "                                             max_leaf_nodes=None,\n",
              "                                             max_samples=None,\n",
              "                                             min_impurity_decrease=0.0,\n",
              "                                             min_impurity_split=None,\n",
              "                                             min_samples_leaf=1,\n",
              "                                             min_samples_split=2,\n",
              "                                             min_weight_fraction_leaf=0.0,\n",
              "                                             n_estimators=100, n_jobs=None,\n",
              "                                             oob_score=False, random_state=42,\n",
              "                                             verbose=0, warm_start=False),\n",
              "             iid='deprecated', n_jobs=None,\n",
              "             param_grid=[{'max_features': [2, 4, 6, 8],\n",
              "                          'n_estimators': [3, 10, 30]},\n",
              "                         {'bootstrap': [False], 'max_features': [2, 3, 4],\n",
              "                          'n_estimators': [3, 10]}],\n",
              "             pre_dispatch='2*n_jobs', refit=True, return_train_score=True,\n",
              "             scoring='neg_mean_squared_error', verbose=0)"
            ]
          },
          "metadata": {
            "tags": []
          },
          "execution_count": 30
        }
      ]
    },
    {
      "cell_type": "code",
      "metadata": {
        "id": "J3OKERviFNSF",
        "colab_type": "code",
        "colab": {
          "base_uri": "https://localhost:8080/",
          "height": 158
        },
        "outputId": "9e1cc08d-7bf5-459c-af53-4e4abd67caa4"
      },
      "source": [
        "print(\"Best params:\", grid_search.best_params_)\n",
        "print(\"Best estimator:\", grid_search.best_estimator_)\n"
      ],
      "execution_count": null,
      "outputs": [
        {
          "output_type": "stream",
          "text": [
            "Best params: {'max_features': 6, 'n_estimators': 30}\n",
            "Best estimator: RandomForestRegressor(bootstrap=True, ccp_alpha=0.0, criterion='mse',\n",
            "                      max_depth=None, max_features=6, max_leaf_nodes=None,\n",
            "                      max_samples=None, min_impurity_decrease=0.0,\n",
            "                      min_impurity_split=None, min_samples_leaf=1,\n",
            "                      min_samples_split=2, min_weight_fraction_leaf=0.0,\n",
            "                      n_estimators=30, n_jobs=None, oob_score=False,\n",
            "                      random_state=42, verbose=0, warm_start=False)\n"
          ],
          "name": "stdout"
        }
      ]
    },
    {
      "cell_type": "code",
      "metadata": {
        "id": "eNiu6CURFlfP",
        "colab_type": "code",
        "colab": {
          "base_uri": "https://localhost:8080/",
          "height": 336
        },
        "outputId": "71e5f558-5f5c-423e-aeaa-32d0d52ee7f1"
      },
      "source": [
        "cvres = grid_search.cv_results_\n",
        "for mean_score, std, params in zip(cvres[\"mean_test_score\"], cvres[\"std_test_score\"], cvres[\"params\"]):\n",
        "    print(np.sqrt(-mean_score), np.sqrt(std),params)"
      ],
      "execution_count": null,
      "outputs": [
        {
          "output_type": "stream",
          "text": [
            "65052.11284727992 15826.66374152429 {'max_features': 2, 'n_estimators': 3}\n",
            "55472.61008228522 10822.154952235238 {'max_features': 2, 'n_estimators': 10}\n",
            "53345.32826556834 9880.514134324309 {'max_features': 2, 'n_estimators': 30}\n",
            "61389.972172833855 11058.523093487302 {'max_features': 4, 'n_estimators': 3}\n",
            "52982.591934517164 8133.5285799299745 {'max_features': 4, 'n_estimators': 10}\n",
            "50718.02914370888 7877.502269717471 {'max_features': 4, 'n_estimators': 30}\n",
            "58529.06122989109 10469.36347317353 {'max_features': 6, 'n_estimators': 3}\n",
            "52164.336551137945 10823.595907802995 {'max_features': 6, 'n_estimators': 10}\n",
            "50112.387990928575 10211.496233745886 {'max_features': 6, 'n_estimators': 30}\n",
            "58417.58787473565 9316.224230945032 {'max_features': 8, 'n_estimators': 3}\n",
            "52578.63722145321 10431.530708526085 {'max_features': 8, 'n_estimators': 10}\n",
            "50346.375515195505 9229.161062480387 {'max_features': 8, 'n_estimators': 30}\n",
            "62574.522994223014 12150.24072892354 {'bootstrap': False, 'max_features': 2, 'n_estimators': 3}\n",
            "54157.030188673016 8696.079359518095 {'bootstrap': False, 'max_features': 2, 'n_estimators': 10}\n",
            "58438.264170218885 8881.417617594916 {'bootstrap': False, 'max_features': 3, 'n_estimators': 3}\n",
            "52256.04278179259 8510.994882301726 {'bootstrap': False, 'max_features': 3, 'n_estimators': 10}\n",
            "59434.94345724593 14422.57580198422 {'bootstrap': False, 'max_features': 4, 'n_estimators': 3}\n",
            "52147.96185621727 11954.021897099905 {'bootstrap': False, 'max_features': 4, 'n_estimators': 10}\n"
          ],
          "name": "stdout"
        }
      ]
    },
    {
      "cell_type": "code",
      "metadata": {
        "id": "YDjUbtpfFidO",
        "colab_type": "code",
        "colab": {
          "base_uri": "https://localhost:8080/",
          "height": 52
        },
        "outputId": "9325c803-5c00-46b8-ce47-72ff64c65785"
      },
      "source": [
        "best_rf=grid_search.best_estimator_\n",
        "print(\"Example: \", round(best_rf.predict(housing_prepared)[100]),housing_labels[100])\n",
        "print(\"Train MSE: \",np.sqrt(mean_squared_error(best_rf.predict(housing_prepared),housing_labels)))"
      ],
      "execution_count": null,
      "outputs": [
        {
          "output_type": "stream",
          "text": [
            "Example:  150873.0 257800.0\n",
            "Train MSE:  19329.001591867673\n"
          ],
          "name": "stdout"
        }
      ]
    },
    {
      "cell_type": "code",
      "metadata": {
        "id": "XvVUpsx2IRqC",
        "colab_type": "code",
        "colab": {
          "base_uri": "https://localhost:8080/",
          "height": 282
        },
        "outputId": "3e7b2b28-246a-41cc-b1ba-1f99056dab25"
      },
      "source": [
        "x=np.linspace(min(housing_labels),max(housing_labels),3)\n",
        "plt.scatter(housing_labels,best_rf.predict(housing_prepared))\n",
        "plt.plot(x,x,color='red')"
      ],
      "execution_count": null,
      "outputs": [
        {
          "output_type": "execute_result",
          "data": {
            "text/plain": [
              "[<matplotlib.lines.Line2D at 0x7f36600ae080>]"
            ]
          },
          "metadata": {
            "tags": []
          },
          "execution_count": 34
        },
        {
          "output_type": "display_data",
          "data": {
            "image/png": "[encoded data removed]",
            "text/plain": [
              "<Figure size 432x288 with 1 Axes>"
            ]
          },
          "metadata": {
            "tags": [],
            "needs_background": "light"
          }
        }
      ]
    },
    {
      "cell_type": "markdown",
      "metadata": {
        "id": "uc6cdepvJQhN",
        "colab_type": "text"
      },
      "source": [
        "## Una Red Neuronal"
      ]
    },
    {
      "cell_type": "code",
      "metadata": {
        "id": "T1Db32UoJS__",
        "colab_type": "code",
        "colab": {}
      },
      "source": [
        "import tensorflow as tf\n",
        "from tensorflow import keras\n",
        "tf.random.set_seed(42)\n",
        "keras.backend.clear_session()\n"
      ],
      "execution_count": null,
      "outputs": []
    },
    {
      "cell_type": "code",
      "metadata": {
        "id": "5CJdx1htbm0S",
        "colab_type": "code",
        "colab": {}
      },
      "source": [
        "X_train, X_valid, y_train, y_valid = train_test_split(housing_num, housing_labels, random_state=42)\n",
        "X_train_proc=num_pipeline.fit_transform(X_train)\n",
        "X_valid_proc=num_pipeline.transform(X_valid)"
      ],
      "execution_count": null,
      "outputs": []
    },
    {
      "cell_type": "code",
      "metadata": {
        "id": "KDYUTqTUd3YF",
        "colab_type": "code",
        "colab": {}
      },
      "source": [
        "# print(np.asarray(y_train).reshape(-1,1).shape)\n",
        "\n",
        "scaler = StandardScaler()\n",
        "y_train_proc = scaler.fit_transform(np.asarray(y_train).reshape(-1,1))\n",
        "y_valid_proc = scaler.transform(np.asarray(y_valid).reshape(-1,1))\n"
      ],
      "execution_count": null,
      "outputs": []
    },
    {
      "cell_type": "code",
      "metadata": {
        "id": "VsUBLQGsfPBB",
        "colab_type": "code",
        "colab": {}
      },
      "source": [
        "y_train_proc[:,0].shape"
      ],
      "execution_count": null,
      "outputs": []
    },
    {
      "cell_type": "code",
      "metadata": {
        "id": "gxVcZz0WOiFj",
        "colab_type": "code",
        "colab": {}
      },
      "source": [
        "input_shape = X_train_proc.shape[1:]\n",
        "batch_size = 128\n",
        "epochs = 50"
      ],
      "execution_count": null,
      "outputs": []
    },
    {
      "cell_type": "code",
      "metadata": {
        "id": "yqx1scsFO-JW",
        "colab_type": "code",
        "colab": {}
      },
      "source": [
        "model = keras.models.Sequential([\n",
        "    keras.layers.Dense(30, activation=\"relu\", input_shape=input_shape),\n",
        "    keras.layers.Dense(30, activation=\"relu\"),\n",
        "    keras.layers.Dense(1)\n",
        "])"
      ],
      "execution_count": null,
      "outputs": []
    },
    {
      "cell_type": "code",
      "metadata": {
        "id": "onONJ2yEO_uN",
        "colab_type": "code",
        "colab": {}
      },
      "source": [
        "\n",
        "model.compile(loss=\"mean_squared_error\", optimizer=keras.optimizers.SGD(lr=1e-3))"
      ],
      "execution_count": null,
      "outputs": []
    },
    {
      "cell_type": "code",
      "metadata": {
        "id": "eo5Hs0yKPvXQ",
        "colab_type": "code",
        "colab": {
          "base_uri": "https://localhost:8080/",
          "height": 265
        },
        "outputId": "8645f28c-a5b6-4813-dc90-7f4f41cb1d56"
      },
      "source": [
        "model.summary()"
      ],
      "execution_count": null,
      "outputs": [
        {
          "output_type": "stream",
          "text": [
            "Model: \"sequential\"\n",
            "_________________________________________________________________\n",
            "Layer (type)                 Output Shape              Param #   \n",
            "=================================================================\n",
            "dense (Dense)                (None, 30)                360       \n",
            "_________________________________________________________________\n",
            "dense_1 (Dense)              (None, 30)                930       \n",
            "_________________________________________________________________\n",
            "dense_2 (Dense)              (None, 1)                 31        \n",
            "=================================================================\n",
            "Total params: 1,321\n",
            "Trainable params: 1,321\n",
            "Non-trainable params: 0\n",
            "_________________________________________________________________\n"
          ],
          "name": "stdout"
        }
      ]
    },
    {
      "cell_type": "code",
      "metadata": {
        "id": "dKzhZcUR7DBV",
        "colab_type": "code",
        "colab": {
          "base_uri": "https://localhost:8080/",
          "height": 368
        },
        "outputId": "0233cabc-640e-4d86-ecd1-9a6d2f300cb0"
      },
      "source": [
        "tf.keras.utils.plot_model(model)"
      ],
      "execution_count": null,
      "outputs": [
        {
          "output_type": "execute_result",
          "data": {
            "image/png": "[encoded data removed]",
            "text/plain": [
              "<IPython.core.display.Image object>"
            ]
          },
          "metadata": {
            "tags": []
          },
          "execution_count": 59
        }
      ]
    },
    {
      "cell_type": "code",
      "metadata": {
        "id": "vDYKCCKXP6yP",
        "colab_type": "code",
        "colab": {
          "base_uri": "https://localhost:8080/",
          "height": 1000
        },
        "outputId": "e7448e06-ab9e-4193-d70e-f45255ba9e37"
      },
      "source": [
        "early_stopping_cb = keras.callbacks.EarlyStopping(patience=10,\n",
        "                                                  restore_best_weights=True)\n",
        "history = model.fit(X_train_proc, y_train_proc[:,0], epochs=epochs,\n",
        "                    validation_data=(X_valid_proc, y_valid_proc[:,0]),\n",
        "                    callbacks=[early_stopping_cb])"
      ],
      "execution_count": null,
      "outputs": [
        {
          "output_type": "stream",
          "text": [
            "Epoch 1/50\n",
            "387/387 [==============================] - 1s 1ms/step - loss: 0.8806 - val_loss: 0.6888\n",
            "Epoch 2/50\n",
            "387/387 [==============================] - 1s 1ms/step - loss: 0.5738 - val_loss: 0.5371\n",
            "Epoch 3/50\n",
            "387/387 [==============================] - 1s 2ms/step - loss: 0.4712 - val_loss: 0.4721\n",
            "Epoch 4/50\n",
            "387/387 [==============================] - 1s 2ms/step - loss: 0.4240 - val_loss: 0.4386\n",
            "Epoch 5/50\n",
            "387/387 [==============================] - 1s 2ms/step - loss: 0.3985 - val_loss: 0.4173\n",
            "Epoch 6/50\n",
            "387/387 [==============================] - 1s 1ms/step - loss: 0.3819 - val_loss: 0.4043\n",
            "Epoch 7/50\n",
            "387/387 [==============================] - 1s 1ms/step - loss: 0.3701 - val_loss: 0.3917\n",
            "Epoch 8/50\n",
            "387/387 [==============================] - 1s 1ms/step - loss: 0.3603 - val_loss: 0.3860\n",
            "Epoch 9/50\n",
            "387/387 [==============================] - 0s 1ms/step - loss: 0.3526 - val_loss: 0.3767\n",
            "Epoch 10/50\n",
            "387/387 [==============================] - 1s 1ms/step - loss: 0.3452 - val_loss: 0.3709\n",
            "Epoch 11/50\n",
            "387/387 [==============================] - 0s 1ms/step - loss: 0.3390 - val_loss: 0.3637\n",
            "Epoch 12/50\n",
            "387/387 [==============================] - 0s 1ms/step - loss: 0.3334 - val_loss: 0.3569\n",
            "Epoch 13/50\n",
            "387/387 [==============================] - 0s 1ms/step - loss: 0.3286 - val_loss: 0.3536\n",
            "Epoch 14/50\n",
            "387/387 [==============================] - 0s 1ms/step - loss: 0.3241 - val_loss: 0.3492\n",
            "Epoch 15/50\n",
            "387/387 [==============================] - 0s 1ms/step - loss: 0.3200 - val_loss: 0.3450\n",
            "Epoch 16/50\n",
            "387/387 [==============================] - 0s 1ms/step - loss: 0.3165 - val_loss: 0.3410\n",
            "Epoch 17/50\n",
            "387/387 [==============================] - 0s 1ms/step - loss: 0.3132 - val_loss: 0.3370\n",
            "Epoch 18/50\n",
            "387/387 [==============================] - 0s 1ms/step - loss: 0.3101 - val_loss: 0.3360\n",
            "Epoch 19/50\n",
            "387/387 [==============================] - 0s 1ms/step - loss: 0.3072 - val_loss: 0.3307\n",
            "Epoch 20/50\n",
            "387/387 [==============================] - 0s 1ms/step - loss: 0.3051 - val_loss: 0.3286\n",
            "Epoch 21/50\n",
            "387/387 [==============================] - 0s 1ms/step - loss: 0.3027 - val_loss: 0.3254\n",
            "Epoch 22/50\n",
            "387/387 [==============================] - 0s 1ms/step - loss: 0.3005 - val_loss: 0.3239\n",
            "Epoch 23/50\n",
            "387/387 [==============================] - 0s 1ms/step - loss: 0.2986 - val_loss: 0.3218\n",
            "Epoch 24/50\n",
            "387/387 [==============================] - 0s 1ms/step - loss: 0.2967 - val_loss: 0.3204\n",
            "Epoch 25/50\n",
            "387/387 [==============================] - 0s 1ms/step - loss: 0.2952 - val_loss: 0.3180\n",
            "Epoch 26/50\n",
            "387/387 [==============================] - 0s 1ms/step - loss: 0.2936 - val_loss: 0.3154\n",
            "Epoch 27/50\n",
            "387/387 [==============================] - 1s 1ms/step - loss: 0.2922 - val_loss: 0.3137\n",
            "Epoch 28/50\n",
            "387/387 [==============================] - 1s 1ms/step - loss: 0.2905 - val_loss: 0.3125\n",
            "Epoch 29/50\n",
            "387/387 [==============================] - 1s 1ms/step - loss: 0.2892 - val_loss: 0.3103\n",
            "Epoch 30/50\n",
            "387/387 [==============================] - 0s 1ms/step - loss: 0.2884 - val_loss: 0.3105\n",
            "Epoch 31/50\n",
            "387/387 [==============================] - 1s 1ms/step - loss: 0.2871 - val_loss: 0.3084\n",
            "Epoch 32/50\n",
            "387/387 [==============================] - 1s 1ms/step - loss: 0.2860 - val_loss: 0.3089\n",
            "Epoch 33/50\n",
            "387/387 [==============================] - 0s 1ms/step - loss: 0.2848 - val_loss: 0.3063\n",
            "Epoch 34/50\n",
            "387/387 [==============================] - 0s 1ms/step - loss: 0.2840 - val_loss: 0.3065\n",
            "Epoch 35/50\n",
            "387/387 [==============================] - 0s 1ms/step - loss: 0.2829 - val_loss: 0.3062\n",
            "Epoch 36/50\n",
            "387/387 [==============================] - 0s 1ms/step - loss: 0.2819 - val_loss: 0.3026\n",
            "Epoch 37/50\n",
            "387/387 [==============================] - 0s 1ms/step - loss: 0.2810 - val_loss: 0.3028\n",
            "Epoch 38/50\n",
            "387/387 [==============================] - 1s 1ms/step - loss: 0.2803 - val_loss: 0.3022\n",
            "Epoch 39/50\n",
            "387/387 [==============================] - 1s 1ms/step - loss: 0.2795 - val_loss: 0.3006\n",
            "Epoch 40/50\n",
            "387/387 [==============================] - 1s 1ms/step - loss: 0.2787 - val_loss: 0.3010\n",
            "Epoch 41/50\n",
            "387/387 [==============================] - 1s 1ms/step - loss: 0.2780 - val_loss: 0.2993\n",
            "Epoch 42/50\n",
            "387/387 [==============================] - 1s 2ms/step - loss: 0.2773 - val_loss: 0.2994\n",
            "Epoch 43/50\n",
            "387/387 [==============================] - 1s 2ms/step - loss: 0.2767 - val_loss: 0.2986\n",
            "Epoch 44/50\n",
            "387/387 [==============================] - 1s 1ms/step - loss: 0.2762 - val_loss: 0.2964\n",
            "Epoch 45/50\n",
            "387/387 [==============================] - 0s 1ms/step - loss: 0.2756 - val_loss: 0.2965\n",
            "Epoch 46/50\n",
            "387/387 [==============================] - 0s 1ms/step - loss: 0.2750 - val_loss: 0.2965\n",
            "Epoch 47/50\n",
            "387/387 [==============================] - 0s 1ms/step - loss: 0.2743 - val_loss: 0.2961\n",
            "Epoch 48/50\n",
            "387/387 [==============================] - 0s 1ms/step - loss: 0.2739 - val_loss: 0.2948\n",
            "Epoch 49/50\n",
            "387/387 [==============================] - 0s 1ms/step - loss: 0.2734 - val_loss: 0.2948\n",
            "Epoch 50/50\n",
            "387/387 [==============================] - 0s 1ms/step - loss: 0.2729 - val_loss: 0.2942\n"
          ],
          "name": "stdout"
        }
      ]
    },
    {
      "cell_type": "code",
      "metadata": {
        "id": "TlLswlXvQHp8",
        "colab_type": "code",
        "colab": {
          "base_uri": "https://localhost:8080/",
          "height": 268
        },
        "outputId": "53de1e83-4696-496e-b479-573742561c78"
      },
      "source": [
        "pd.DataFrame(history.history).plot()\n",
        "plt.grid(True)\n",
        "plt.gca().set_ylim(0, 1)\n",
        "plt.show()"
      ],
      "execution_count": null,
      "outputs": [
        {
          "output_type": "display_data",
          "data": {
            "image/png": "[encoded data removed]",
            "text/plain": [
              "<Figure size 432x288 with 1 Axes>"
            ]
          },
          "metadata": {
            "tags": [],
            "needs_background": "light"
          }
        }
      ]
    },
    {
      "cell_type": "code",
      "metadata": {
        "id": "Iysn_jZBS2V4",
        "colab_type": "code",
        "colab": {
          "base_uri": "https://localhost:8080/",
          "height": 34
        },
        "outputId": "e19beb32-403f-4d0c-c5c4-b0e3b037fa5b"
      },
      "source": [
        "mse_train = model.evaluate(X_train_proc, y_train_proc)"
      ],
      "execution_count": null,
      "outputs": [
        {
          "output_type": "stream",
          "text": [
            "387/387 [==============================] - 0s 1ms/step - loss: 0.2719\n"
          ],
          "name": "stdout"
        }
      ]
    },
    {
      "cell_type": "code",
      "metadata": {
        "id": "QSe0PZJaRKxg",
        "colab_type": "code",
        "colab": {
          "base_uri": "https://localhost:8080/",
          "height": 282
        },
        "outputId": "59ff6c87-bc71-45ce-b59e-ecc78970b23c"
      },
      "source": [
        "x=np.linspace(min(y_train_proc[:,0]),max(y_train_proc[:,0]),3)\n",
        "plt.scatter(y_train_proc[:,0],model.predict(X_train_proc))\n",
        "plt.plot(x,x,color='red')"
      ],
      "execution_count": null,
      "outputs": [
        {
          "output_type": "execute_result",
          "data": {
            "text/plain": [
              "[<matplotlib.lines.Line2D at 0x7f3627f06470>]"
            ]
          },
          "metadata": {
            "tags": []
          },
          "execution_count": 63
        },
        {
          "output_type": "display_data",
          "data": {
            "image/png": "[encoded data removed]",
            "text/plain": [
              "<Figure size 432x288 with 1 Axes>"
            ]
          },
          "metadata": {
            "tags": [],
            "needs_background": "light"
          }
        }
      ]
    },
    {
      "cell_type": "code",
      "metadata": {
        "id": "Wkk2c-q9TH7g",
        "colab_type": "code",
        "colab": {
          "base_uri": "https://localhost:8080/",
          "height": 34
        },
        "outputId": "511c98de-71d1-44c4-eefe-759d56b274f2"
      },
      "source": [
        "np.sqrt(mean_squared_error(scaler.inverse_transform(model.predict(X_train_proc)),scaler.inverse_transform(y_train_proc)))"
      ],
      "execution_count": null,
      "outputs": [
        {
          "output_type": "execute_result",
          "data": {
            "text/plain": [
              "60108.64946541966"
            ]
          },
          "metadata": {
            "tags": []
          },
          "execution_count": 64
        }
      ]
    },
    {
      "cell_type": "markdown",
      "metadata": {
        "id": "OHfKOCz_stF5",
        "colab_type": "text"
      },
      "source": [
        "# Vamos al Test\n",
        "\n",
        "Esto esta incompleto para llenarlo en clase. Despues de clase subo la version _en vivo_."
      ]
    },
    {
      "cell_type": "code",
      "metadata": {
        "id": "UDbfuVQHsubH",
        "colab_type": "code",
        "colab": {}
      },
      "source": [
        "housing_test=california_housing_test.copy()\n",
        "housing_test[\"rooms_per_household\"] = housing_test[\"total_rooms\"]/housing_test[\"households\"]\n",
        "housing_test[\"bedrooms_per_room\"] = housing_test[\"total_bedrooms\"]/housing_test[\"total_rooms\"]\n",
        "housing_test[\"population_per_household\"]=housing_test[\"population\"]/housing_test[\"households\"]"
      ],
      "execution_count": null,
      "outputs": []
    },
    {
      "cell_type": "code",
      "metadata": {
        "id": "0LT7dSsng29_",
        "colab_type": "code",
        "colab": {}
      },
      "source": [
        "housing_test_labels = housing_test[\"median_house_value\"].copy()\n",
        "housing_test = housing_test.drop(\"median_house_value\", axis=1) # drop labels for training set\n",
        "housing_test_cat = housing_test[[\"ocean_proximity\"]]\n",
        "housing_test_num = housing_test.drop(\"ocean_proximity\", axis=1)"
      ],
      "execution_count": null,
      "outputs": []
    },
    {
      "cell_type": "code",
      "metadata": {
        "id": "JxiZY_9XhGk4",
        "colab_type": "code",
        "colab": {}
      },
      "source": [
        "housing_test_prepared = full_pipeline.transform(housing_test)"
      ],
      "execution_count": null,
      "outputs": []
    },
    {
      "cell_type": "markdown",
      "metadata": {
        "id": "_G0YSzjH8ynT",
        "colab_type": "text"
      },
      "source": [
        "Evaluo el mejor algoritmo: RandomForest"
      ]
    },
    {
      "cell_type": "code",
      "metadata": {
        "id": "kc-mBAVI81vd",
        "colab_type": "code",
        "colab": {
          "base_uri": "https://localhost:8080/",
          "height": 34
        },
        "outputId": "50195178-cffc-48b0-cda4-89ce15c3598e"
      },
      "source": [
        "print(\"Test MSE: \",np.sqrt(mean_squared_error(best_rf.predict(housing_test_prepared),housing_test_labels)))"
      ],
      "execution_count": null,
      "outputs": [
        {
          "output_type": "stream",
          "text": [
            "Test MSE:  47117.84898400662\n"
          ],
          "name": "stdout"
        }
      ]
    },
    {
      "cell_type": "markdown",
      "metadata": {
        "id": "LJsApqyDWTr8",
        "colab_type": "text"
      },
      "source": [
        "# Algunos ejericicios (que pueden ser para dentro de unas clases...)\n",
        "\n",
        "\n",
        "\n",
        "*   Esta bueno poder mostrar un grafico lindo. En particular, el mapa de latitud y longitud es bastante claro. Juegue con los tres algoritmos que utilizamos pero ahora utilizando como features latitud y longitud. Para cada algoritmo dibuje el mapa y las regiones inferidas de precio utilizando plt.contourf. Por que sugerimos utilizar unicamente dos variables a la hora de entrenar en lugar de utilizar los algoritmos ya entrenados?\n",
        "*   Reemplaze el GridSearchCV por el RandomizedSearchCV. No se preocupe, lo vamos a ver en detalle mas adelante.\n",
        "*   Fijese si puede juntar el preprocesado de los datos y los distintos algoritmos en un solo Pipeline. Que hiperparametros tiene? Puede implementarlos en GridSearchCV?\n",
        "\n",
        "\n"
      ]
    },
    {
      "cell_type": "code",
      "metadata": {
        "id": "jfnlqSPoWVfK",
        "colab_type": "code",
        "colab": {}
      },
      "source": [
        ""
      ],
      "execution_count": null,
      "outputs": []
    }
  ]
}