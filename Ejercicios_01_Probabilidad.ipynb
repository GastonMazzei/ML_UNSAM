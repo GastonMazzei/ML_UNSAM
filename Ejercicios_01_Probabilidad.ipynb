{
  "nbformat": 4,
  "nbformat_minor": 0,
  "metadata": {
    "kernelspec": {
      "display_name": "Python 3",
      "language": "python",
      "name": "python3"
    },
    "language_info": {
      "codemirror_mode": {
        "name": "ipython",
        "version": 3
      },
      "file_extension": ".py",
      "mimetype": "text/x-python",
      "name": "python",
      "nbconvert_exporter": "python",
      "pygments_lexer": "ipython3",
      "version": "3.8.3"
    },
    "colab": {
      "name": "Ejercicios_01_Probabilidad.ipynb",
      "provenance": []
    }
  },
  "cells": [
    {
      "cell_type": "markdown",
      "metadata": {
        "id": "D2v7iCONeaDR",
        "colab_type": "text"
      },
      "source": [
        "# Ejercicios de probabilidad\n",
        "\n",
        "Ejercicios relacionados con el [Notebook de Probabilidad](02_Probabilidad.ipynb).\n",
        "\n",
        "Los * indican ejercicios o preguntas particularmente desafiantes (¡pero no opcionales!)."
      ]
    },
    {
      "cell_type": "code",
      "metadata": {
        "id": "rpIfNU-KeaDU",
        "colab_type": "code",
        "colab": {}
      },
      "source": [
        "# Por si alguien corre en python2\n",
        "from __future__ import division\n",
        "\n",
        "# Preparamos todo para correr\n",
        "import numpy as np\n",
        "from math import *\n",
        "from matplotlib import pylab as plt"
      ],
      "execution_count": null,
      "outputs": []
    },
    {
      "cell_type": "markdown",
      "metadata": {
        "id": "ZnqJcFMueaDc",
        "colab_type": "text"
      },
      "source": [
        "### Ejercicio 1\n",
        "\n",
        "a. Hacer un plot similar al que muestra la evolución de la fracción de elementos de la muestra que caen en el cuadrante superior derecho. Usar un método que resulte en una mejora significativa de la eficiencia.\n",
        "\n",
        "<b>Tip</b>: en lugar de generar una muestra nueva para cada tamaño, usar sub-conjuntos de una sola muestra.\n",
        "\n",
        "b. Verificar que la nueva implementación es más eficiente que la del [notebook](01_Aleatoreidad.ipynb).\n",
        "\n",
        "<b>Tip</b>: medir el tiempo de corrida con <tt>timeit</tt> o <tt>time.process_time</tt>."
      ]
    },
    {
      "cell_type": "code",
      "metadata": {
        "id": "GQor6i4ceaDd",
        "colab_type": "code",
        "colab": {}
      },
      "source": [
        ""
      ],
      "execution_count": null,
      "outputs": []
    },
    {
      "cell_type": "markdown",
      "metadata": {
        "id": "vtMDTjL4eaDp",
        "colab_type": "text"
      },
      "source": [
        "### Ejercicio 2\n",
        "\n",
        "a. Usando las muestras que pueden obtenerse del repositorio, realizar un análisis de fracción de muestras en el cuadrante superior derecho para cada una de ellas. Presentar plots similares, en una misma figura.\n",
        "\n",
        "b. ¿Qué conjunto de datos muestra indicios de tener una distribución diferente a la uniforme?\n",
        "\n",
        "c. ¿A partir de qué tamaño de muestra puede identificarse la muestra no uniforme?"
      ]
    },
    {
      "cell_type": "code",
      "metadata": {
        "id": "YiJ3VFB4eaDq",
        "colab_type": "code",
        "colab": {}
      },
      "source": [
        ""
      ],
      "execution_count": null,
      "outputs": []
    },
    {
      "cell_type": "markdown",
      "metadata": {
        "id": "YcN2hrvAeaDv",
        "colab_type": "text"
      },
      "source": [
        "### Ejercicio 3\n",
        "\n",
        "Supongamos que tenemos dos cajas, una roja y otra azul. En la caja roja hay 2 manzanas y 6 naranjas, y en la azul hay 3 manzanas y una naranja (ver Figura).\n",
        "\n",
        "Suponemos ahora que elegimos al azar<sup>[1](#myfootnote1)</sup> una de las cajas y de esa caja elegimos al azar una fruta. Después de ver qué fruta es, la volvemos a meter en la caja de la que salió. Se repite este proceso muchas veces, suponiendo que elegimos la caja roja un 40% de las veces y la azul el 60% restante:\n",
        "\n",
        "a. ¿Cuál es la probabilidad de que saquemos una manzana?\n",
        "\n",
        "b. Dado que elegimos una naranja, ¿cuál es la probabilidad de que la caja elegida sea la azul?\n",
        "\n",
        "<u>Notas</u> <a name=\"myfootnote1\">1</a>: ¿Pueden definir más precisamente que quiere decir que elegir algo al azar?"
      ]
    },
    {
      "cell_type": "markdown",
      "metadata": {
        "id": "6dNHrM15eaDx",
        "colab_type": "text"
      },
      "source": [
        "Las variables aleatorias son:\n",
        "\n",
        "*Variable1*: qué caja se elige. La llamamos C(aja) y toma dos posibles valores: r(oja), a(zul)\n",
        "\n",
        "*Variable2*: qué fruta se elije. La llamamos F(ruta)y toma dos posibles valores: m(anzana), n(aranja)\n",
        "\n",
        "Noten que, a diferencia de lo que hice en la clase, usé la convención: nombre de variables en mayúscula; valores posibles en minúscula.\n",
        "\n",
        "En la caja roja hay: 2 manzanas, 6 naranjas. Se elige con probabilidad 40%. Es decir $P(C = r) = 0.4$\n",
        "\n",
        "El la caja azul hay: 3 manzanas, 1 naranja. Se elige con probabilidad 60%. Es decir $P(C = a) = 0.6$\n",
        "\n",
        "**a. ¿P(F = m)?**\n",
        "\n",
        "Calculamos las probabilidades condicionales:\n",
        "$$\n",
        "\\begin{array}{cc}\n",
        "P(F = m | C = r) = 2/8 = 1/4 \\\\\n",
        "P(F = m | C = a) = 3/4\n",
        "\\end{array}\n",
        "$$\n",
        "\n",
        "Usamos:\n",
        "\n",
        "- Fórmula de marginalización\n",
        "\n",
        "$P(F = m) = P(F = m, C = r) + P(F = m, C = a)$\n",
        "\n",
        "- Regla del producto [P(A, B) = P(A | B) P(B) = P(B | A) P(A)]\n",
        "\n",
        "$$\n",
        "\\begin{array}{cc}\n",
        "P(F = m, C = r) = P(F = m | C = r) * P(C = r) \\\\\n",
        "P(F = m, C = a) = P(F = m | C = a) * P(C = a)\n",
        "\\end{array}\n",
        "$$\n",
        "\n",
        "Juntando ambas, puedo escribir:\n",
        "$$\n",
        "\\begin{array}{cc}\n",
        "P(F = m) = P(F = m | C = r) * P(C = r) + P(F = m | C = a) * P(C = a) \\\\\n",
        "P(F = m) = 1/4 * 4/10 + 3/4 * 6/10 \n",
        "\\end{array}\n",
        "$$\n",
        "\n",
        "\n",
        "**b. ¿P(C = a | F = n)?**\n",
        "\n",
        "En este caso, hay que usa\n",
        "\n",
        "- Regla de Bayes / Teorema de Bayes\n",
        "$$\n",
        "P(C = a | F = n) = \\frac{P(F = n | C = a) P(C = a)}{P(F = n)}\n",
        "$$\n",
        "\n",
        "Les queda a ustedes calcular la marginal $P(F = n)$, igual que arriba, y poner los números."
      ]
    },
    {
      "cell_type": "markdown",
      "metadata": {
        "id": "KPvszSlheaDz",
        "colab_type": "text"
      },
      "source": [
        "### Ejercicio 4<sup>[1](#myfootnote1)</sup>\n",
        "\n",
        "Ahora supongamos que en lugar de dos cajas tenemos tres: una roja (<em>r</em>), una azul (<em>a</em>) y una verde (<em>v</em>). La caja <em>r</em> contiene 3 manzanas, 4 naranjas y 3 limas; la caja <em>a</em> contiene 1 manzana, 1 naranja y 0 limas; la caja <em>v</em> contiene 3 manzanas, 3 naranjas y cuatro limas. Si se elige una caja al azar con las siguientes probabilidades p(<em>r</em>) = 0.2, p(<em>b</em>) = 0.2, p(<em>g</em>) = 0.6, y todos los elementos de cada caja tienen la misma probabilida de ser elegidos, responder:\n",
        "\n",
        "a. ¿cuál es la probabilidad de sacar una manzana?\n",
        "\n",
        "b. ¿Si se sacó una naranja, cuál es la probabilidad de que provenga de la caja verde?\n",
        "\n",
        "<u>Notas</u> <a name=\"myfootnote1\">1</a>: Adaptado del Ejercicio 1.3 del libro de Bishop."
      ]
    },
    {
      "cell_type": "code",
      "metadata": {
        "id": "gmyl1DzLeaD1",
        "colab_type": "code",
        "colab": {}
      },
      "source": [
        ""
      ],
      "execution_count": null,
      "outputs": []
    },
    {
      "cell_type": "markdown",
      "metadata": {
        "id": "vcOPcgU0eaD9",
        "colab_type": "text"
      },
      "source": [
        "### Ejercicio 5\n",
        "\n",
        "En un programa de juegos de televisión, a un participante se le presentan tres puertas. Detrás de una de ellas se esconde un premio (digamos un auto). Si el participante elige la puerta detrás de la cual está el premio, se lo lleva. El participante elige una puerta, y el anfitrión (digamos Marley) abre una de las dos puertas restantes y revela que el premio no está detrás de esa puerta. A continuación, le ofrece al participante la posibilidad de cambiar de puerta.\n",
        "\n",
        "a. ¿Qué le conviene hacer? Sin hacer ninguna cuenta, intetar argumentar a favor de alguna de las dos estrategias. (<b>Consejo</b>: pensar qué pasaría si en lugar de tres puertas, hubiera 10. O 100.)\n",
        "\n",
        "b. Usar el teorema de Bayes para calcular la probabilidad ganar usando cada una de las estrategias.\n",
        "\n",
        "*c. Simular la situación en la computadora, y confirmar el resultado del cálculo analítico. Ejecutar un número (1000?) de veces la simulación para cada una de las estrategias y contar las veces que se gana. \n",
        "\n",
        "d. Repetir el experimento varias veces y estudiar la distribución de veces que se gana con cada una de las estrategias. ¿Qué distribución de masa sería adecuada para modelar los resultados? ¿Por qué?"
      ]
    },
    {
      "cell_type": "code",
      "metadata": {
        "id": "mdfG0nipeaD-",
        "colab_type": "code",
        "colab": {}
      },
      "source": [
        ""
      ],
      "execution_count": null,
      "outputs": []
    },
    {
      "cell_type": "markdown",
      "metadata": {
        "id": "OBzon3PTe--n",
        "colab_type": "text"
      },
      "source": [
        "### Ejercicio 6 (guiado casi hasta el final)\n",
        "\n",
        "Tomaremos un set de Datos de Student Alcohol Consumption de la UCI alojada por Kaggle. Pueden descargar el dataset de la clase de matemáticas aquí https://www.kaggle.com/uciml/student-alcohol-consumption#student-mat.csv y subirlo en google Colab, desde la pestaña izquierda. En el repo, ya esta alojado en el directorio datasets.\n",
        "\n",
        "Para los que usan Google Colab, ejecuten esta celda una unica vez para descargar los datos. Si clonaron el repositorio usando git, no hace falta.\n"
      ]
    },
    {
      "cell_type": "code",
      "metadata": {
        "id": "TJfW_Si2fjzP",
        "colab_type": "code",
        "colab": {}
      },
      "source": [
        "#Si estas en Google Colab, ejecuta esta celda una unica vez:\n",
        "!mkdir datasets\n",
        "!mkdir datasets/student-alcohol-consumption\n",
        "!wget https://raw.githubusercontent.com/IAI-UNSAM/ML_UNSAM/master/datasets/student-alcohol-consumption/student-mat.csv\n",
        "!mv student-mat.csv datasets/student-alcohol-consumption/student-mat.csv"
      ],
      "execution_count": null,
      "outputs": []
    },
    {
      "cell_type": "markdown",
      "metadata": {
        "id": "SruJ5zPPfnVp",
        "colab_type": "text"
      },
      "source": [
        "Primero que nada, carguemos el dataset usando pandas:"
      ]
    },
    {
      "cell_type": "code",
      "metadata": {
        "id": "fPvpZ-W3fqtA",
        "colab_type": "code",
        "colab": {}
      },
      "source": [
        "df = pd.read_csv('datasets/student-alcohol-consumption/student-mat.csv')\n",
        "print(\"Cantidad de registros: {}\".format(len(df)))\n",
        "df.head()"
      ],
      "execution_count": null,
      "outputs": []
    },
    {
      "cell_type": "markdown",
      "metadata": {
        "id": "xFXpHy8lft2D",
        "colab_type": "text"
      },
      "source": [
        "Los datos son de una encuesta realizada a 395 alumnos de una clase de matemáticas, y tenemos muchos campos. Nos concentraremos en la siguiente pregunta: __¿Cual es la probabilidad de aprobar con una nota de 80% o más si falté 10 o más clases?__\n",
        "\n",
        "Para hacerlo, crearemos unas columnas con 0 o 1 dependiendo de si cumplen las condiciones o no, así facilitaremos la tarea de contabilizar. La nota final esta en la columna G3, en una escala de 0 a 20. Las ausencias se contabilizan en absences."
      ]
    },
    {
      "cell_type": "code",
      "metadata": {
        "id": "06iCBFVof9zb",
        "colab_type": "code",
        "colab": {}
      },
      "source": [
        "df['aprueba'] = np.where(df['G3']*5 >= 80, 1, 0)\n",
        "df['falto_mucho'] = np.where(df['absences'] >= 10, 1, 0)"
      ],
      "execution_count": null,
      "outputs": []
    },
    {
      "cell_type": "markdown",
      "metadata": {
        "id": "78zKeYKDf4o7",
        "colab_type": "text"
      },
      "source": [
        "Para contar las columnas, nos será útil crear una columna de 1 constante, así contar es simplemente sumar dicho campo."
      ]
    },
    {
      "cell_type": "code",
      "metadata": {
        "id": "i0e5z6B-gClR",
        "colab_type": "code",
        "colab": {}
      },
      "source": [
        "df['cuenta'] = 1"
      ],
      "execution_count": null,
      "outputs": []
    },
    {
      "cell_type": "markdown",
      "metadata": {
        "id": "KMHHmbmYgDJo",
        "colab_type": "text"
      },
      "source": [
        "Ahora nos deshacemos de todas las otras columnas:"
      ]
    },
    {
      "cell_type": "code",
      "metadata": {
        "id": "pxjkbzJCgE2J",
        "colab_type": "code",
        "colab": {}
      },
      "source": [
        "df = df[['aprueba','falto_mucho','cuenta']]\n",
        "df.head()"
      ],
      "execution_count": null,
      "outputs": []
    },
    {
      "cell_type": "markdown",
      "metadata": {
        "id": "HWXCMCqIgH3S",
        "colab_type": "text"
      },
      "source": [
        "Lo que sigue es transformar nuestra tabla. Queremos una tabla 2x2, la cuyos ejes sean el valor de \"aprueba\" y \"falto mucho\", y cuyos contenidos sea la cantidad de alumnos en cada categoría. Eso lo podemos conseguir utilizando el método pd.pivot_table usando la suma como función de agregación de la columna cuenta:\n",
        "\n",
        "La funcion pivot_table toma un DataFrame y crea a partir de el otro que tenga como índices los valores de la columna indicada en index=, como columnas los valores de las columnas indicadas en columns=, y como valores a los de las columnas indicadas en values=. Si hay muchas coincidencias de valores para una misma celda, forma un vector. Para obtener un número en cada celda, seleccionamos una función de agregación con aggfunc= que se aplicará sobre los vectores. En caso de que hayan celdas vacías, se rellenarán usando el valor especificado en fill_value=.\n",
        "\n",
        "En nuestro caso, como usamos de valores la columna cuenta que tiene solo números 1, la función de agregación para contar casos puede ser bien la de la suma np.sum. (Prueben también con len, la longitud del vector, que debería funcionar de igual modo)."
      ]
    },
    {
      "cell_type": "code",
      "metadata": {
        "id": "qe30v8JmgLW0",
        "colab_type": "code",
        "colab": {}
      },
      "source": [
        "pd.pivot_table(\n",
        "    df,\n",
        "    values = 'cuenta',\n",
        "    index = ['aprueba'],\n",
        "    columns = ['falto_mucho'],\n",
        "    aggfunc = np.sum,\n",
        "    fill_value = 0)"
      ],
      "execution_count": null,
      "outputs": []
    },
    {
      "cell_type": "markdown",
      "metadata": {
        "id": "1GKDjrNOgXq-",
        "colab_type": "text"
      },
      "source": [
        "Podemos ver entonces que, la cantidad de alumnos que falto poco y desaprobó es 277, que faltó mucho y desaprobó es 78, que faltó poco y aprobó es 35 y que faltó mucho y aprobó es 5, siendo la cantidad total de alumnos 395.\n",
        "\n",
        "A partir de estos datos, obtenga la probabilidad de aprobar con una nota de 80% o más si falté 10 o más clases."
      ]
    },
    {
      "cell_type": "code",
      "metadata": {
        "id": "2A8AUy5eggul",
        "colab_type": "code",
        "colab": {}
      },
      "source": [
        ""
      ],
      "execution_count": null,
      "outputs": []
    }
  ]
}