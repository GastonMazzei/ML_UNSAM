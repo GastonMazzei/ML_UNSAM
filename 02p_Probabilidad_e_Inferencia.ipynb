{
  "nbformat": 4,
  "nbformat_minor": 0,
  "metadata": {
    "colab": {
      "name": "02p_Probabilidad.ipynb",
      "provenance": [],
      "collapsed_sections": [
        "5YHHk9_85PR6"
      ]
    },
    "kernelspec": {
      "name": "python3",
      "display_name": "Python 3"
    }
  },
  "cells": [
    {
      "cell_type": "code",
      "metadata": {
        "id": "vM1er7re4ZRz",
        "colab_type": "code",
        "colab": {}
      },
      "source": [
        "# Preparamos todo para correr\n",
        "import numpy as np\n",
        "from math import sqrt\n",
        "from matplotlib import pylab as plt\n",
        "from scipy.stats import norm\n"
      ],
      "execution_count": null,
      "outputs": []
    },
    {
      "cell_type": "markdown",
      "metadata": {
        "id": "5YHHk9_85PR6",
        "colab_type": "text"
      },
      "source": [
        "# Probabilidad Condicionada y Teorema de Bayes"
      ]
    },
    {
      "cell_type": "markdown",
      "metadata": {
        "id": "Q8RooE0C5UQ3",
        "colab_type": "text"
      },
      "source": [
        "Apliquemos los conceptos vistos con Rodrigo en el siguiente problema:\n",
        "\n",
        "__Ejercicio__: \n",
        "\n",
        "Una enfermedad genética rara afecta al 0.1% de la población de un país. Para diagnosticarla, existe un análisis clínico que detecta la enfermedad en el 99% de los casos en los que el paciente la padece, y tiene un 1% de falsos positivos.\n",
        "\n",
        "Un paciente recibe un resultado positivo del análisis clínico.\n",
        "\n",
        "¿Qué probabilidad hay de que la persona padezca la enfermedad?\n",
        "¿Cuál sería el próximo paso natural?"
      ]
    },
    {
      "cell_type": "markdown",
      "metadata": {
        "id": "65eUeQF65x7g",
        "colab_type": "text"
      },
      "source": [
        "Antes de avanzar, entendamos bien el problema.\n",
        "\n",
        "__Cual es el espacio de muestreo?__"
      ]
    },
    {
      "cell_type": "code",
      "metadata": {
        "id": "udyYuV8p5SHb",
        "colab_type": "code",
        "colab": {}
      },
      "source": [
        ""
      ],
      "execution_count": null,
      "outputs": []
    },
    {
      "cell_type": "markdown",
      "metadata": {
        "id": "KKIiTJFY6GNn",
        "colab_type": "text"
      },
      "source": [
        "__Que es un falso positivo?__"
      ]
    },
    {
      "cell_type": "code",
      "metadata": {
        "id": "PvkLx-Pe6fVb",
        "colab_type": "code",
        "colab": {}
      },
      "source": [
        ""
      ],
      "execution_count": null,
      "outputs": []
    },
    {
      "cell_type": "markdown",
      "metadata": {
        "id": "QwDOx2mF6ike",
        "colab_type": "text"
      },
      "source": [
        "__Escribamos las probabilidades que podemos inferir del enunciado__"
      ]
    },
    {
      "cell_type": "code",
      "metadata": {
        "id": "Sjrb9q9N6m6Q",
        "colab_type": "code",
        "colab": {}
      },
      "source": [
        ""
      ],
      "execution_count": null,
      "outputs": []
    },
    {
      "cell_type": "markdown",
      "metadata": {
        "id": "WCPrnjnw6nyj",
        "colab_type": "text"
      },
      "source": [
        "Ahora si, resolvamos el problema. \n",
        "\n",
        "__Que queremos obtener? Como podemos obtenerlo a partir de los datos?__ "
      ]
    },
    {
      "cell_type": "code",
      "metadata": {
        "id": "yFsYff_T6w40",
        "colab_type": "code",
        "colab": {}
      },
      "source": [
        ""
      ],
      "execution_count": null,
      "outputs": []
    },
    {
      "cell_type": "markdown",
      "metadata": {
        "id": "PAsu1RWg6yZn",
        "colab_type": "text"
      },
      "source": [
        "# Inferencia Bayesiana y Prior conjugado"
      ]
    },
    {
      "cell_type": "markdown",
      "metadata": {
        "id": "iOO9WUF-7h2S",
        "colab_type": "text"
      },
      "source": [
        "Resolvamos el siguiente ejercicio\n",
        "\n",
        "__Ejercicio__\n",
        "\n",
        "Para mantener el distanciamiento social, decidi comprar un medidor de distancias a base de laser. Segun el fabricante, la incerteza en la medicion es de 1 cm (estoy exagerando, no culpen a los laseres). En la fila del supermercado, y como estoy aburrido, observe que no estoy del todo seguro de que la persona delante mio este a 1 metro y medio de distancia: puede estar 10 centrimetros mas adelante o mas atras (se me empanian los anteojos). Dado que llevo el laser conmigo, mido 5 veces la distancia para estar seguro.\n",
        "\n",
        "Como puedo usar lo que vimos con Rodrigo para deducir la distancia?"
      ]
    },
    {
      "cell_type": "markdown",
      "metadata": {
        "id": "oDJfTj0u29Re",
        "colab_type": "text"
      },
      "source": [
        "__Datos__\n",
        "\n",
        "Voy a generar los datos yo. Utilizo el metodo norm.rvs"
      ]
    },
    {
      "cell_type": "code",
      "metadata": {
        "id": "tge7Wl9X3FTf",
        "colab_type": "code",
        "colab": {}
      },
      "source": [
        "N=5\n",
        "mu_true=1.30\n",
        "sigma=0.01\n",
        "distancias=norm.rvs(loc=mu_true,scale=sigma,size=N)\n",
        "plt.hist(distancias)"
      ],
      "execution_count": null,
      "outputs": []
    },
    {
      "cell_type": "markdown",
      "metadata": {
        "id": "5xnXvAAs6H38",
        "colab_type": "text"
      },
      "source": [
        "__Teorema de Bayes__\n",
        "\n",
        "Planteemos el problema en funcion de parametros y mediciones. Veamos que queremos deducir."
      ]
    },
    {
      "cell_type": "markdown",
      "metadata": {
        "id": "VAiFP_aE6uME",
        "colab_type": "text"
      },
      "source": [
        "## Oculten esto hasta resolver el Teorema de Bayes"
      ]
    },
    {
      "cell_type": "markdown",
      "metadata": {
        "id": "cmGagr8S27Hl",
        "colab_type": "text"
      },
      "source": [
        "__Verosimilitud__"
      ]
    },
    {
      "cell_type": "markdown",
      "metadata": {
        "id": "MrOrLmLv27E4",
        "colab_type": "text"
      },
      "source": [
        "Como argumentamos, vamos a asumir que la distribucion de los datos, es decir las mediciones de la distancia es una Gaussiana dictada por la distancia real $\\mu$ con incerteza $\\sigma$ dada por el laser. En ese caso, para una unica medicion la verosimilitud tendra la forma\n",
        "\n",
        "$p(x|\\mu,\\sigma)=\\mathcal{N}(x|\\mu,\\sigma)=\\frac{1}{\\sqrt{2\\pi\\sigma^{2}}}e^{-\\frac{(x-\\mu)^2}{2\\sigma^2}}$\n",
        "\n",
        "Si tengo N mediciones independientes:\n",
        "\n",
        "$p(x_1,x_2,...,x_N|\\mu,\\sigma)=\\prod_{i=1}^{N}p(x_{i}|\\mu,\\sigma)=\\frac{1}{(2\\pi\\sigma^2)^{N/2}}e^{-\\frac{1}{2\\sigma^2}\\sum_{i=1}^{N}(x_{i}-\\mu)^2}$"
      ]
    },
    {
      "cell_type": "markdown",
      "metadata": {
        "id": "1IqT_ez45t01",
        "colab_type": "text"
      },
      "source": [
        "__Prior__\n",
        "\n",
        "Considero como prior para la distancia real $\\mu$ una distribucion normal centrada en mi estimacion a ojo $\\mu_{0}$ y la incerteza de esa estimacion $\\sigma_{0}$.\n",
        "\n",
        "$p(\\mu|\\mu_{0},\\sigma_{0})=\\mathcal{N}(\\mu|\\mu_{0},\\sigma_{0})=\\frac{1}{\\sqrt{2\\pi\\sigma_{0}^{2}}}e^{-\\frac{(\\mu-\\mu_{0})^2}{2\\sigma_{0}^2}}$"
      ]
    },
    {
      "cell_type": "markdown",
      "metadata": {
        "id": "-RffIMFKF9RN",
        "colab_type": "text"
      },
      "source": [
        "__Inferencia__\n",
        "\n",
        "Este prior tiene la ventaja de que es conjugado. Esto quiere decir que, viendo el __Teorema de Bayes__\n",
        "\n",
        "$p(\\mu|x_{1},x_{2},...,x_{N}, \\sigma, \\mu_0,\\sigma_0)=\\frac{\\mathcal{N}(x_1,x_2,...,x_N|\\mu,\\sigma)\\mathcal{N}(\\mu|\\mu_{0},\\sigma_{0})}{p(x_1,x_2,...,x_N|\\sigma,\\mu_0,\\sigma_0)}=\\mathcal{N}(\\mu|\\mu_N,\\sigma_N)$\n",
        "\n",
        "Donde \n",
        "\n",
        "$\\mu_N = \\frac{\\sigma^2}{\\sigma^2+N\\sigma_{0}^{2}}\\mu_{0}+\\frac{N\\sigma_{0}^2}{\\sigma^2+N\\sigma_{0}^{2}}\\mu_{ML}$\n",
        "\n",
        "$\\frac{1}{\\sigma_{N}^{2}}=\\frac{N}{\\sigma^{2}}+\\frac{1}{\\sigma_{0}^{2}}$\n",
        "\n",
        "Con $\\mu_{ML} = \\frac{1}{N}\\sum_{i=1}^{N}x_{i}$.\n",
        "\n",
        "Es decir, uno puede resolver analiticamente este problema y obtener la distribucion de probabilidad de la distancia real que incorpora las $N$ mediciones.\n",
        "\n",
        "__Mini ejercicio__\n",
        "\n",
        "Charlemos limites de $\\mu_N$ y $\\sigma_N$\n",
        "\n",
        "```\n",
        "# Esto tiene formato de código\n",
        "```\n",
        "\n"
      ]
    },
    {
      "cell_type": "markdown",
      "metadata": {
        "id": "v4RBoqgIFgj-",
        "colab_type": "text"
      },
      "source": [
        "__Implementacion__\n",
        "\n",
        "Hagamoslo de dos maneras: grafiquemos la funcion analitica y apliquemos el teorema de Bayes numericamente."
      ]
    },
    {
      "cell_type": "markdown",
      "metadata": {
        "id": "1weUL5gfGe5C",
        "colab_type": "text"
      },
      "source": [
        "### Implementacion hecha por si no alcanza el tiempo"
      ]
    },
    {
      "cell_type": "markdown",
      "metadata": {
        "id": "o1w0qXfmGH35",
        "colab_type": "text"
      },
      "source": [
        "__Analitica__"
      ]
    },
    {
      "cell_type": "code",
      "metadata": {
        "id": "kRPt8sVjFsDf",
        "colab_type": "code",
        "colab": {}
      },
      "source": [
        "mu_0=1.5\n",
        "sigma_0=0.1\n",
        "mu_ML=np.mean(distancias)\n",
        "nsteps=100\n",
        "mu=np.linspace(1.0,2.0,nsteps)\n",
        "prior=norm(loc=mu_0,scale=sigma_0)\n",
        "plt.plot(mu,prior.pdf(mu),color='blue',label='Prior')\n",
        "\n",
        "verosimilitud_aux=list(map(lambda x: norm.pdf(x,mu,sigma*np.ones(len(mu))),distancias))\n",
        "verosimilitud=np.prod(verosimilitud_aux,axis=0)\n",
        "plt.plot(mu,nsteps*verosimilitud/np.sum(verosimilitud),color='red',label='Forma de la Verosimilitud')\n",
        "\n",
        "\n",
        "mu_N=mu_0*(sigma**2)/(N*(sigma_0)**2+sigma**2)+mu_ML*(N*sigma_0**2)/(N*(sigma_0)**2+sigma**2)\n",
        "sigma_N=np.sqrt(1/(1/sigma_0**2+N/sigma**2))\n",
        "posterior_an=norm(loc=mu_N,scale=sigma_N)\n",
        "plt.plot(mu,posterior_an.pdf(mu),color='magenta',label='Posterior Analtica')\n",
        "\n",
        "plt.xlabel('$\\mu$')\n",
        "plt.legend(loc='upper left')\n",
        "\n",
        "\n",
        "print(np.mean(posterior_an.rvs(size=nsteps)),np.sqrt(np.var(posterior_an.rvs(size=nsteps))))\n"
      ],
      "execution_count": null,
      "outputs": []
    },
    {
      "cell_type": "markdown",
      "metadata": {
        "id": "pw8cQdOeGKng",
        "colab_type": "text"
      },
      "source": [
        "__Numerica__"
      ]
    },
    {
      "cell_type": "code",
      "metadata": {
        "id": "JNVZDmQAGMy0",
        "colab_type": "code",
        "colab": {}
      },
      "source": [
        "mu_0=1.5\n",
        "sigma_0=0.1\n",
        "mu_ML=np.mean(distancias)\n",
        "nsteps=100\n",
        "mu=np.linspace(1.0,2.0,nsteps)\n",
        "prior=norm(loc=mu_0,scale=sigma_0)\n",
        "plt.plot(mu,prior.pdf(mu),color='blue',label='Prior')\n",
        "\n",
        "verosimilitud_aux=list(map(lambda x: norm.pdf(x,mu,sigma*np.ones(len(mu))),distancias))\n",
        "verosimilitud=np.prod(verosimilitud_aux,axis=0)\n",
        "plt.plot(mu,nsteps*verosimilitud/np.sum(verosimilitud),color='red',label='Forma de la Verosimilitud')\n",
        "\n",
        "print((mu.shape,prior.pdf(mu).shape,verosimilitud.shape))\n",
        "evidencia=np.sum(verosimilitud*prior.pdf(mu))*nsteps\n",
        "posterior_num=verosimilitud*prior.pdf(mu)/evidencia\n",
        "plt.plot(mu,posterior_an.pdf(mu),color='green',label='Posterior Numerica')\n",
        "\n",
        "plt.xlabel('$\\mu$')\n",
        "plt.legend(loc='upper left')\n",
        "\n",
        "\n",
        "print(np.mean(posterior_num.rvs(size=nsteps)),np.sqrt(np.var(posterior_num.rvs(size=nsteps))))"
      ],
      "execution_count": null,
      "outputs": []
    },
    {
      "cell_type": "markdown",
      "metadata": {
        "id": "N2dnEVr77SDO",
        "colab_type": "text"
      },
      "source": [
        "### Demostracion "
      ]
    },
    {
      "cell_type": "markdown",
      "metadata": {
        "id": "qJG6uOVTG2kN",
        "colab_type": "text"
      },
      "source": [
        "Demostremos la propiedad del prior conjugado utilizando una unica medicion $x$. Para ese caso\n",
        "\n",
        "$p(\\mu|x,\\sigma, \\mu_0,\\sigma_0)=\\frac{1}{\\sqrt{2\\pi\\sigma^{2}}}e^{-\\frac{(x-\\mu)^2}{2\\sigma^2}}\\frac{1}{\\sqrt{2\\pi\\sigma_{0}^{2}}}e^{-\\frac{(\\mu-\\mu_{0})^2}{2\\sigma_{0}^2}}\\frac{1}{p(x|\\sigma,\\mu_{0},\\sigma_{0})}$\n",
        "\n",
        "Con $p(x|\\sigma,\\mu_{0},\\sigma_{0})=\\int\\frac{1}{\\sqrt{2\\pi\\sigma^{2}}}e^{-\\frac{(x-\\mu)^2}{2\\sigma^2}}\\frac{1}{\\sqrt{2\\pi\\sigma_{0}^{2}}}e^{-\\frac{(\\mu-\\mu_{0})^2}{2\\sigma_{0}^2}}d\\mu $\n",
        "\n",
        "Las constantes multiplicativas se simplifican. Ademas, puedo sacar todos los terminos que no dependan de $\\mu$ de la integral y simplificarlos. Estos son\n",
        "\n",
        "$e^{-\\frac{x^2}{2\\sigma^2}}e^{-\\frac{\\mu_{0}^2}{2\\sigma_{0}^{2}}}$\n",
        "\n",
        "Simplificando y juntando las exponenciales\n",
        "\n",
        "$p(\\mu|x,\\sigma, \\mu_0,\\sigma_0)=\\frac{e^{-[\\mu^2(\\frac{1}{2\\sigma^2}+\\frac{1}{2\\sigma_{0}^2})-2\\mu(\\frac{x}{2\\sigma^2}+\\frac{\\mu_0}{2\\sigma_{0}^{2}})]}}{\\int e^{-[\\mu^2(\\frac{1}{2\\sigma^2}+\\frac{1}{2\\sigma_{0}^2})-2\\mu(\\frac{x}{2\\sigma^2}+\\frac{\\mu_0}{2\\sigma_{0}^{2}})]}d\\mu }$\n",
        "\n",
        "Recordemos que se cumple trivialmente que $\\int p(\\mu|x,\\sigma,\\mu_0,\\sigma_0)d\\mu =1$\n",
        "\n",
        "Vemos que esto tiene forma de exponencial cuadratica en $\\mu$. Recordando la forma generica de una gaussiana:\n",
        "\n",
        "$\\mathcal{N}(\\mu|\\mu_{1},\\sigma_{1})=\\frac{e^{-\\frac{(\\mu-\\mu_{1})^2}{2\\sigma_{1}^{2}}}}{\\int e^{-\\frac{(\\mu-\\mu_{1})^2}{2\\sigma_{1}^{2}}} d\\mu}$\n",
        "\n",
        "Abriendo cuadrados obtenemos $\\mu_{1}$ y $\\sigma_{1}$ comparando termino por termino.  Noten que la expresion de $p(\\mu|x,\\sigma,\\mu_{0},\\sigma_{0})$ solo contiene terminos cuadraticos y lineales en $\\mu$. Sin embargo, el termino $e^{-\\frac{\\mu_{1}^{2}}{2\\sigma_{1}^2}}$ puede agregarse tanto al denominador como al numerador, recuperando efectivamente $\\mathcal{N}(\\mu|\\mu_1,\\sigma_1)$.\n",
        "\n",
        "Para el caso de $N$ mediciones independientes, las cuentas son analogas y pueden obtener $\\mu_{N}$ y $\\sigma_{N}$.\n",
        "\n"
      ]
    },
    {
      "cell_type": "code",
      "metadata": {
        "id": "PE2SO115zZ9I",
        "colab_type": "code",
        "colab": {}
      },
      "source": [
        ""
      ],
      "execution_count": null,
      "outputs": []
    }
  ]
}