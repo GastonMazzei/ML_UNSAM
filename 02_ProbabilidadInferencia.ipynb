{
 "cells": [
  {
   "cell_type": "markdown",
   "metadata": {},
   "source": [
    "Si estas en Google Colab, ejecutá esta celda de abajo. Si clonaste el repositorio con git o lo descargaste y corres localmente, ignorá esta primer celda."
   ]
  },
  {
   "cell_type": "code",
   "execution_count": null,
   "metadata": {},
   "outputs": [],
   "source": [
    "!mkdir library\n",
    "!wget https://raw.githubusercontent.com/exord/UNSAM_IA/master/library/utils.py\n",
    "!mv utils.py library/utils.py"
   ]
  },
  {
   "cell_type": "markdown",
   "metadata": {},
   "source": [
    "***"
   ]
  },
  {
   "cell_type": "code",
   "execution_count": 3,
   "metadata": {},
   "outputs": [],
   "source": [
    "# Por si alguien corre en python2\n",
    "from __future__ import division\n",
    "\n",
    "# Preparamos todo para correr\n",
    "import numpy as np\n",
    "from math import sqrt\n",
    "from matplotlib import pylab as plt\n",
    "\n",
    "# Importamos un módulo nuestro\n",
    "from library import utils"
   ]
  },
  {
   "cell_type": "markdown",
   "metadata": {
    "heading_collapsed": true
   },
   "source": [
    "# *Aleatoreidad y probabilidad*"
   ]
  },
  {
   "cell_type": "markdown",
   "metadata": {
    "hidden": true
   },
   "source": [
    "La aleatoredidad es un concepto central de la teoría de probabilidad. En general, la aleatoredidad viene asociada con la incetidumbre, que puede surgir por los errores de los datos o por los tamaños finitos de las muestras.\n",
    "\n",
    "En la computadora, la aleatoreidad se simula usando como base un [generador de números pseudo aleatorios](https://en.wikipedia.org/wiki/Pseudorandom_number_generator) (GNPA). Un GNPA genera una serie de números cuyas propiedades son similares a las de una serie de números aleatorios.\n",
    "\n",
    "En <tt>python</tt> muchas de las funciones relacionadas están implementadas en el módulo `random`, pero una implementación más práctica aparece en el paquete `numpy`"
   ]
  },
  {
   "cell_type": "code",
   "execution_count": null,
   "metadata": {
    "hidden": true
   },
   "outputs": [],
   "source": [
    "# Importamos el paquete random de numpy\n",
    "from numpy import random"
   ]
  },
  {
   "cell_type": "code",
   "execution_count": null,
   "metadata": {
    "hidden": true
   },
   "outputs": [],
   "source": [
    "# Generamos un número al azar en el intervalo [0.0, 1.0)\n",
    "x = random.rand()\n",
    "print(x)"
   ]
  },
  {
   "cell_type": "markdown",
   "metadata": {
    "hidden": true
   },
   "source": [
    "Fíjense que si corren la celda de arriba muchas veces, el resultado obtenido es diferente, pero siempre un número entre 0 y 1. Pero en realidad, los GNPA utilizan algoritmos, cuyas propiedades estás perfectamente definidas por el valor inicial (la semilla, o <em>seed</em>). Por lo tanto, no son realmente aleatorios. En los viejos tiempos, en <tt>python</tt>, el <em>seed</em> podía definirse simplemente con la función homónima."
   ]
  },
  {
   "cell_type": "code",
   "execution_count": null,
   "metadata": {
    "hidden": true
   },
   "outputs": [],
   "source": [
    "random.seed(1234)\n",
    "print(random.rand())\n",
    "random.seed(1234)\n",
    "print(random.rand())"
   ]
  },
  {
   "cell_type": "markdown",
   "metadata": {
    "hidden": true
   },
   "source": [
    "Una característica práctica de la implementación en <tt>numpy</tt> es que se puede generar <tt>arrays</tt> de números aleatorios, pasándole el tamaño en cada dimensión. El jueves vamos a ver más detalle de las características de los <tt>arrays</tt> de <tt>numpy</tt>."
   ]
  },
  {
   "cell_type": "code",
   "execution_count": null,
   "metadata": {
    "hidden": true
   },
   "outputs": [],
   "source": [
    "random.seed(1234)\n",
    "print('Un array de 5x1')\n",
    "print(random.rand(5,))\n",
    "print('Un array de 3x2')\n",
    "print(random.rand(3,2))"
   ]
  },
  {
   "cell_type": "markdown",
   "metadata": {
    "hidden": true
   },
   "source": [
    "Y por supuesto, si vuelvo a la misma semilla, los resultado son idénticos."
   ]
  },
  {
   "cell_type": "code",
   "execution_count": null,
   "metadata": {
    "hidden": true
   },
   "outputs": [],
   "source": [
    "random.seed(1234)\n",
    "print('Un array de 5x1')\n",
    "print(random.rand(5,))\n",
    "print('Un array de 3x2')\n",
    "print(random.rand(3,2))"
   ]
  },
  {
   "cell_type": "markdown",
   "metadata": {
    "hidden": true
   },
   "source": [
    "Como se puede ver arriba, para una semilla dada, la serie de números generada es idéntica. En la actualidad, fijar el <em>seed</em> de la manera que aparece arriba se considera mala práctica, y la sugerencia es hacer lo siguiente:"
   ]
  },
  {
   "cell_type": "code",
   "execution_count": null,
   "metadata": {
    "hidden": true
   },
   "outputs": [],
   "source": [
    "from numpy.random import RandomState, SeedSequence\n",
    "rs = RandomState(random.MT19937(SeedSequence(1234)))\n",
    "print(rs.rand(5,))\n",
    "# Later, you want to restart the stream\n",
    "rs = RandomState(random.MT19937(SeedSequence(1234)))\n",
    "print(rs.rand(5,))"
   ]
  },
  {
   "cell_type": "markdown",
   "metadata": {
    "hidden": true
   },
   "source": [
    "De esta manera, se puede tener generadores independientes, inicializados de manera diferente, cosa que no podía hacerse antes.\n",
    "\n",
    "*** \n",
    "\n",
    "Ahora vamos a intentar visualizar una muestra de una distribución uniforme. Generamos una muestra de 100 elementos de vectores en dos dimenciones, en la región -1 < x < 1; -1 < y < 1"
   ]
  },
  {
   "cell_type": "code",
   "execution_count": null,
   "metadata": {
    "hidden": true
   },
   "outputs": [],
   "source": [
    "import matplotlib.patches as patches\n",
    "\n",
    "# Genaramos la muestra\n",
    "sample = random.rand(100, 2)\n",
    "\n",
    "# Como queremos que la muestra esté entre -1 y 1 en ambas dimensiones, tenemos que multiplicar por 2 y restar 1.\n",
    "sample = sample * 2 - 1\n",
    "\n",
    "# Imprimimos la forma de la muestra y la representamos en un plano.\n",
    "print(sample.shape)\n",
    "l0, = plt.plot(sample[:, 0], sample[:, 1], '.')\n",
    "\n",
    "# Para que sea más bonito, ponemos los ejes del mismo tamaño y le agregamos lineas verticales y horizontales\n",
    "ax = plt.gca()\n",
    "ax.set_aspect('equal')\n",
    "ax.axvline(0, color='0.5', zorder=-1)\n",
    "ax.axhline(0, color='0.5', zorder=-1)\n",
    "\n",
    "def axis_on_center(ax):\n",
    "    # Move left y-axis and bottim x-axis to centre, passing through (0,0)\n",
    "    ax.spines['left'].set_position('center')\n",
    "    ax.spines['bottom'].set_position('center')\n",
    "\n",
    "    # Eliminate upper and right axes\n",
    "    ax.spines['right'].set_color('none')\n",
    "    ax.spines['top'].set_color('none')\n",
    "\n",
    "    # Show ticks in the left and lower axes only\n",
    "    ax.xaxis.set_ticks_position('bottom')\n",
    "    ax.yaxis.set_ticks_position('left')\n",
    "    \n",
    "    # Corro los labels\n",
    "    ax.xaxis.set_label_position('top') \n",
    "    ax.yaxis.set_label_position('right') \n",
    "    return \n",
    "\n",
    "axis_on_center(ax)\n",
    "ax.set_xlim(-1.3, 1.3)\n",
    "ax.set_ylim(-1.3, 1.3)\n",
    "ax.set_xlabel(u'$\\\\theta_0$', fontsize=16)\n",
    "ax.set_ylabel(u'$\\\\theta_1$', fontsize=16, rotation='horizontal')\n",
    "\n",
    "# Agrego cuadradito\n",
    "rect = patches.Rectangle(xy=(-1.0, -1.0), width=2.0, height=2.0, facecolor='None', \n",
    "                         edgecolor='r', lw='0.5')\n",
    "ax.add_patch(rect)\n",
    "\n",
    "plt.show()"
   ]
  },
  {
   "cell_type": "markdown",
   "metadata": {
    "hidden": true
   },
   "source": [
    "Vamos a contar ahora cuantos de los elementos de la muestra caen en el cuadrante superior derecho, y veamos a qué fracción del total corresponde. Pero antes, <b>¿qué valor esperamos? ¿por qué?</b>"
   ]
  },
  {
   "cell_type": "code",
   "execution_count": null,
   "metadata": {
    "hidden": true
   },
   "outputs": [],
   "source": [
    "# Escribimos la condición de pertenencia al cuadrante de interés\n",
    "cond = (sample[:, 0] > 0) * (sample[:, 1] > 0)\n",
    "\n",
    "# Veamos la pinta que tiene cond\n",
    "print(cond)"
   ]
  },
  {
   "cell_type": "code",
   "execution_count": null,
   "metadata": {
    "hidden": true
   },
   "outputs": [],
   "source": [
    "# Sumar los elementos de cond nos dice en cuantos casos la condición se satisface\n",
    "n_ad = np.sum(cond)\n",
    "print('Hay {} elementos en el cuadrante superior derecho.'.format(n_ad))\n",
    "\n",
    "# Calculo la fracción a la que correponde\n",
    "f_ad = n_ad / len(sample)\n",
    "print('La fracción de elementos en el cuadrante superior derecho es {}.'.format(f_ad))"
   ]
  },
  {
   "cell_type": "markdown",
   "metadata": {
    "hidden": true
   },
   "source": [
    "Como es de esperar, la fracción se aproxima a 1/4. Pero, <b>¿cuán cerca de 0.25 tenemos que tiene que estar el número obtenido para que nos quedemos contentos? ¿y cómo cambia esto con el tamaño de la muestra?</b>"
   ]
  },
  {
   "cell_type": "markdown",
   "metadata": {
    "heading_collapsed": true,
    "hidden": true
   },
   "source": [
    "## Incertezas"
   ]
  },
  {
   "cell_type": "markdown",
   "metadata": {
    "hidden": true
   },
   "source": [
    "Para responder a esas preguntas, por un lado tenemos que definir algún concepto de incerteza de f_ad. Ya veremos que la variable f_ad sigue una distribución Poissoneana, cuyo desvio estándar (ya lo definiremos bien, pero podemos pensarlo como un error), es $\\sqrt{n_{AD}}/N$, donde $N$ es el tamaño de la muestra. Entonces"
   ]
  },
  {
   "cell_type": "code",
   "execution_count": null,
   "metadata": {
    "hidden": true
   },
   "outputs": [],
   "source": [
    "sd_f = sqrt(n_ad)/len(sample)\n",
    "\n",
    "print('El error de f_ur es {}'.format(sd_f))\n",
    "print('La fracción es entonces {:.3f} \\pm {:.3f}'.format(f_ad, sd_f))"
   ]
  },
  {
   "cell_type": "markdown",
   "metadata": {
    "hidden": true
   },
   "source": [
    "Vemos, entonces que la fracción es perfectamente compatible con el valor esperado 1/4. \n",
    "\n",
    "***\n",
    "### Preguntas\n",
    "\n",
    "<ul>\n",
    "    <li>Si tuviéramos solo esta medición (es decir, la fracción de elementos de la muestra que cae en el cuadrante superior derecho), pero si no conociéramos la forma en la que la muestra fue generada, ¿podríamos decir que la distribución es uniforme en la región de $\\mathbb{R}ˆ2$ tal que $-1 < x < 1$ y $-1 < y < 1$? </li>\n",
    "    <li> A la inversa, si el número fuera, por ejemplo $0.245 \\pm 0.001$, ¿qué podríamos decir del proceso de generación de la muestra?\n",
    "    </ul>    \n",
    "    \n",
    "***"
   ]
  },
  {
   "cell_type": "markdown",
   "metadata": {
    "heading_collapsed": true,
    "hidden": true
   },
   "source": [
    "## Tamaño de la muestra"
   ]
  },
  {
   "cell_type": "markdown",
   "metadata": {
    "hidden": true
   },
   "source": [
    "Estudiemos ahora cómo cambia nuestra precisión con el tamaño de la muestra. Para eso, escribamos una pequeña función que genere una muestra, y que calcule la fracción de elementos que caen en el cuadrante superior derecho y su incerteza. La función tiene un solo argumento: el tamaño de la muestra.\n",
    "\n",
    "Para escribirla, hay que ir recolectando las líneas relevantes de los celdas de arriba (Consejo: usar <tt>random.rand</tt> para generar la muestra). Borrar el comando <tt>pass</tt> y a codear!"
   ]
  },
  {
   "cell_type": "code",
   "execution_count": null,
   "metadata": {
    "hidden": true
   },
   "outputs": [],
   "source": [
    "import numpy as np\n",
    "\n",
    "def fraccion_ad(n, seed=None):\n",
    "    \"\"\"\n",
    "    :param int n: Tamaño de la muestra\n",
    "    \n",
    "    :returns: fracción de la muestra en el cuadrante superior derecho e incerteza de esta fracción\n",
    "    :rtype: float, float\n",
    "    \"\"\"\n",
    "    # Fijar la semilla\n",
    "    if seed is not None:\n",
    "        np.random.seed(seed)\n",
    "        \n",
    "    # Crear la muestra.    \n",
    "    pass\n",
    "\n",
    "    return\n"
   ]
  },
  {
   "cell_type": "markdown",
   "metadata": {
    "hidden": true
   },
   "source": [
    "Ahora vamos a testear la función usando el paquete utils que está en el repositorio. Después los invitamos a chusmearlo."
   ]
  },
  {
   "cell_type": "code",
   "execution_count": null,
   "metadata": {
    "hidden": true
   },
   "outputs": [],
   "source": [
    "utils.test_fraccion(fraccion_ad)"
   ]
  },
  {
   "cell_type": "markdown",
   "metadata": {
    "hidden": true
   },
   "source": [
    "Ahora calculemos la fracción para diferentes tamaños de la muestra, y guardemos todo en unas listas, para plotearlas después. <em>NB: el jueves veremos con más detalle cómo funcionan las listas, arreglos, etc.</em>"
   ]
  },
  {
   "cell_type": "code",
   "execution_count": null,
   "metadata": {
    "hidden": true
   },
   "outputs": [],
   "source": [
    "# Crea dos listas vacías\n",
    "f = []\n",
    "sd = []\n",
    "\n",
    "# Crea un arreglo con los tamaños de las muestras que vamos a usar. Generamos valores desde 2^4 hasta 2^13.\n",
    "# Vamos a espacirlo en log, para tener más resolución en los tamaños pequeños.\n",
    "sizes = 2**np.arange(4, 14)\n",
    "\n",
    "# Iteramos en los tamaños (usamos siempre el mismo seed?)\n",
    "for size in sizes:\n",
    "    output = fraccion_ad(size)\n",
    "    f.append(output[0])\n",
    "    sd.append(output[1])\n",
    "    \n",
    "# Veamos que obtuvimos\n",
    "for i in range(len(f)):\n",
    "    print('{}, {}'.format(f[i], sd[i]))"
   ]
  },
  {
   "cell_type": "markdown",
   "metadata": {
    "hidden": true
   },
   "source": [
    "Y ahora el momento del plot"
   ]
  },
  {
   "cell_type": "code",
   "execution_count": null,
   "metadata": {
    "hidden": true
   },
   "outputs": [],
   "source": [
    "plt.errorbar(sizes, f, sd, fmt='.')\n",
    "\n",
    "# Para que sea más legible, hacemos el eje x logarítmico\n",
    "ax = plt.gca()\n",
    "ax.set_xscale('log')\n",
    "ax.axhline(0.25, color='0.5', zorder=-1)\n",
    "\n",
    "ax.set_xlabel('Tamaño de la muestra', fontsize=16)\n",
    "ax.set_ylabel('Fracción en AD', fontsize=16)\n",
    "ax.tick_params(axis='both', which='major', labelsize=12)"
   ]
  },
  {
   "cell_type": "markdown",
   "metadata": {
    "hidden": true
   },
   "source": [
    "***\n",
    "\n",
    "### Preguntas\n",
    "\n",
    "<ul>\n",
    "    <li> Sí repetimos el experimento, ¿cómo va a cambiar el plot de arriba?</li>\n",
    "    <li> ¿En qué fracción de los casos veremos puntos cuyas barras de error no tocan 0.25?</li>\n",
    "    <li> ¿Cuál es la <em>probabilidad</em> de que un elemento de la muestra caiga en el cuadrante superior derecho?</li>\n",
    "</ul>\n",
    "\n",
    "***"
   ]
  },
  {
   "cell_type": "markdown",
   "metadata": {
    "hidden": true
   },
   "source": [
    "## Eficiencia"
   ]
  },
  {
   "cell_type": "markdown",
   "metadata": {
    "hidden": true
   },
   "source": [
    "Claro que al correr la función muchas veces, cometimos el error de generar muchas muestras. Una forma más práctica sería generar una sola muestra grande, e ir obteniendo sub-muestras en las cuales hacer el cálculo (ver [Ejercicios](Ejercicios_01_Probabilidad.ipynb)). Veamos cuánto tiempo nos tarda la generación de este plot con la versión actual. Para eso, podemos usar muchas mediciones diferentes."
   ]
  },
  {
   "cell_type": "code",
   "execution_count": null,
   "metadata": {
    "hidden": true
   },
   "outputs": [],
   "source": [
    "def corrida():\n",
    "    f = []\n",
    "    sd = []\n",
    "\n",
    "    # Crea un arreglo con los tamaños de las muestras que vamos a usar. Generamos valores desde 2^4 hasta 2^13.\n",
    "    # Vamos a espacirlo en log, para tener más resolución en los tamaños pequeños.\n",
    "    sizes = 2**np.arange(4, 14)\n",
    "\n",
    "    # Iteramos en los tamaños (usamos siempre el mismo seed?)\n",
    "    for size in sizes:\n",
    "        output = fraccion_ad(size)\n",
    "        f.append(output[0])\n",
    "        sd.append(output[1])\n",
    "        \n",
    "    return\n",
    "\n",
    "nruns = 1000\n",
    "# Podemos usar el módulo timeit\n",
    "import timeit\n",
    "dt = timeit.timeit(corrida, number=nruns)\n",
    "print('Tiempo de ejecución medida con timeit para {} corridas: {:.3f} segundos'.format(nruns, dt))\n",
    "\n",
    "# O contar el tiempo a mano con el módulo time\n",
    "import time\n",
    "ti = time.process_time()\n",
    "for i in range(nruns):\n",
    "    corrida()\n",
    "print('Tiempo de ejecución medida con time para {} corridas: {:.3f} segundos'.format(nruns, (time.process_time() - ti)))"
   ]
  },
  {
   "cell_type": "code",
   "execution_count": null,
   "metadata": {
    "hidden": true
   },
   "outputs": [],
   "source": []
  },
  {
   "cell_type": "markdown",
   "metadata": {},
   "source": [
    "# Verosimilitud"
   ]
  },
  {
   "cell_type": "markdown",
   "metadata": {},
   "source": [
    "Veamos un ejemplo de funcionamiento de la verosimilitud. En particular, la distinción entre verla como una distribución de los datos y una función de los parámetros."
   ]
  },
  {
   "cell_type": "markdown",
   "metadata": {},
   "source": [
    "Consideremos un caso simple: un ensayo de Bernouilli repetido. Es decir, un experiento que tiene solo dos posibles resultados (éxito o fracaso), que codificamos como $x=1$ y $x=0$, respectivamente.\n",
    "\n",
    "Recién vimos cuál es la función de masa de un ensayo de este tipo. Vamos a codearla."
   ]
  },
  {
   "cell_type": "code",
   "execution_count": 6,
   "metadata": {},
   "outputs": [],
   "source": [
    "class Bernu(object):\n",
    "    \n",
    "    def __init__(self, proba):\n",
    "        \"\"\"\n",
    "        Una variable de Bernoulli.\n",
    "        \n",
    "        :param float proba: probabilidad de éxito\n",
    "        \"\"\"\n",
    "        assert np.all(proba >= 0), \"El argumento de probabilidad tiene que ser > 0\"\n",
    "        assert np.all(proba <= 1), \"El argumento de probabilidad tiene que ser < 1\"\n",
    "        \n",
    "        self.mu = proba\n",
    "        \n",
    "        return\n",
    "    \n",
    "    def pmf(self, x):\n",
    "        \"\"\"\n",
    "        Probabilidad de obtener resultado x\n",
    "        \n",
    "        :param int x: resultado del experimento, 0 o 1\n",
    "        \n",
    "        :return: probabilidad de obtener ese resultado\n",
    "        \"\"\"\n",
    "        assert (x==0) or (x==1), \"Los valores posibles son 0 y 1\"\n",
    "        \n",
    "        return self.mu**x * (1 - self.mu)**(1 - x)\n",
    "    \n",
    "    def mean(self):\n",
    "        return self.mu"
   ]
  },
  {
   "cell_type": "code",
   "execution_count": 9,
   "metadata": {},
   "outputs": [
    {
     "name": "stdout",
     "output_type": "stream",
     "text": [
      "Este objeto describe un ensayo de Bernoulli con probabilidad 0.2.\n",
      "La probabilidad de tener un fracaso en este ensayo es 0.8.\n"
     ]
    }
   ],
   "source": [
    "ber1 = Bernu(0.2)\n",
    "print('Este objeto describe un ensayo de Bernoulli con probabilidad {}.'.format(ber1.mu))\n",
    "print('La probabilidad de tener un fracaso en este ensayo es {}.'.format(ber1.pmf(0)))"
   ]
  },
  {
   "cell_type": "code",
   "execution_count": 51,
   "metadata": {},
   "outputs": [],
   "source": [
    "datos = [0, 0, 1, 1, 0, 0, 0, 0, 1]"
   ]
  },
  {
   "cell_type": "markdown",
   "metadata": {},
   "source": [
    "Vamos a escribir la función verosimilitud de un conjunto de datos, $D = \\{D_1, \\ldots, D_N\\}$.\n",
    "\n",
    "$$\n",
    "p(D | \\mu, I) = p(D_1, \\ldots, D_N | \\mu, I) = p(D_1 | \\mu, I) \\ldots p(D_N | \\mu, I)\\;\\;,\n",
    "$$\n",
    "donde para la segunda igualdad usamos que los datos son independientes."
   ]
  },
  {
   "cell_type": "markdown",
   "metadata": {},
   "source": [
    "Primero definimos el vector de valores del parámetro $\\mu$ que vamos a evaluar. Genero un vector de 200 elementos, equiespaciados entre 0.0 y 1.0."
   ]
  },
  {
   "cell_type": "code",
   "execution_count": 124,
   "metadata": {},
   "outputs": [
    {
     "name": "stdout",
     "output_type": "stream",
     "text": [
      "200\n",
      "[0.         0.00502513 0.01005025 0.01507538 0.0201005  0.02512563\n",
      " 0.03015075 0.03517588 0.04020101 0.04522613 0.05025126 0.05527638\n",
      " 0.06030151 0.06532663 0.07035176 0.07537688 0.08040201 0.08542714\n",
      " 0.09045226 0.09547739 0.10050251 0.10552764 0.11055276 0.11557789\n",
      " 0.12060302 0.12562814 0.13065327 0.13567839 0.14070352 0.14572864\n",
      " 0.15075377 0.15577889 0.16080402 0.16582915 0.17085427 0.1758794\n",
      " 0.18090452 0.18592965 0.19095477 0.1959799  0.20100503 0.20603015\n",
      " 0.21105528 0.2160804  0.22110553 0.22613065 0.23115578 0.2361809\n",
      " 0.24120603 0.24623116 0.25125628 0.25628141 0.26130653 0.26633166\n",
      " 0.27135678 0.27638191 0.28140704 0.28643216 0.29145729 0.29648241\n",
      " 0.30150754 0.30653266 0.31155779 0.31658291 0.32160804 0.32663317\n",
      " 0.33165829 0.33668342 0.34170854 0.34673367 0.35175879 0.35678392\n",
      " 0.36180905 0.36683417 0.3718593  0.37688442 0.38190955 0.38693467\n",
      " 0.3919598  0.39698492 0.40201005 0.40703518 0.4120603  0.41708543\n",
      " 0.42211055 0.42713568 0.4321608  0.43718593 0.44221106 0.44723618\n",
      " 0.45226131 0.45728643 0.46231156 0.46733668 0.47236181 0.47738693\n",
      " 0.48241206 0.48743719 0.49246231 0.49748744 0.50251256 0.50753769\n",
      " 0.51256281 0.51758794 0.52261307 0.52763819 0.53266332 0.53768844\n",
      " 0.54271357 0.54773869 0.55276382 0.55778894 0.56281407 0.5678392\n",
      " 0.57286432 0.57788945 0.58291457 0.5879397  0.59296482 0.59798995\n",
      " 0.60301508 0.6080402  0.61306533 0.61809045 0.62311558 0.6281407\n",
      " 0.63316583 0.63819095 0.64321608 0.64824121 0.65326633 0.65829146\n",
      " 0.66331658 0.66834171 0.67336683 0.67839196 0.68341709 0.68844221\n",
      " 0.69346734 0.69849246 0.70351759 0.70854271 0.71356784 0.71859296\n",
      " 0.72361809 0.72864322 0.73366834 0.73869347 0.74371859 0.74874372\n",
      " 0.75376884 0.75879397 0.7638191  0.76884422 0.77386935 0.77889447\n",
      " 0.7839196  0.78894472 0.79396985 0.79899497 0.8040201  0.80904523\n",
      " 0.81407035 0.81909548 0.8241206  0.82914573 0.83417085 0.83919598\n",
      " 0.84422111 0.84924623 0.85427136 0.85929648 0.86432161 0.86934673\n",
      " 0.87437186 0.87939698 0.88442211 0.88944724 0.89447236 0.89949749\n",
      " 0.90452261 0.90954774 0.91457286 0.91959799 0.92462312 0.92964824\n",
      " 0.93467337 0.93969849 0.94472362 0.94974874 0.95477387 0.95979899\n",
      " 0.96482412 0.96984925 0.97487437 0.9798995  0.98492462 0.98994975\n",
      " 0.99497487 1.        ]\n"
     ]
    }
   ],
   "source": [
    "mu = np.linspace(0.0, 1.0, 200)\n",
    "print(len(mu))\n",
    "print(mu)"
   ]
  },
  {
   "cell_type": "markdown",
   "metadata": {},
   "source": [
    "Definimos un conjunto de distribuciones de Bernoulli: una para cada valor de $\\mu$. Nuestra implementación permite hacerlo de una sola vez. "
   ]
  },
  {
   "cell_type": "code",
   "execution_count": 125,
   "metadata": {},
   "outputs": [
    {
     "data": {
      "text/plain": [
       "array([1.        , 0.99497487, 0.98994975, 0.98492462, 0.9798995 ,\n",
       "       0.97487437, 0.96984925, 0.96482412, 0.95979899, 0.95477387,\n",
       "       0.94974874, 0.94472362, 0.93969849, 0.93467337, 0.92964824,\n",
       "       0.92462312, 0.91959799, 0.91457286, 0.90954774, 0.90452261,\n",
       "       0.89949749, 0.89447236, 0.88944724, 0.88442211, 0.87939698,\n",
       "       0.87437186, 0.86934673, 0.86432161, 0.85929648, 0.85427136,\n",
       "       0.84924623, 0.84422111, 0.83919598, 0.83417085, 0.82914573,\n",
       "       0.8241206 , 0.81909548, 0.81407035, 0.80904523, 0.8040201 ,\n",
       "       0.79899497, 0.79396985, 0.78894472, 0.7839196 , 0.77889447,\n",
       "       0.77386935, 0.76884422, 0.7638191 , 0.75879397, 0.75376884,\n",
       "       0.74874372, 0.74371859, 0.73869347, 0.73366834, 0.72864322,\n",
       "       0.72361809, 0.71859296, 0.71356784, 0.70854271, 0.70351759,\n",
       "       0.69849246, 0.69346734, 0.68844221, 0.68341709, 0.67839196,\n",
       "       0.67336683, 0.66834171, 0.66331658, 0.65829146, 0.65326633,\n",
       "       0.64824121, 0.64321608, 0.63819095, 0.63316583, 0.6281407 ,\n",
       "       0.62311558, 0.61809045, 0.61306533, 0.6080402 , 0.60301508,\n",
       "       0.59798995, 0.59296482, 0.5879397 , 0.58291457, 0.57788945,\n",
       "       0.57286432, 0.5678392 , 0.56281407, 0.55778894, 0.55276382,\n",
       "       0.54773869, 0.54271357, 0.53768844, 0.53266332, 0.52763819,\n",
       "       0.52261307, 0.51758794, 0.51256281, 0.50753769, 0.50251256,\n",
       "       0.49748744, 0.49246231, 0.48743719, 0.48241206, 0.47738693,\n",
       "       0.47236181, 0.46733668, 0.46231156, 0.45728643, 0.45226131,\n",
       "       0.44723618, 0.44221106, 0.43718593, 0.4321608 , 0.42713568,\n",
       "       0.42211055, 0.41708543, 0.4120603 , 0.40703518, 0.40201005,\n",
       "       0.39698492, 0.3919598 , 0.38693467, 0.38190955, 0.37688442,\n",
       "       0.3718593 , 0.36683417, 0.36180905, 0.35678392, 0.35175879,\n",
       "       0.34673367, 0.34170854, 0.33668342, 0.33165829, 0.32663317,\n",
       "       0.32160804, 0.31658291, 0.31155779, 0.30653266, 0.30150754,\n",
       "       0.29648241, 0.29145729, 0.28643216, 0.28140704, 0.27638191,\n",
       "       0.27135678, 0.26633166, 0.26130653, 0.25628141, 0.25125628,\n",
       "       0.24623116, 0.24120603, 0.2361809 , 0.23115578, 0.22613065,\n",
       "       0.22110553, 0.2160804 , 0.21105528, 0.20603015, 0.20100503,\n",
       "       0.1959799 , 0.19095477, 0.18592965, 0.18090452, 0.1758794 ,\n",
       "       0.17085427, 0.16582915, 0.16080402, 0.15577889, 0.15075377,\n",
       "       0.14572864, 0.14070352, 0.13567839, 0.13065327, 0.12562814,\n",
       "       0.12060302, 0.11557789, 0.11055276, 0.10552764, 0.10050251,\n",
       "       0.09547739, 0.09045226, 0.08542714, 0.08040201, 0.07537688,\n",
       "       0.07035176, 0.06532663, 0.06030151, 0.05527638, 0.05025126,\n",
       "       0.04522613, 0.04020101, 0.03517588, 0.03015075, 0.02512563,\n",
       "       0.0201005 , 0.01507538, 0.01005025, 0.00502513, 0.        ])"
      ]
     },
     "execution_count": 125,
     "metadata": {},
     "output_type": "execute_result"
    }
   ],
   "source": [
    "ber = Bernu(mu)\n",
    "ber.pmf(0) # p(D=0 | \\mu)"
   ]
  },
  {
   "cell_type": "markdown",
   "metadata": {},
   "source": [
    "Generemos una serie aleatoria de 50 ensayos con probabilidad de éxito 0.4 (es decir, $\\mu_\\text{real} = 0.4$). Para eso, genero 50 números al azar en el intervalo $[0, 1]$, y asigno éxito a todos los que se encuentren por debajo de 0.4."
   ]
  },
  {
   "cell_type": "code",
   "execution_count": 151,
   "metadata": {},
   "outputs": [
    {
     "name": "stdout",
     "output_type": "stream",
     "text": [
      "[0 0 1 1 0 0 1 0 0 0 0 0 1 1 1 0 0 1 1 0 0 0 0 0 1 0 0 1 1 1 0 0 0 0 1 1 0\n",
      " 1 1 1 1 0 1 1 0 0 0 1 1 1]\n"
     ]
    }
   ],
   "source": [
    "mu_v = 0.4\n",
    "np.random.seed(20200813)\n",
    "datos = np.where(np.random.rand(50) < mu_v, 1, 0)\n",
    "print(datos)"
   ]
  },
  {
   "cell_type": "markdown",
   "metadata": {},
   "source": [
    "Ahora vamos a calcular la probabilidad de haber obtenido cada una de las tiradas de una serie de datos, para cada uno de los valores del parámetro $\\mu$."
   ]
  },
  {
   "cell_type": "code",
   "execution_count": 152,
   "metadata": {},
   "outputs": [],
   "source": [
    "proba = []\n",
    "\n",
    "for i, d in enumerate(datos):\n",
    "#     print('Dato {}: fue un {}'.format(i+1, d))\n",
    "    proba.append(ber.pmf(d))"
   ]
  },
  {
   "cell_type": "markdown",
   "metadata": {},
   "source": [
    "Hay un valor de probabilidad para cada dato y para cada valor de $\\mu$ que estamos probando. Veamos esto claramente usando el atributo `shape` de un `array` de `numpy`."
   ]
  },
  {
   "cell_type": "code",
   "execution_count": 153,
   "metadata": {},
   "outputs": [
    {
     "data": {
      "text/plain": [
       "(50, 200)"
      ]
     },
     "execution_count": 153,
     "metadata": {},
     "output_type": "execute_result"
    }
   ],
   "source": [
    "proba = np.array(proba)\n",
    "proba.shape"
   ]
  },
  {
   "cell_type": "markdown",
   "metadata": {},
   "source": [
    "La verosimilitud se calcula como arriba, haciendo la productoria sobre todos los datos. \n",
    "Hagámosla y veamos el plot de la verosimilitud en función del $\\mu$."
   ]
  },
  {
   "cell_type": "code",
   "execution_count": 154,
   "metadata": {},
   "outputs": [
    {
     "data": {
      "text/plain": [
       "Text(0, 0.5, '$\\\\mathcal{L}_\\\\mu = p(D | \\\\mu)$')"
      ]
     },
     "execution_count": 154,
     "metadata": {},
     "output_type": "execute_result"
    },
    {
     "data": {
      "image/png": "[encoded data removed]",
      "text/plain": [
       "<Figure size 576x432 with 1 Axes>"
      ]
     },
     "metadata": {
      "needs_background": "light"
     },
     "output_type": "display_data"
    }
   ],
   "source": [
    "likelihood = np.prod(proba, axis=0)\n",
    "\n",
    "#\n",
    "plt.figure(figsize=(8, 6))\n",
    "plt.plot(mu, likelihood)\n",
    "plt.xlabel('$\\mu$', fontsize=16)\n",
    "plt.ylabel('$\\mathcal{L}_\\mu = p(D | \\mu)$', fontsize=16)"
   ]
  },
  {
   "cell_type": "markdown",
   "metadata": {},
   "source": [
    "Fíjense que:\n",
    "\n",
    "- la probabilidad es del orden de $1e^{-15}$, porque es la productoria de 50 números menores que 1.\n",
    "\n",
    "- la función verosimilitud está centrada cerca del verdadero valor del parámetro $\\mu$."
   ]
  },
  {
   "cell_type": "markdown",
   "metadata": {},
   "source": [
    "Podemos encontrar el valor de $\\mu$ en el que se maximiza la verosimilitud (ya veremos que esto puede hacerse de forma analítica también)."
   ]
  },
  {
   "cell_type": "code",
   "execution_count": 155,
   "metadata": {},
   "outputs": [
    {
     "name": "stdout",
     "output_type": "stream",
     "text": [
      "El valor de $\\mu$ que maximiza la verosimilitud es $\\hat\\mu$ = 0.46\n"
     ]
    }
   ],
   "source": [
    "print('El valor de $\\mu$ que maximiza la verosimilitud es $\\hat\\mu$ '\n",
    "      '= {:.2f}'.format(mu[np.argmax(likelihood)]))"
   ]
  },
  {
   "cell_type": "markdown",
   "metadata": {},
   "source": [
    "Mirando la forma de la distribución de Bernouilli, se puede encontrar el máximo derivando con respecto a $\\mu$ e igualando a cero. Eso da:\n",
    "\n",
    "$$\n",
    "\\mu_\\text{ML} = n_1 / N\\;\\;,\n",
    "$$\n",
    "\n",
    "donde $n_1$ es la cantidad de éxitos obtenidos en los datos, y $N$ es el número total de experimentos. $n_1$ se puede obtener sumando los datos, $n_1 = \\sum_i x_i$. El cociente $n_1/N$ es lo que se conoce como un **estadístico suficiente**, es decir, que contiene toda la información sobre el problema en cuestión. \n",
    "\n",
    "Veamos si coincide"
   ]
  },
  {
   "cell_type": "code",
   "execution_count": 156,
   "metadata": {},
   "outputs": [
    {
     "name": "stdout",
     "output_type": "stream",
     "text": [
      "El valor de $\\mu$ que maximiza la verosimilitud es $\\hat\\mu$ = 0.46\n"
     ]
    }
   ],
   "source": [
    "print('El valor de $\\mu$ que maximiza la verosimilitud es $\\hat\\mu$ '\n",
    "      '= {:.2f}'.format(np.sum(datos)/len(datos)))"
   ]
  },
  {
   "cell_type": "markdown",
   "metadata": {},
   "source": [
    "Un análisis frecuentista terminaría acá, reportando el valor 0.46. En realidad, estoy siendo injusto. Se puede hacer bootstraping y un montón de cosas más.\n",
    "\n",
    "Pero veamos cómo procede un análista bayesiano."
   ]
  },
  {
   "cell_type": "markdown",
   "metadata": {},
   "source": [
    "## Inferencia Bayesiana"
   ]
  },
  {
   "cell_type": "markdown",
   "metadata": {},
   "source": [
    "El primer paso es asignar un prior al parámetro de interés, $\\mu$. Esto representa la información con la que contamos acerca de este parámetro antes del análisis de los datos.\n",
    "\n",
    "Podemos decir que no sabemos nada sobre $\\mu$ antes del análisis, más allá de que debe estar en el intervalo $\\[0, 1\\]$. Una forma de representar esto es usar como prior una PDF uniforme con esos límites. Para que el prior esté normalizado, su valor debe ser $1/(b - a)$, donde $b$ y $a$ son los extremos superior e inferior, respectivamente. Es decir, 1, y 0."
   ]
  },
  {
   "cell_type": "code",
   "execution_count": 157,
   "metadata": {},
   "outputs": [],
   "source": [
    "prior = np.where((mu >= 0) * (mu <= 1), 1, 0)"
   ]
  },
  {
   "cell_type": "markdown",
   "metadata": {},
   "source": [
    "Por la fórmula de Bayes, la posterior es proporcional al producto de verosimilitud y prior."
   ]
  },
  {
   "cell_type": "code",
   "execution_count": 158,
   "metadata": {},
   "outputs": [],
   "source": [
    "posterior_ = prior * likelihood"
   ]
  },
  {
   "cell_type": "markdown",
   "metadata": {},
   "source": [
    "La constante de normalización es la evidencia. En este caso, la obtenemos numéricamente, sumando los elementos del posterior no normalizado (`posterior_`) y multiplicando por la distancia entre puntos.\n",
    "\n",
    "Hacemos ese cálculo y graficamos prior y posterior juntos."
   ]
  },
  {
   "cell_type": "code",
   "execution_count": 159,
   "metadata": {},
   "outputs": [
    {
     "data": {
      "text/plain": [
       "<matplotlib.lines.Line2D at 0x124ddbdf0>"
      ]
     },
     "execution_count": 159,
     "metadata": {},
     "output_type": "execute_result"
    },
    {
     "data": {
      "image/png": "[encoded data removed]",
      "text/plain": [
       "<Figure size 576x360 with 1 Axes>"
      ]
     },
     "metadata": {
      "needs_background": "light"
     },
     "output_type": "display_data"
    }
   ],
   "source": [
    "plt.figure(figsize=(8, 5))\n",
    "plt.plot(mu, posterior_/ np.sum(posterior_ * np.diff(mu)[0]), label='Posterior / Marge')\n",
    "plt.plot(mu, prior, color='r', label='Prior / Monstruo')\n",
    "plt.legend(loc=0)\n",
    "plt.xlabel('mu / probabilidad de éxito')\n",
    "\n",
    "plt.axvline(0.4, color='g', ls=':', label='Ground truth')"
   ]
  },
  {
   "cell_type": "markdown",
   "metadata": {},
   "source": [
    "Vemos cómo los datos hicieron que el prior poco informativo (monstruo en el meme) se convierta en una distribución picada mucho más informtiva (Marge en el meme), que contiene claramente al valor verdadero"
   ]
  },
  {
   "cell_type": "markdown",
   "metadata": {},
   "source": [
    "***\n",
    "\n",
    "Loa invitamos a jugar:\n",
    "\n",
    "- Cambien el número de datos y vean cómo se modifica la posterior. ¿Qué esperan que ocurra para un número de datos muy elevados? ¿Cómo cambia la relación entre prior y posterior?\n",
    "\n",
    "- Modifiquen el valor de mu_verdadero y vean que pasa con los datos y con la forma de la posterior. Sobre todo, prueben valores extremos de mu_verdadero."
   ]
  },
  {
   "cell_type": "markdown",
   "metadata": {},
   "source": [
    "**N.B.**: contar con la distribución posterior completa, permite calcular la posterior predictiva, que nos da una función de probabilidad para un futuro dato, $d'$ no observado (esto es \"the ultimate power\" del análisis bayesiano):\n",
    "\n",
    "$$\n",
    "p(d^\\prime | D) = \\int p(d^\\prime, \\mu | D) \\mathrm{d}\\mu = \\int p(d^\\prime | \\mu, D) p(\\mu | D) \\mathrm{d}\\mu \n",
    "$$"
   ]
  },
  {
   "cell_type": "code",
   "execution_count": null,
   "metadata": {},
   "outputs": [],
   "source": []
  }
 ],
 "metadata": {
  "kernelspec": {
   "display_name": "Python 3",
   "language": "python",
   "name": "python3"
  },
  "language_info": {
   "codemirror_mode": {
    "name": "ipython",
    "version": 3
   },
   "file_extension": ".py",
   "mimetype": "text/x-python",
   "name": "python",
   "nbconvert_exporter": "python",
   "pygments_lexer": "ipython3",
   "version": "3.8.3"
  }
 },
 "nbformat": 4,
 "nbformat_minor": 2
}
