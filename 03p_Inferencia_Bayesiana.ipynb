{
  "nbformat": 4,
  "nbformat_minor": 0,
  "metadata": {
    "kernelspec": {
      "display_name": "Python 3",
      "language": "python",
      "name": "python3"
    },
    "language_info": {
      "codemirror_mode": {
        "name": "ipython",
        "version": 3
      },
      "file_extension": ".py",
      "mimetype": "text/x-python",
      "name": "python",
      "nbconvert_exporter": "python",
      "pygments_lexer": "ipython3",
      "version": "3.6.8"
    },
    "colab": {
      "name": "03p_Inferencia_Bayesiana.ipynb",
      "provenance": [],
      "collapsed_sections": [
        "kSEQVifZ-cQ5"
      ]
    }
  },
  "cells": [
    {
      "cell_type": "code",
      "metadata": {
        "id": "zaZttvgD-cPi",
        "colab_type": "code",
        "colab": {}
      },
      "source": [
        "# Por si alguien corre en python2\n",
        "from __future__ import division\n",
        "\n",
        "import math\n",
        "import numpy as np\n",
        "import pandas as pd\n",
        "from scipy.stats import binom, beta, uniform, norm, bernoulli, dirichlet\n",
        "\n",
        "from matplotlib import pyplot as plt\n",
        "%matplotlib inline"
      ],
      "execution_count": null,
      "outputs": []
    },
    {
      "cell_type": "markdown",
      "metadata": {
        "id": "kSEQVifZ-cQ5",
        "colab_type": "text"
      },
      "source": [
        "# Ejercicio 5: A/B Testing"
      ]
    },
    {
      "cell_type": "markdown",
      "metadata": {
        "id": "3IONPR8s-cQ6",
        "colab_type": "text"
      },
      "source": [
        "Te contratan como diseñador de sitios web para una prestigiosa revista amarillista. Tu principal tarea es rediseñar el sitio para obtener más suscriptores. Luego de retoques y maquillajes, crees que esta lista, pero antes de hacerla oficial tu jefe quiere que realices un experimento para estimar qué tanto mejor (si es que lo es en absoluto) es tu diseño, respecto al anterior. \n",
        "\n",
        "Se realiza el siguiente experimento: Al 20% de los visitantes se les muestra tu novedoso diseño (diseño A) mientras que al resto se les muestra el diseño original (diseño B). Luego de un mes, cuentas con los siguientes datos:\n",
        "\n",
        "|Sitio:|A|B|\n",
        "|---|---|---|\n",
        "|Cantidad de visitantes  | 14 400  | 57 600  |\n",
        "|Cantidad de suscriptores| 20  |  68 |\n",
        "\n",
        "***"
      ]
    },
    {
      "cell_type": "markdown",
      "metadata": {
        "id": "yB7sX42k-cQ9",
        "colab_type": "text"
      },
      "source": [
        "##  a)\n",
        "\n",
        "**Modele la probabilidad $p$ de que un visitante al sitio web se suscriba a la revista (i.e. la _Verosimilitud_ o _Likelihood_). ¿Qué distribución utilizaría y porqué?**\n"
      ]
    },
    {
      "cell_type": "markdown",
      "metadata": {
        "id": "s6HDNj0Z9Kpw",
        "colab_type": "text"
      },
      "source": [
        "Mi experimento es entran $N_{A,B}$ personas y se suscriben $k_{A,B}$. Estas $N_{A,B}$ personas se comportan independientemente las unas de las otras y todas tienen la misma probabilidad de suscribirse.  Estas hipotesis sumadas al hecho de que la suscripcion es un resultado binario, utilizamos la binomial:\n",
        "\n",
        "$p_{A,B} = p(k_{A,B}\\text{ suscriptores} |N_{A,B} \\text{ visitantes}, \\mu_{A,B})=\\text{Bin}(k_{A,B}|N_{A,B},\\mu_{A,B})$"
      ]
    },
    {
      "cell_type": "markdown",
      "metadata": {
        "id": "WxtjdvOL-cQ9",
        "colab_type": "text"
      },
      "source": [
        "## b)\n",
        "**Si llamamos $\\mu_A$ y $\\mu_B$ a dichas probabilidades cuando el visitante es mostrado el diseño A o el diseño B, modele la confianza que tiene en los valores de $\\mu_A$ y $\\mu_B$ antes de realizar el experimento (i.e. el _prior_). ¿Qué distribución usa?**\n"
      ]
    },
    {
      "cell_type": "markdown",
      "metadata": {
        "id": "OOrFbbHK4jR7",
        "colab_type": "text"
      },
      "source": [
        "Tanto $\\mu_{A}$ como $\\mu_{B}$ pueden tomar cualquier valor en [0,1]. Como no conozco nada, tomo\n",
        "$p(\\mu_{A,B}) = \\text{Uniforme}=\\text{Beta}(\\mu_{A,B}|\\alpha_{1}=1,\\alpha_{2}=1)$"
      ]
    },
    {
      "cell_type": "markdown",
      "metadata": {
        "id": "dkMh6pmO-cQ-",
        "colab_type": "text"
      },
      "source": [
        "## c)\n",
        "**Utilice el Teorema de Bayes para estimar la confianza que tiene en los parámetros $\\mu_A$ y $\\mu_B$ luego de realizar el experimento (i.e. el _posterior_). Grafíquelas en función del valor de $\\mu$.**\n",
        "\n",
        "_Ayuda: Esto se puede hacer analiticamente si su verosimilitud y su prior son conjugados, por ejemplo Beta$(1,1)\\times$Binomial(X positivos de N intentos) ~ Beta(1+X, 1+N-X)._\n"
      ]
    },
    {
      "cell_type": "markdown",
      "metadata": {
        "id": "M2YxhG127FBp",
        "colab_type": "text"
      },
      "source": [
        "__Cargo mis datos:__"
      ]
    },
    {
      "cell_type": "code",
      "metadata": {
        "id": "Nl2vMioy-cRA",
        "colab_type": "code",
        "colab": {}
      },
      "source": [
        "NA=14400\n",
        "kA=20\n",
        "NB=57600\n",
        "kB=68"
      ],
      "execution_count": null,
      "outputs": []
    },
    {
      "cell_type": "code",
      "metadata": {
        "id": "xBLbRNHtMubK",
        "colab_type": "code",
        "colab": {
          "base_uri": "https://localhost:8080/",
          "height": 50
        },
        "outputId": "dbeccfbd-167e-4200-e059-4acca2545075"
      },
      "source": [
        "MLA=print(kA/NA)\n",
        "MLB=print(kB/NB)"
      ],
      "execution_count": null,
      "outputs": [
        {
          "output_type": "stream",
          "text": [
            "0.001388888888888889\n",
            "0.0011805555555555556\n"
          ],
          "name": "stdout"
        }
      ]
    },
    {
      "cell_type": "markdown",
      "metadata": {
        "id": "_-b78Yj67KPS",
        "colab_type": "text"
      },
      "source": [
        "__Los incorporo junto a mi prior y obtengo el posterior:__\n",
        "\n",
        "$p(\\mu_{A,B}|k_{A,B},N_{A,B})=\\frac{p(k_{A,B}|N_{A,B},\\mu_{A,B})p(\\mu_{A,B})}{p(k_{A,B}|N_{A,B})}$\n",
        "\n",
        "Gracias a las propiedades del prior conjugado _para mi eleccion de prior_\n",
        "\n",
        "$p(\\mu_{A,B}|k_{A,B},N_{A,B})=\\text{Beta}(\\mu_{A,B}|1+k_{A,B},1+N_{A,B}-k_{A,B})$"
      ]
    },
    {
      "cell_type": "code",
      "metadata": {
        "id": "r1hDguIK6zHO",
        "colab_type": "code",
        "colab": {
          "base_uri": "https://localhost:8080/",
          "height": 298
        },
        "outputId": "3abfe700-60fb-4db0-8a17-8c6c38181179"
      },
      "source": [
        "mu=np.linspace(0,0.006,100)\n",
        "posteriorA=beta(1+kA,1+NA-kA)\n",
        "plt.plot(mu,posteriorA.pdf(mu),color='blue',label='A')\n",
        "posteriorB=beta(1+kB,1+NB-kB)\n",
        "plt.plot(mu,posteriorB.pdf(mu),color='red',label='B')\n",
        "plt.legend(loc='upper right')\n",
        "plt.xlabel('$\\mu$')"
      ],
      "execution_count": null,
      "outputs": [
        {
          "output_type": "execute_result",
          "data": {
            "text/plain": [
              "Text(0.5, 0, '$\\\\mu$')"
            ]
          },
          "metadata": {
            "tags": []
          },
          "execution_count": 13
        },
        {
          "output_type": "display_data",
          "data": {
            "image/png": "[encoded data removed]",
            "text/plain": [
              "<Figure size 432x288 with 1 Axes>"
            ]
          },
          "metadata": {
            "tags": [],
            "needs_background": "light"
          }
        }
      ]
    },
    {
      "cell_type": "markdown",
      "metadata": {
        "id": "Gmyu6w_B-cRl",
        "colab_type": "text"
      },
      "source": [
        "## d)\n",
        "**¿Cual es la probabilidad de que el diseño A sea mejor que el B? (Recuerde que un 50% quiere decir que son estadisticamente iguales)**\n"
      ]
    },
    {
      "cell_type": "markdown",
      "metadata": {
        "id": "49kc3JCG-RXi",
        "colab_type": "text"
      },
      "source": [
        "Opcion a) __Estimadores__\n",
        "\n",
        "Calculo algun estimador para cada distribucion y comparo."
      ]
    },
    {
      "cell_type": "markdown",
      "metadata": {
        "id": "ethZI75U_QaD",
        "colab_type": "text"
      },
      "source": [
        "__Media:__\n",
        "\n",
        "$E[x]=\\int x f(x)dx \\approx \\frac{1}{M} \\sum_{i=1}^{M}x_{i}$\n",
        "\n",
        "Si sampleo $x$ de manera uniforme\n",
        "\n",
        "$E[x] \\approx \\frac{\\sum_{i=1}^{M'}x_{i}f(x_{i})}{\\sum_{j=1}^{M'}f(x_{j})}$\n",
        "\n",
        "En general $M' \\gg M$ para igualar precision."
      ]
    },
    {
      "cell_type": "code",
      "metadata": {
        "id": "XerCMqVaEWcL",
        "colab_type": "code",
        "colab": {
          "base_uri": "https://localhost:8080/",
          "height": 84
        },
        "outputId": "8691dfb3-b30d-4009-e3e2-be77d7d5a07a"
      },
      "source": [
        "print(\"La media es: %.6f\" % (posteriorA.mean()))\n",
        "print((kA+1)/(NA+2))\n",
        "print(\"Sampleando:\")\n",
        "sample_size = 1000 #Muchas, para que no tengamos errores de binneo numerico\n",
        "sample_A = posteriorA.rvs(size=sample_size)\n",
        "print(np.mean(sample_A))"
      ],
      "execution_count": null,
      "outputs": [
        {
          "output_type": "stream",
          "text": [
            "La media es: 0.001458\n",
            "0.0014581308151645604\n",
            "Sampleando:\n",
            "0.0014556302163555455\n"
          ],
          "name": "stdout"
        }
      ]
    },
    {
      "cell_type": "code",
      "metadata": {
        "id": "IAnpBNPXB-gL",
        "colab_type": "code",
        "colab": {
          "base_uri": "https://localhost:8080/",
          "height": 67
        },
        "outputId": "8970611b-d82c-4694-e9d1-a19e8ef92e90"
      },
      "source": [
        "print(\"La media es: %.6f\" % (posteriorB.mean()))\n",
        "print(\"Sampleando:\")\n",
        "sample_size = 1000 #Muchas, para que no tengamos errores de binneo numerico\n",
        "sample_B = posteriorB.rvs(size=sample_size)\n",
        "print(np.mean(sample_B))"
      ],
      "execution_count": null,
      "outputs": [
        {
          "output_type": "stream",
          "text": [
            "La media es: 0.001198\n",
            "Sampleando:\n",
            "0.0012082888728466338\n"
          ],
          "name": "stdout"
        }
      ]
    },
    {
      "cell_type": "markdown",
      "metadata": {
        "id": "0sWDbrLRCUKR",
        "colab_type": "text"
      },
      "source": [
        "La diferencia entre ambas:"
      ]
    },
    {
      "cell_type": "code",
      "metadata": {
        "id": "5aIGPhm1BmXv",
        "colab_type": "code",
        "colab": {
          "base_uri": "https://localhost:8080/",
          "height": 34
        },
        "outputId": "fe1bf817-9183-4947-8aab-9e2a9027cc84"
      },
      "source": [
        "(posteriorA.mean()-posteriorB.mean())/(posteriorB.mean())"
      ],
      "execution_count": null,
      "outputs": [
        {
          "output_type": "execute_result",
          "data": {
            "text/plain": [
              "0.21726451036389857"
            ]
          },
          "metadata": {
            "tags": []
          },
          "execution_count": 40
        }
      ]
    },
    {
      "cell_type": "markdown",
      "metadata": {
        "id": "8JYiGu7DD3jT",
        "colab_type": "text"
      },
      "source": [
        "Hagan lo mismo para la mediana y para el maximo."
      ]
    },
    {
      "cell_type": "markdown",
      "metadata": {
        "id": "S_N8FGSrC99k",
        "colab_type": "text"
      },
      "source": [
        "Opcion b): __Es utilizar todo el posterior.__\n",
        "\n",
        "Sampleo $M$ experimentos y comparo en cuantos tengo mas probabilidad de exito en A que en B.\n",
        "\n",
        "Si yo tengo $M_{1}$ experimentos donde $\\mu_{A} > \\mu_{B}$ entonces\n",
        "\n",
        "$p(\\mu_A>\\mu_B)=\\frac{M_{1}}{M}$"
      ]
    },
    {
      "cell_type": "code",
      "metadata": {
        "id": "8yGDw6ijESoP",
        "colab_type": "code",
        "colab": {
          "base_uri": "https://localhost:8080/",
          "height": 34
        },
        "outputId": "d662ef42-9db1-41e9-8fee-c0700c600a1d"
      },
      "source": [
        "sample_size=10000\n",
        "sample_A=posteriorA.rvs(sample_size)\n",
        "sample_B=posteriorB.rvs(sample_size)\n",
        "\n",
        "print((sample_A>sample_B).mean())"
      ],
      "execution_count": null,
      "outputs": [
        {
          "output_type": "stream",
          "text": [
            "0.7683\n"
          ],
          "name": "stdout"
        }
      ]
    },
    {
      "cell_type": "markdown",
      "metadata": {
        "id": "TEue9u2v-cSQ",
        "colab_type": "text"
      },
      "source": [
        "## e)\n",
        "**Si el sitio cuenta con un promedio de 5 millones de visitas anuales, ¿cuánto estima que será el incremento en los suscriptores el proximo año debido a usar el diseño nuevo en vez del original?**\n",
        "\n"
      ]
    },
    {
      "cell_type": "markdown",
      "metadata": {
        "id": "FZv3cKWMGqJB",
        "colab_type": "text"
      },
      "source": [
        "El incremento en suscriptores va a venir de  considerar $p(k \\text{ subscriptores}|5\\cdot10^6 \\text{ visitantes},\\text{sitio web}_{A,B})$\n",
        "\n",
        "$p(k|N,\\text{web}_{A,B})=\\int p(k|N,\\mu)p(\\mu|\\text{web}_{A,B}) d\\mu$\n",
        "\n",
        "$p(\\mu|\\text{web}_{A,B})$ son los posteriors que obtuvimos antes."
      ]
    },
    {
      "cell_type": "markdown",
      "metadata": {
        "id": "4PP-8clqH_s4",
        "colab_type": "text"
      },
      "source": [
        "__Primer aproximacion:__\n",
        "\n",
        "Aproximo $p(\\mu|web_{A,B})$ por $\\delta(\\mu_{A,B}-\\hat{\\mu}_{A,B})$\n",
        "\n",
        "$p(k|N,\\text{web}_{A,B})= p(k|N,\\hat{\\mu}_{A,B})$\n"
      ]
    },
    {
      "cell_type": "code",
      "metadata": {
        "id": "5VFOujQHDDy8",
        "colab_type": "code",
        "colab": {
          "base_uri": "https://localhost:8080/",
          "height": 34
        },
        "outputId": "0712d58f-6542-40da-97c2-8b18da35eaa2"
      },
      "source": [
        "estimador_A=posteriorA.mean()\n",
        "estimador_B=posteriorB.mean()\n",
        "N=5000000\n",
        "probA=binom(N,p=estimador_A)\n",
        "probB=binom(N,p=estimador_B)\n",
        "print((probA.mean(),probB.mean()))"
      ],
      "execution_count": null,
      "outputs": [
        {
          "output_type": "stream",
          "text": [
            "(7290.654075822802, 5989.3753689108025)\n"
          ],
          "name": "stdout"
        }
      ]
    },
    {
      "cell_type": "markdown",
      "metadata": {
        "id": "2RsJ9NBtJMYE",
        "colab_type": "text"
      },
      "source": [
        "__Segunda aproximacion:__\n",
        "\n",
        "Sampleo adecuadamente y tengo\n",
        "\n",
        "$p(k|N,\\text{web}_{A,B})=\\frac{1}{M}\\sum_{i=1}^{M}p(k|N,\\mu_{i})$\n",
        "\n",
        "Se que $E[k]=N\\mu$ para un $\\mu$ fijo\n",
        "\n",
        "$E[k]=\\frac{1}{M}\\sum_{i=1}^{M}\\sum_{k=0}^{N}p(k|N,\\mu_{i})=\\frac{1}{M}\\sum_{i=1}^{M}N\\mu_{i}$"
      ]
    },
    {
      "cell_type": "code",
      "metadata": {
        "id": "SZce8VXNEW8D",
        "colab_type": "code",
        "colab": {
          "base_uri": "https://localhost:8080/",
          "height": 84
        },
        "outputId": "df8cbd26-246c-41c4-e684-998550c283fa"
      },
      "source": [
        "sample_size=10000\n",
        "sample_A=posteriorA.rvs(sample_size)\n",
        "sample_B=posteriorB.rvs(sample_size)\n",
        "print((binom(N,sample_A).mean()).mean())\n",
        "print((binom(N,sample_B).mean()).mean())\n",
        "print((N*sample_A).mean())\n",
        "print((N*sample_B).mean())"
      ],
      "execution_count": null,
      "outputs": [
        {
          "output_type": "stream",
          "text": [
            "7316.151521669909\n",
            "5983.218784641789\n",
            "7316.151521669909\n",
            "5983.218784641789\n"
          ],
          "name": "stdout"
        }
      ]
    },
    {
      "cell_type": "markdown",
      "metadata": {
        "id": "zJ8rKxv6iLdE",
        "colab_type": "text"
      },
      "source": [
        "# Ejercicio 6: Multinomial"
      ]
    },
    {
      "cell_type": "markdown",
      "metadata": {
        "id": "wc1lDBgIiO4_",
        "colab_type": "text"
      },
      "source": [
        "Supongamos que has diseñado un nuevo test para una enfermedad. Ahora hay que caracterizarlo. Para esto, se suele subdividir el espacio de posibilidades en 4:\n",
        "\n",
        "*   Verdadero Positivo: El test da positivo en un paciente enfermo.\n",
        "*   Falso Positivo: El test da positivo en un paciente sano.\n",
        "*   Verdadero Negativo: El test da negativo en un paciente sano\n",
        "*   Falso Negativo: El test da negativo en un paciente enfermo.\n",
        "\n",
        "Dado que cualquier paciente puede estar o sano o enfermo, y que el test solo puede dar positivo o negativo, estos cuatro eventos completan el espacio de posibilidades y son excluyentes. De este modo se caracteriza el test con las probabilidades de cada uno de estos eventos.\n",
        "\n",
        "¿Como modelaría estas probabilidades? ¿Qué distribución de probabilidad le parece apropiada?"
      ]
    },
    {
      "cell_type": "markdown",
      "metadata": {
        "id": "DkmZIYHrSLFx",
        "colab_type": "text"
      },
      "source": [
        "El espacio de muestreo tiene dimension 4:\n",
        "\n",
        "$S=(TP,FP,TN,FN)$\n",
        "\n",
        "Sampleo $N$ veces un paciente testeado. Cual es la probabilidad de tener $k_{1}$ TP, $k_{2}$ FP, $k_{3}$ TN y $k_{4}$ FN? Es la Multinomial\n",
        "\n",
        "$\\text{Multi}(k_{1},k_{2},k_{3},k_{4}|N,\\mu_{1},\\mu_{2},\\mu_{3},\\mu_{4})=\\frac{N!}{k_{1}!k_{2}!k_{3}!k_{4}!}\\mu_{1}^{k_{1}}\\mu_{2}^{k_{2}}\\mu_{3}^{k_{3}}\\mu_{4}^{k_{4}}$\n",
        "\n",
        "$k_{1}+k_{2}+k_{3}+k_{4}=N$\n",
        "\n",
        "$\\mu_{1}+\\mu_{2}+\\mu_{3}+\\mu_{4}=1$"
      ]
    },
    {
      "cell_type": "code",
      "metadata": {
        "id": "_bmKkFsuiKng",
        "colab_type": "code",
        "colab": {}
      },
      "source": [
        "from scipy.stats import multinomial\n",
        "#multinomial(n,[p1,p2,p3,p4])"
      ],
      "execution_count": null,
      "outputs": []
    },
    {
      "cell_type": "markdown",
      "metadata": {
        "id": "VMm_v1Gbi1d3",
        "colab_type": "text"
      },
      "source": [
        "En el archivo datasets/clinical_trials.csv se encuentran los resultados de las pruebas médicas realizadas. A partir de ellos, y asumiendo ningún conocimiento previo (prior uniforme), realice inferencia Bayesiana sobre las probabilidades del modelo. Grafique los posteriors correspondientes, y reporte un valor (estimador) para ellos. Justifique porque eligió dicho estimador. **Hint:** No hay una única respuesta adecuada."
      ]
    },
    {
      "cell_type": "code",
      "metadata": {
        "id": "NReKcXhFi16T",
        "colab_type": "code",
        "colab": {
          "base_uri": "https://localhost:8080/",
          "height": 218
        },
        "outputId": "730c32f0-fdbd-4140-8964-6169528b5614"
      },
      "source": [
        "#Si estas en Colab, ejecuta esto primero:\n",
        "!mkdir datasets\n",
        "!wget https://raw.githubusercontent.com/IAI-UNSAM/ML_UNSAM/master/datasets/clinical_trials.csv\n",
        "!mv clinical_trials.csv datasets/clinical_trials.csv"
      ],
      "execution_count": null,
      "outputs": [
        {
          "output_type": "stream",
          "text": [
            "mkdir: cannot create directory ‘datasets’: File exists\n",
            "--2020-08-25 20:35:41--  https://raw.githubusercontent.com/IAI-UNSAM/ML_UNSAM/master/datasets/clinical_trials.csv\n",
            "Resolving raw.githubusercontent.com (raw.githubusercontent.com)... 151.101.0.133, 151.101.64.133, 151.101.128.133, ...\n",
            "Connecting to raw.githubusercontent.com (raw.githubusercontent.com)|151.101.0.133|:443... connected.\n",
            "HTTP request sent, awaiting response... 200 OK\n",
            "Length: 63954 (62K) [text/plain]\n",
            "Saving to: ‘clinical_trials.csv’\n",
            "\n",
            "clinical_trials.csv 100%[===================>]  62.46K  --.-KB/s    in 0.03s   \n",
            "\n",
            "2020-08-25 20:35:42 (2.27 MB/s) - ‘clinical_trials.csv’ saved [63954/63954]\n",
            "\n"
          ],
          "name": "stdout"
        }
      ]
    },
    {
      "cell_type": "code",
      "metadata": {
        "id": "SQpqwNzujMlk",
        "colab_type": "code",
        "colab": {
          "base_uri": "https://localhost:8080/",
          "height": 225
        },
        "outputId": "2045141e-95b0-4bcb-b37e-8ae757422ba1"
      },
      "source": [
        "df = pd.read_csv('datasets/clinical_trials.csv', index_col='PatientID')\n",
        "df.head()"
      ],
      "execution_count": null,
      "outputs": [
        {
          "output_type": "execute_result",
          "data": {
            "text/html": [
              "<div>\n",
              "<style scoped>\n",
              "    .dataframe tbody tr th:only-of-type {\n",
              "        vertical-align: middle;\n",
              "    }\n",
              "\n",
              "    .dataframe tbody tr th {\n",
              "        vertical-align: top;\n",
              "    }\n",
              "\n",
              "    .dataframe thead th {\n",
              "        text-align: right;\n",
              "    }\n",
              "</style>\n",
              "<table border=\"1\" class=\"dataframe\">\n",
              "  <thead>\n",
              "    <tr style=\"text-align: right;\">\n",
              "      <th></th>\n",
              "      <th>TruePositive</th>\n",
              "      <th>FalsePositive</th>\n",
              "      <th>TrueNegative</th>\n",
              "      <th>FalseNegative</th>\n",
              "    </tr>\n",
              "    <tr>\n",
              "      <th>PatientID</th>\n",
              "      <th></th>\n",
              "      <th></th>\n",
              "      <th></th>\n",
              "      <th></th>\n",
              "    </tr>\n",
              "  </thead>\n",
              "  <tbody>\n",
              "    <tr>\n",
              "      <th>0</th>\n",
              "      <td>0</td>\n",
              "      <td>0</td>\n",
              "      <td>1</td>\n",
              "      <td>0</td>\n",
              "    </tr>\n",
              "    <tr>\n",
              "      <th>1</th>\n",
              "      <td>0</td>\n",
              "      <td>0</td>\n",
              "      <td>1</td>\n",
              "      <td>0</td>\n",
              "    </tr>\n",
              "    <tr>\n",
              "      <th>2</th>\n",
              "      <td>0</td>\n",
              "      <td>0</td>\n",
              "      <td>1</td>\n",
              "      <td>0</td>\n",
              "    </tr>\n",
              "    <tr>\n",
              "      <th>3</th>\n",
              "      <td>0</td>\n",
              "      <td>0</td>\n",
              "      <td>1</td>\n",
              "      <td>0</td>\n",
              "    </tr>\n",
              "    <tr>\n",
              "      <th>4</th>\n",
              "      <td>0</td>\n",
              "      <td>0</td>\n",
              "      <td>1</td>\n",
              "      <td>0</td>\n",
              "    </tr>\n",
              "  </tbody>\n",
              "</table>\n",
              "</div>"
            ],
            "text/plain": [
              "           TruePositive  FalsePositive  TrueNegative  FalseNegative\n",
              "PatientID                                                          \n",
              "0                     0              0             1              0\n",
              "1                     0              0             1              0\n",
              "2                     0              0             1              0\n",
              "3                     0              0             1              0\n",
              "4                     0              0             1              0"
            ]
          },
          "metadata": {
            "tags": []
          },
          "execution_count": 62
        }
      ]
    },
    {
      "cell_type": "code",
      "metadata": {
        "id": "M-BbQZs2VqsB",
        "colab_type": "code",
        "colab": {
          "base_uri": "https://localhost:8080/",
          "height": 101
        },
        "outputId": "630ee992-af37-43aa-bbf2-cd993286e534"
      },
      "source": [
        "alphas = df.sum(axis=0)\n",
        "print(alphas)\n",
        "alphas = np.array(alphas)"
      ],
      "execution_count": null,
      "outputs": [
        {
          "output_type": "stream",
          "text": [
            "TruePositive       45\n",
            "FalsePositive     430\n",
            "TrueNegative     4499\n",
            "FalseNegative      26\n",
            "dtype: int64\n"
          ],
          "name": "stdout"
        }
      ]
    },
    {
      "cell_type": "markdown",
      "metadata": {
        "id": "4cJP7mxzWpnl",
        "colab_type": "text"
      },
      "source": [
        "Mi teorema de Bayes:\n",
        "\n",
        "$p(\\mu_1,\\mu_2,\\mu_3,\\mu_4|N,k_1,k_2,k_3,k_4)=\\frac{p(k_1,k_2,k_3,k_4|N,\\mu_1,\\mu_2,\\mu_3,\\mu_4)p(\\mu_1,\\mu_2,\\mu_3,\\mu_4)}{p(k_1,k_2,k_3,k_4|N)}$\n",
        "\n",
        "Yo se la verosimilitud:\n",
        "$p(\\mu_1,\\mu_2,\\mu_3,\\mu_4|N,k_1,k_2,k_3,k_4)=\\frac{\\text{Multi}(k_1,k_2,k_3,k_4|N,\\mu_1,\\mu_2,\\mu_3,\\mu_4)p(\\mu_1,\\mu_2,\\mu_3,\\mu_4)}{p(k_1,k_2,k_3,k_4|N)}$\n",
        "\n",
        "Voy a tomar prior uniforme dado que no tengo conocimiento sobre los $\\mu$. Tomo la generalizacion de la Beta, la distribucion de Dirichlet.\n",
        "\n",
        "$\\text{Dirichlet}(\\mu_{1},\\mu_{2},\\mu_{3},\\mu_{4}|\\alpha_{1},\\alpha_{2},\\alpha_{3},\\alpha_{4})$\n",
        "\n",
        "Esta definida sobre un espacio K-1 dimensional. Siempre que samplee se va a cumplir que $\\sum_{i=1}^{K}\\mu_{i}=1$.\n",
        "\n",
        "En particular Dirichlet(1,1,1,...,1) es la distribucion uniforme."
      ]
    },
    {
      "cell_type": "code",
      "metadata": {
        "id": "nyFXi-I8Ybr9",
        "colab_type": "code",
        "colab": {
          "base_uri": "https://localhost:8080/",
          "height": 202
        },
        "outputId": "231b695b-0e23-489b-9f87-e607f7972b6c"
      },
      "source": [
        "from scipy.stats import dirichlet\n",
        "prioruniforme=dirichlet(alpha=[1,1,1,1])\n",
        "mu=prioruniforme.rvs(10)\n",
        "print(mu)\n",
        "print(np.sum(mu,axis=1))"
      ],
      "execution_count": null,
      "outputs": [
        {
          "output_type": "stream",
          "text": [
            "[[0.11112054 0.21456679 0.64284181 0.03147086]\n",
            " [0.29231571 0.17422047 0.40214643 0.13131738]\n",
            " [0.29383596 0.03725986 0.3197936  0.34911059]\n",
            " [0.11330138 0.06129195 0.0418652  0.78354147]\n",
            " [0.11869774 0.11977796 0.72722356 0.03430074]\n",
            " [0.33792864 0.29130812 0.21483435 0.15592889]\n",
            " [0.38310371 0.21747808 0.30438516 0.09503305]\n",
            " [0.01791288 0.03946517 0.5958579  0.34676405]\n",
            " [0.13457303 0.34294429 0.29735982 0.22512286]\n",
            " [0.56629349 0.07527385 0.10940764 0.24902502]]\n",
            "[1. 1. 1. 1. 1. 1. 1. 1. 1. 1.]\n"
          ],
          "name": "stdout"
        }
      ]
    },
    {
      "cell_type": "markdown",
      "metadata": {
        "id": "vTFoK0fdZAR4",
        "colab_type": "text"
      },
      "source": [
        "El posterior sera $\\text{Dirichlet}(\\alpha_{1}+k_{1},\\alpha_{2}+k_{2},\\alpha_{3}+k_{3},\\alpha_{4}+k_{4})$"
      ]
    },
    {
      "cell_type": "code",
      "metadata": {
        "id": "KNbIKx6SZL9q",
        "colab_type": "code",
        "colab": {}
      },
      "source": [
        "posterior=dirichlet(alpha=alphas+np.ones(4))"
      ],
      "execution_count": null,
      "outputs": []
    },
    {
      "cell_type": "markdown",
      "metadata": {
        "id": "jXv5V8ubaRyn",
        "colab_type": "text"
      },
      "source": [
        "Como estimador puedo considerar la media"
      ]
    },
    {
      "cell_type": "code",
      "metadata": {
        "id": "lKujMPnLaBtk",
        "colab_type": "code",
        "colab": {
          "base_uri": "https://localhost:8080/",
          "height": 34
        },
        "outputId": "36c110b9-3486-4b77-a916-5317c05e83f6"
      },
      "source": [
        "posterior.mean()"
      ],
      "execution_count": null,
      "outputs": [
        {
          "output_type": "execute_result",
          "data": {
            "text/plain": [
              "array([0.00919265, 0.0861311 , 0.89928058, 0.00539568])"
            ]
          },
          "metadata": {
            "tags": []
          },
          "execution_count": 74
        }
      ]
    },
    {
      "cell_type": "markdown",
      "metadata": {
        "id": "OkgH6vE0agNA",
        "colab_type": "text"
      },
      "source": [
        "Para graficar, tengo un problema y es que tengo demasiadas dimensiones.\n",
        "\n",
        "Puedo marginalizar para plottear.\n",
        "\n",
        "$p(\\mu_{1})=\\int p(\\mu_1,\\mu_2,\\mu_3,1-\\mu_1-\\mu_2-\\mu_3)d\\mu_2 d\\mu_3$\n",
        "\n",
        "Numericamente:"
      ]
    },
    {
      "cell_type": "code",
      "metadata": {
        "id": "_gA30dcwaPzZ",
        "colab_type": "code",
        "colab": {
          "base_uri": "https://localhost:8080/",
          "height": 282
        },
        "outputId": "f54bc6ee-3e19-44af-aad4-55ab256acead"
      },
      "source": [
        "sample_size = 100**3 #el espacio tiene 3 dimensiones, de esta forma tenemos approx mil por dimension\n",
        "\n",
        "samples = posterior.rvs(size=sample_size)\n",
        "\n",
        "histogram, bins = np.histogramdd(samples)\n",
        "\n",
        "plt.step(bins[0][:-1], histogram.sum(axis=(1,2,3)), label ='True Positive')\n",
        "plt.step(bins[1][:-1], histogram.sum(axis=(0,2,3)), label ='False Positive')\n",
        "plt.step(bins[2][:-1], histogram.sum(axis=(0,1,3)), label ='True Negative')\n",
        "plt.step(bins[3][:-1], histogram.sum(axis=(0,1,2)), label ='False Negative')\n",
        "plt.legend()"
      ],
      "execution_count": null,
      "outputs": [
        {
          "output_type": "execute_result",
          "data": {
            "text/plain": [
              "<matplotlib.legend.Legend at 0x7f1a6a301d68>"
            ]
          },
          "metadata": {
            "tags": []
          },
          "execution_count": 75
        },
        {
          "output_type": "display_data",
          "data": {
            "image/png": "[encoded data removed]",
            "text/plain": [
              "<Figure size 432x288 with 1 Axes>"
            ]
          },
          "metadata": {
            "tags": [],
            "needs_background": "light"
          }
        }
      ]
    },
    {
      "cell_type": "markdown",
      "metadata": {
        "id": "SYVl_I73jDzZ",
        "colab_type": "text"
      },
      "source": [
        "Usted se realiza dicho test y da positivo. Utilizando la información anterior ¿Cuál es la probabilidad de que estés enfermo?\n",
        "\n",
        "**DATO:** En la muestra de los resultados anteriores, la población enferma estaba sobrerepresentada para obtener una mejor estimación de falsos negativos y verdaderos positivos. Suponga que la probabilidad real de que alguien en su condición tenga la enfermedad es del 0.1%."
      ]
    },
    {
      "cell_type": "code",
      "metadata": {
        "id": "oDAsf8l8jLJk",
        "colab_type": "code",
        "colab": {}
      },
      "source": [
        ""
      ],
      "execution_count": null,
      "outputs": []
    },
    {
      "cell_type": "markdown",
      "metadata": {
        "id": "ANSYy6T6jU-4",
        "colab_type": "text"
      },
      "source": [
        "¿Cambia el resultado anterior si utilizas las distribuciones de posterior en lugar de los estimadores escogidos? ¿Porqué?"
      ]
    },
    {
      "cell_type": "code",
      "metadata": {
        "id": "9lQ1gn1jjVOS",
        "colab_type": "code",
        "colab": {}
      },
      "source": [
        ""
      ],
      "execution_count": null,
      "outputs": []
    }
  ]
}