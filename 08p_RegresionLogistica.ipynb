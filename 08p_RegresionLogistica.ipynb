{
  "nbformat": 4,
  "nbformat_minor": 0,
  "metadata": {
    "colab": {
      "name": "08p_RegresionLogistica.ipynb",
      "provenance": [],
      "collapsed_sections": [
        "Cj2srKVYPCUc"
      ],
      "toc_visible": true
    },
    "kernelspec": {
      "name": "python3",
      "display_name": "Python 3"
    }
  },
  "cells": [
    {
      "cell_type": "code",
      "metadata": {
        "id": "k8uN8SRyGFZ4"
      },
      "source": [
        "import numpy as np\n",
        "import matplotlib.pyplot as plt"
      ],
      "execution_count": 1,
      "outputs": []
    },
    {
      "cell_type": "markdown",
      "metadata": {
        "id": "Tye0tHMcWaIA"
      },
      "source": [
        "# Clasificacion"
      ]
    },
    {
      "cell_type": "markdown",
      "metadata": {
        "id": "BE8qpWxKPKrj"
      },
      "source": [
        "## Ejercicio del Parcial"
      ]
    },
    {
      "cell_type": "markdown",
      "metadata": {
        "id": "kiSlK9bZWiqj"
      },
      "source": [
        "El siguiente dataset consiste en dos clases de objetos caracterizados por dos features, ya estandarizados."
      ]
    },
    {
      "cell_type": "code",
      "metadata": {
        "id": "kptA5gqfcJnM"
      },
      "source": [
        "dataset=np.loadtxt('dataset_clasificacion.dat')"
      ],
      "execution_count": 2,
      "outputs": []
    },
    {
      "cell_type": "markdown",
      "metadata": {
        "id": "C9Udyz5PbbdQ"
      },
      "source": [
        "a) Separe en train y test con una proporcion 80-20 y grafique el conjunto de entrenamiento, con un color para cada label"
      ]
    },
    {
      "cell_type": "code",
      "metadata": {
        "id": "G2qgUseQXTJA"
      },
      "source": [
        "from sklearn.model_selection import train_test_split\n",
        "\n",
        "dataset_train, dataset_test = train_test_split(dataset, test_size=0.2, random_state=42)"
      ],
      "execution_count": 3,
      "outputs": []
    },
    {
      "cell_type": "code",
      "metadata": {
        "id": "MVx7gYqLbzPA",
        "scrolled": true,
        "outputId": "7f4f7d92-828b-4f5c-cdab-ffb1ccd8d196",
        "colab": {
          "base_uri": "https://localhost:8080/",
          "height": 282
        }
      },
      "source": [
        "X_train=dataset_train[:,:-1]\n",
        "y_train=dataset_train[:,2]\n",
        "plt.scatter(X_train[:,0],X_train[:,1],c=y_train)"
      ],
      "execution_count": 4,
      "outputs": [
        {
          "output_type": "execute_result",
          "data": {
            "text/plain": [
              "<matplotlib.collections.PathCollection at 0x7fefd4fca9b0>"
            ]
          },
          "metadata": {
            "tags": []
          },
          "execution_count": 4
        },
        {
          "output_type": "display_data",
          "data": {
            "image/png": "[encoded data removed]",
            "text/plain": [
              "<Figure size 432x288 with 1 Axes>"
            ]
          },
          "metadata": {
            "tags": [],
            "needs_background": "light"
          }
        }
      ]
    },
    {
      "cell_type": "markdown",
      "metadata": {
        "id": "tJmvC80TcVwG"
      },
      "source": [
        "b) Viendo este grafico, le parece que los datos son linealmente separables?"
      ]
    },
    {
      "cell_type": "markdown",
      "metadata": {
        "id": "AMazHI-4inyw"
      },
      "source": [
        ""
      ]
    },
    {
      "cell_type": "markdown",
      "metadata": {
        "id": "5pDNhK0oX0Tg"
      },
      "source": [
        "c) Haga un cambio de base a \n",
        "\n",
        "$\\phi_{0} = \\mathcal{N}(\\mathbf{x} |\\vec{\\mu}=(-1.0,-1.0),\\sigma^{2}=1.0)$\n",
        "\n",
        "$\\phi_{1} = \\mathcal{N}(\\mathbf{x} | \\vec{\\mu}=(0.0,0.0),\\sigma^{2}=1.0)$\n",
        "\n",
        "Y grafique los datos en este nuevo espacio. Que puede concluir?"
      ]
    },
    {
      "cell_type": "markdown",
      "metadata": {
        "id": "W7uRFfZ1jOih"
      },
      "source": [
        "_Ayuda: utilice el metodo pdf para evaluar_\n",
        "\n",
        "`gauss = multivariate_normal(mean=mean,cov=cov).pdf(X)`"
      ]
    },
    {
      "cell_type": "code",
      "metadata": {
        "id": "htfhwGrAc1pA",
        "outputId": "f4fb64de-bee6-43a1-a165-8f3916d8570c",
        "colab": {
          "base_uri": "https://localhost:8080/",
          "height": 282
        }
      },
      "source": [
        "from scipy.stats import multivariate_normal\n",
        "gauss0=multivariate_normal(mean=[-1.0,-1.0],cov=np.eye(2))\n",
        "gauss1=multivariate_normal(mean=[0.0,0.0],cov=np.eye(2))\n",
        "Phi_train=np.hstack((gauss0.pdf(X_train).reshape(-1,1),gauss1.pdf(X_train).reshape(-1,1)))\n",
        "plt.scatter(Phi_train[:,0],Phi_train[:,1],c=y_train)"
      ],
      "execution_count": 6,
      "outputs": [
        {
          "output_type": "execute_result",
          "data": {
            "text/plain": [
              "<matplotlib.collections.PathCollection at 0x7fefd4f4c588>"
            ]
          },
          "metadata": {
            "tags": []
          },
          "execution_count": 6
        },
        {
          "output_type": "display_data",
          "data": {
            "image/png": "[encoded data removed]",
            "text/plain": [
              "<Figure size 432x288 with 1 Axes>"
            ]
          },
          "metadata": {
            "tags": [],
            "needs_background": "light"
          }
        }
      ]
    },
    {
      "cell_type": "markdown",
      "metadata": {
        "id": "U69fLflndxH-"
      },
      "source": [
        "d) Entrene un Regresor Logistico en este nuevo espacio, grafique la frontera de decision y calcule la matriz de confusion. Que puede decir al respecto? *Recuerde hacer todo en el nuevo espacio*"
      ]
    },
    {
      "cell_type": "markdown",
      "metadata": {
        "id": "Cj2srKVYPCUc"
      },
      "source": [
        "### Regresión Logística\n"
      ]
    },
    {
      "cell_type": "markdown",
      "metadata": {
        "id": "AuCLBLecH8bx"
      },
      "source": [
        "\n",
        "En lugar de buscar directamente la función discriminadora podemos tratar de modelar los posterior de nuestro clasificador obteniendo lo que se llama un _modelo discriminador probabilistico_. Uno de estos modelos es el de la Regresión Logistica.\n",
        "\n",
        "En este modelado, que veremos para dos clases posibles, para un dado $\\vec{x}$ modelamos la prioridad de que pertenezca a la clase $\\mathcal{C}_{1}$ como:\n",
        "\n",
        "$p(\\mathcal{C}_{1}|\\vec{x})=\\sigma(\\vec{w}^{T}\\vec{\\phi}(\\vec{x}))$\n",
        "\n",
        "Con $p(\\mathcal{C}_{2}|\\vec{x})=1-p(\\mathcal{C}_{1}|\\vec{x})$. $\\sigma$ es la función sigmoide\n",
        "\n",
        "$\\sigma(a)=\\frac{1}{1+e^{-a}}$\n",
        "\n",
        "Para este modelo, si se tienen $M$ funciones fijas $\\phi$, se tienen $M$ parametros ajustables. \n",
        "\n",
        "Para un dataset $\\vec{x}_{n}$, con $n=1,..,N$, la verosimilitud es\n",
        "\n",
        "$p(\\text{T}|\\vec{w})=\\prod_{n=1}^{N}y^{t_n}_{n}(1-y_{n})^{1-t_n}$\n",
        "\n",
        "De manera tal que, maximizando la verosimilitud, podemos definir un algoritmo iterativo para encontrar los $\\vec{w}$, el Iterative Reweighted Least Squares o IRLS. Para la regresión logistica, la función de error es la cross-entropy:\n",
        "\n",
        "$E(\\vec{w})=-\\sum_{n=1}^{N}(t_{n}\\text{ln}y_{n}+(1-t_{n})\\text{ln}(1-y_{n}))$\n",
        "\n",
        "Para minimizar este error, el algoritmo utiliza una actualización de Newton-Ralphson:\n",
        "\n",
        "$\\vec{w}^{\\text{nuevo}}=\\vec{w}^{\\text{viejo}}-\\text{H}^{-1}\\nabla E(\\vec{w})$\n",
        "\n",
        "Donde $\\nabla E(\\vec{w})$ es el gradiente del error y $\\text{H}$ es la matriz Hessiana. Para la regresion logistica, uno puede llegar a sus propias ecuaciones normales _iterativas_\n",
        "\n",
        "$\\vec{w}^{\\text{nuevo}}=(\\text{$\\Phi$}^{T}\\text{R}\\text{$\\Phi$})^{-1}\\text{$\\Phi$}^{T}\\text{R}\\text{z}$\n",
        "\n",
        "Con $\\Phi$ la matriz de disenio, $\\text{R}$ la matriz diagonal cuyos elementos son $y_{n}(1-y_{n})$ y $\\text{z}$ es un vector que se calcula como:\n",
        "\n",
        "$\\text{z}=\\text{$\\Phi$}\\vec{w}^{\\text{viejo}}-\\text{R}^{-1}(\\text{Y}-\\text{T})$\n",
        "\n",
        "Con $\\text{Y}$ e $\\text{T}$ los vectores de predicciones y respuestas respectivamente. Noten que los pesos entran varias veces: en la matriz $\\text{R}$, en el vector $\\text{Y}$ y explicitamente en $\\text{z}$. Es por esto que es iterativo.\n",
        "\n",
        "\n",
        "Este algoritmo también puede aplicarse al caso de regresión lineal, viendo que el algoritmo de Newton-Raphson converge a la solución cerrada en 1 paso. La diferencia aquí es la función de activación sigmoide. Además, quiero enfatizar que este algoritmo es iterativo pero no es secuencial, ya que utiliza todos los datos del dataset."
      ]
    },
    {
      "cell_type": "markdown",
      "metadata": {
        "id": "YtONMfY1JezZ"
      },
      "source": [
        "### Ejemplo de la funcion sigmoide:"
      ]
    },
    {
      "cell_type": "code",
      "metadata": {
        "id": "QXYoiJOLdLbu",
        "outputId": "b8c258f6-a34c-4700-ed84-e48b38a75512",
        "colab": {
          "base_uri": "https://localhost:8080/",
          "height": 282
        }
      },
      "source": [
        "import math\n",
        "def sigmoid(x):\n",
        "  return 1 / (1 + math.exp(-x))\n",
        "xx = np.linspace(-5,5,100)\n",
        "plt.plot(xx,list(map(lambda x: sigmoid(x), xx)))\n",
        "plt.scatter(0.0,sigmoid(0.0),color='red')\n",
        "plt.axvline(x=0.0,color='red')\n",
        "plt.axhline(y=0.5,color='red')"
      ],
      "execution_count": 13,
      "outputs": [
        {
          "output_type": "execute_result",
          "data": {
            "text/plain": [
              "<matplotlib.lines.Line2D at 0x7fefc9e58710>"
            ]
          },
          "metadata": {
            "tags": []
          },
          "execution_count": 13
        },
        {
          "output_type": "display_data",
          "data": {
            "image/png": "[encoded data removed]",
            "text/plain": [
              "<Figure size 432x288 with 1 Axes>"
            ]
          },
          "metadata": {
            "tags": [],
            "needs_background": "light"
          }
        }
      ]
    },
    {
      "cell_type": "markdown",
      "metadata": {
        "id": "fnFQMYEaJana"
      },
      "source": [
        "Defino la matriz con la columna de unos."
      ]
    },
    {
      "cell_type": "code",
      "metadata": {
        "id": "eLmYToLYJDTZ",
        "outputId": "1c40d469-0e95-40b2-c927-32bfd919b86d",
        "colab": {
          "base_uri": "https://localhost:8080/",
          "height": 51
        }
      },
      "source": [
        "Full_Phi_train=np.hstack((np.ones(Phi_train.shape[0]).reshape(-1,1),Phi_train))\n",
        "print(Full_Phi_train.shape)"
      ],
      "execution_count": 15,
      "outputs": [
        {
          "output_type": "stream",
          "text": [
            "(80, 3)\n"
          ],
          "name": "stdout"
        },
        {
          "output_type": "execute_result",
          "data": {
            "text/plain": [
              "array([[1.        , 0.15482337, 0.047359  ]])"
            ]
          },
          "metadata": {
            "tags": []
          },
          "execution_count": 15
        }
      ]
    },
    {
      "cell_type": "markdown",
      "metadata": {
        "id": "nOhGsjCwJY1g"
      },
      "source": [
        ""
      ]
    },
    {
      "cell_type": "code",
      "metadata": {
        "id": "5bGPjCGXgZpC"
      },
      "source": [
        "w=[np.ones(3).reshape(-1,1)]\n",
        "n_iter = 4\n",
        "for i in range(n_iter):\n",
        "  y = np.asarray(list(map(lambda x: sigmoid(np.dot(x,w[-1])),Full_Phi_train)))\n",
        "  R=np.diag(list(map(lambda yy: yy*(1-yy), y)))\n",
        "  #print(R.shape)\n",
        "  #print(y.shape)\n",
        "  aux_matrix=np.linalg.solve(R,(y-y_train).reshape(-1,1))\n",
        "  #print(aux_matrix.shape)\n",
        "  z = np.dot(Full_Phi_train,w[-1])-aux_matrix\n",
        "  #print(z.shape)\n",
        "  aux_matrix_2 = np.dot(np.dot(Full_Phi_train.T,R),Full_Phi_train)\n",
        "  aux_matrix_3 = np.dot(np.dot(Full_Phi_train.T,R),z)\n",
        "  w_aux=np.linalg.solve(aux_matrix_2,aux_matrix_3)\n",
        "  #print(w_aux.shape)\n",
        "  #print(w_aux)\n",
        "  w.append(w_aux)"
      ],
      "execution_count": 61,
      "outputs": []
    },
    {
      "cell_type": "code",
      "metadata": {
        "id": "NujQHhsfMJHt",
        "outputId": "8709b1b1-9191-42c6-9434-387abd360224",
        "colab": {
          "base_uri": "https://localhost:8080/",
          "height": 34
        }
      },
      "source": [
        "W=w[-1][:,0]\n",
        "y_pred=np.where(y>=0.5,1,0)\n",
        "print(y_pred.shape)"
      ],
      "execution_count": 62,
      "outputs": [
        {
          "output_type": "stream",
          "text": [
            "(80,)\n"
          ],
          "name": "stdout"
        }
      ]
    },
    {
      "cell_type": "code",
      "metadata": {
        "id": "SRjrWbJJd39_",
        "outputId": "f0eddff2-d098-40c7-fe10-09be11cac894",
        "colab": {
          "base_uri": "https://localhost:8080/",
          "height": 286
        }
      },
      "source": [
        "x=np.linspace(0.0,0.2,100)\n",
        "y=np.linspace(0.0,0.2,100)\n",
        "Xtoplot,Ytoplot=np.meshgrid(x,y)\n",
        "plt.xlim(0.0,0.2)\n",
        "plt.ylim(0.0,0.2)\n",
        "Z=(np.asarray([sigmoid(np.dot(W,[1.0,el[0],el[1]])) for el in np.c_[Xtoplot.ravel(), Ytoplot.ravel()]])).reshape(Xtoplot.shape)\n",
        "plt.contourf(Xtoplot,Ytoplot,Z,levels=[0.0,0.5,1.0],alpha=0.6)\n",
        "plt.colorbar()\n",
        "plt.scatter(Phi_train[:,0],Phi_train[:,1],c=y_train)"
      ],
      "execution_count": 69,
      "outputs": [
        {
          "output_type": "execute_result",
          "data": {
            "text/plain": [
              "<matplotlib.collections.PathCollection at 0x7fefc92889e8>"
            ]
          },
          "metadata": {
            "tags": []
          },
          "execution_count": 69
        },
        {
          "output_type": "display_data",
          "data": {
            "image/png": "[encoded data removed]",
            "text/plain": [
              "<Figure size 432x288 with 2 Axes>"
            ]
          },
          "metadata": {
            "tags": [],
            "needs_background": "light"
          }
        }
      ]
    },
    {
      "cell_type": "code",
      "metadata": {
        "id": "WJ8cXb7kew2Q",
        "outputId": "b900c85c-0e7c-47ea-d66f-832acb000ec2",
        "colab": {
          "base_uri": "https://localhost:8080/",
          "height": 119
        }
      },
      "source": [
        "from sklearn.metrics import confusion_matrix\n",
        "\n",
        "cf=confusion_matrix(y_train,y_pred)\n",
        "print(cf)\n",
        "tn, fp, fn, tp = cf.ravel()\n",
        "print(\"Sensitividad (TPR/Recall):%8.3f\" % (tp/(tp+fn)))\n",
        "print(\"Especificidad:%8.3f\" % (tn/(tn+fp)))\n",
        "print(\"Precision:%8.3f\" % (tp/(tp+fp)))\n",
        "print(\"FPR:%8.3f\" % (fp/(tn+fp)))"
      ],
      "execution_count": 64,
      "outputs": [
        {
          "output_type": "stream",
          "text": [
            "[[38  0]\n",
            " [ 0 42]]\n",
            "Sensitividad (TPR/Recall):   1.000\n",
            "Especificidad:   1.000\n",
            "Precision:   1.000\n",
            "FPR:   0.000\n"
          ],
          "name": "stdout"
        }
      ]
    },
    {
      "cell_type": "markdown",
      "metadata": {
        "id": "vF9bxxtggfHn"
      },
      "source": [
        "e) Grafique la frontera de decision en el espacio original. Que concluye?"
      ]
    },
    {
      "cell_type": "markdown",
      "metadata": {
        "id": "WApMmGTzjag-"
      },
      "source": [
        "_Ayuda: Lo que uno tiene que hacer es un contour plot de la funcion de decision en el espacio original. Es decir, $F(\\phi_{0}(x_{1},x_{2}),\\phi_{1}(x_{1},x_{2}))$. La manera mas facil de hacerlo es crear un array que traduzca tus coordenadas al espacio $\\phi_{0}, \\phi_{1}$ y evaluar ahi:_\n",
        "\n",
        "\n",
        "\n",
        "```\n",
        "x1=...\n",
        "x2=...\n",
        "X1,X2 = np.meshgrid(x1,x2)\n",
        "transformed_array=np.asarray([[phi0(ele),phi1(ele)] for ele in np.c_[X1.ravel(), X2.ravel()]])\n",
        "Z=model.decision_function(transformed_array)\n",
        "```\n",
        "\n",
        "\n",
        "\n",
        "\n"
      ]
    },
    {
      "cell_type": "code",
      "metadata": {
        "id": "eKP9iyHggrxT",
        "outputId": "46955b64-0be8-4f0b-c582-3e27ac51bfe8",
        "colab": {
          "base_uri": "https://localhost:8080/",
          "height": 286
        }
      },
      "source": [
        "x=np.linspace(-2.0,2.0,100)\n",
        "y=np.linspace(-2.0,2.0,100)\n",
        "Xtoplot,Ytoplot=np.meshgrid(x,y)\n",
        "plt.xlim(-2.0,2.0)\n",
        "plt.ylim(-2.0,2.0)\n",
        "Z=(np.asarray([sigmoid(np.dot(W,[1.0,gauss0.pdf(el),gauss1.pdf(el)])) for el in np.c_[Xtoplot.ravel(), Ytoplot.ravel()]])).reshape(Xtoplot.shape)\n",
        "plt.contourf(Xtoplot,Ytoplot,Z,levels=[0.0,0.5,1.0],alpha=0.6)\n",
        "plt.colorbar()\n",
        "plt.scatter(X_train[:,0],X_train[:,1],c=y_train)"
      ],
      "execution_count": 68,
      "outputs": [
        {
          "output_type": "execute_result",
          "data": {
            "text/plain": [
              "<matplotlib.collections.PathCollection at 0x7fefc97fd710>"
            ]
          },
          "metadata": {
            "tags": []
          },
          "execution_count": 68
        },
        {
          "output_type": "display_data",
          "data": {
            "image/png": "[encoded data removed]",
            "text/plain": [
              "<Figure size 432x288 with 2 Axes>"
            ]
          },
          "metadata": {
            "tags": [],
            "needs_background": "light"
          }
        }
      ]
    },
    {
      "cell_type": "markdown",
      "metadata": {
        "id": "vNXZ9nGgRRcO"
      },
      "source": [
        "## Sensibilidad a outliers"
      ]
    },
    {
      "cell_type": "markdown",
      "metadata": {
        "id": "FVrq9pooPIdK"
      },
      "source": [
        "Al ser un modelo discriminativo, los outliers o anomalias son menos problematicas."
      ]
    },
    {
      "cell_type": "code",
      "metadata": {
        "id": "kgtDq49ShNol"
      },
      "source": [
        "from sklearn.linear_model import LogisticRegression\n",
        "from sklearn.discriminant_analysis import LinearDiscriminantAnalysis\n"
      ],
      "execution_count": 85,
      "outputs": []
    },
    {
      "cell_type": "markdown",
      "metadata": {
        "id": "R0h6zJmaGrkm"
      },
      "source": [
        "Si no hay anomalias"
      ]
    },
    {
      "cell_type": "code",
      "metadata": {
        "id": "KA64Ud3ORxaY",
        "outputId": "0f42090e-f40c-4ddd-ec24-d52debd8800f",
        "colab": {
          "base_uri": "https://localhost:8080/",
          "height": 374
        }
      },
      "source": [
        "np.random.seed(42)\n",
        "X1=multivariate_normal.rvs(size=100,mean=[0,7],cov=[[1,0.0],[0.0, 1]])\n",
        "X2=multivariate_normal.rvs(size=100,mean=[2,4],cov=[[2,0.0],[0.0, 1]])\n",
        "plt.scatter(X1[:,0],X1[:,1],color='blue')\n",
        "plt.scatter(X2[:,0],X2[:,1],color='red')\n",
        "X=np.vstack((X1,X2))\n",
        "t=np.vstack((np.ones(X1.shape[0]).reshape(-1,1),np.zeros(X2.shape[0]).reshape(-1,1)))\n",
        "lda=LinearDiscriminantAnalysis(solver='eigen')\n",
        "lr=LogisticRegression()\n",
        "lda.fit(X,t)\n",
        "lr.fit(X,t)\n",
        "\n",
        "intercept_lda=lda.intercept_\n",
        "coeffs_lda=lda.coef_[0]\n",
        "\n",
        "intercept_lr=lr.intercept_\n",
        "coeffs_lr=lr.coef_[0]\n",
        "\n",
        "x=np.linspace(-3.0,10.0,100)\n",
        "y=np.linspace(-1.0,10.0,100)\n",
        "lda_boundary=-(intercept_lda+coeffs_lda[0]*x)/coeffs_lda[1]\n",
        "lr_boundary=-(intercept_lr+coeffs_lr[0]*x)/coeffs_lr[1]\n",
        "\n",
        "plt.plot(x,lda_boundary,color='magenta',label='Fisher')\n",
        "plt.plot(x,lr_boundary,color='green',label='Regresion Logistica')\n",
        "#plt.contour(Xtoplot,Ytoplot,Z,levels=[-1.0,0.0,1.0],color='magenta',alpha=1.0)\n",
        "plt.xlim((-3,10))\n",
        "plt.ylim((-1,10))\n",
        "plt.legend(loc='lower left',framealpha=0.2)"
      ],
      "execution_count": 103,
      "outputs": [
        {
          "output_type": "stream",
          "text": [
            "/usr/local/lib/python3.6/dist-packages/sklearn/utils/validation.py:760: DataConversionWarning: A column-vector y was passed when a 1d array was expected. Please change the shape of y to (n_samples, ), for example using ravel().\n",
            "  y = column_or_1d(y, warn=True)\n",
            "/usr/local/lib/python3.6/dist-packages/sklearn/utils/validation.py:760: DataConversionWarning: A column-vector y was passed when a 1d array was expected. Please change the shape of y to (n_samples, ), for example using ravel().\n",
            "  y = column_or_1d(y, warn=True)\n"
          ],
          "name": "stderr"
        },
        {
          "output_type": "execute_result",
          "data": {
            "text/plain": [
              "<matplotlib.legend.Legend at 0x7fefc722b780>"
            ]
          },
          "metadata": {
            "tags": []
          },
          "execution_count": 103
        },
        {
          "output_type": "display_data",
          "data": {
            "image/png": "[encoded data removed]",
            "text/plain": [
              "<Figure size 432x288 with 1 Axes>"
            ]
          },
          "metadata": {
            "tags": [],
            "needs_background": "light"
          }
        }
      ]
    },
    {
      "cell_type": "code",
      "metadata": {
        "id": "YsIjq4R3R7XK",
        "outputId": "17683373-f7d8-4e9d-e563-74b79d83df03",
        "colab": {
          "base_uri": "https://localhost:8080/",
          "height": 119
        }
      },
      "source": [
        "cf=confusion_matrix(t,lda.predict(X))\n",
        "print(cf)\n",
        "tn, fp, fn, tp = cf.ravel()\n",
        "print(\"Sensitividad (TPR/Recall):%8.3f\" % (tp/(tp+fn)))\n",
        "print(\"Especificidad:%8.3f\" % (tn/(tn+fp)))\n",
        "print(\"Precision:%8.3f\" % (tp/(tp+fp)))\n",
        "print(\"FPR:%8.3f\" % (fp/(tn+fp)))"
      ],
      "execution_count": 104,
      "outputs": [
        {
          "output_type": "stream",
          "text": [
            "[[96  4]\n",
            " [ 4 96]]\n",
            "Sensitividad (TPR/Recall):   0.960\n",
            "Especificidad:   0.960\n",
            "Precision:   0.960\n",
            "FPR:   0.040\n"
          ],
          "name": "stdout"
        }
      ]
    },
    {
      "cell_type": "code",
      "metadata": {
        "id": "J_L4kcwkVmfy",
        "outputId": "0528346f-47d6-4c0c-9d57-07d53eec15e7",
        "colab": {
          "base_uri": "https://localhost:8080/",
          "height": 119
        }
      },
      "source": [
        "cf=confusion_matrix(t,lr.predict(X))\n",
        "print(cf)\n",
        "tn, fp, fn, tp = cf.ravel()\n",
        "print(\"Sensitividad (TPR/Recall):%8.3f\" % (tp/(tp+fn)))\n",
        "print(\"Especificidad:%8.3f\" % (tn/(tn+fp)))\n",
        "print(\"Precision:%8.3f\" % (tp/(tp+fp)))\n",
        "print(\"FPR:%8.3f\" % (fp/(tn+fp)))"
      ],
      "execution_count": 105,
      "outputs": [
        {
          "output_type": "stream",
          "text": [
            "[[96  4]\n",
            " [ 4 96]]\n",
            "Sensitividad (TPR/Recall):   0.960\n",
            "Especificidad:   0.960\n",
            "Precision:   0.960\n",
            "FPR:   0.040\n"
          ],
          "name": "stdout"
        }
      ]
    },
    {
      "cell_type": "markdown",
      "metadata": {
        "id": "MkVjn75UVrNw"
      },
      "source": [
        "Con anomalias:"
      ]
    },
    {
      "cell_type": "code",
      "metadata": {
        "id": "M7pDksknVoSL",
        "outputId": "a7c18a09-47cf-43d5-96cc-8072b4335305",
        "colab": {
          "base_uri": "https://localhost:8080/",
          "height": 374
        }
      },
      "source": [
        "np.random.seed(42)\n",
        "X1=multivariate_normal.rvs(size=100,mean=[0,7],cov=[[1,0.0],[0.0, 1]])\n",
        "aux1=multivariate_normal.rvs(size=90,mean=[2,4],cov=[[2,0.0],[0.0, 1]])\n",
        "aux2=multivariate_normal.rvs(size=10,mean=[9,0],cov=[[0.2,0.0],[0.0, 0.1]])\n",
        "X2=np.zeros(X1.shape)\n",
        "X2[:,0]=np.append(aux1[:,0],aux2[:,0])\n",
        "X2[:,1]=np.append(aux1[:,1],aux2[:,1])\n",
        "plt.scatter(X1[:,0],X1[:,1],color='blue')\n",
        "plt.scatter(X2[:,0],X2[:,1],color='red')\n",
        "X=np.vstack((X1,X2))\n",
        "t=np.vstack((np.ones(X1.shape[0]).reshape(-1,1),np.zeros(X2.shape[0]).reshape(-1,1)))\n",
        "lda=LinearDiscriminantAnalysis(solver='eigen')\n",
        "lr=LogisticRegression()\n",
        "lda.fit(X,t)\n",
        "lr.fit(X,t)\n",
        "\n",
        "intercept_lda=lda.intercept_\n",
        "coeffs_lda=lda.coef_[0]\n",
        "\n",
        "intercept_lr=lr.intercept_\n",
        "coeffs_lr=lr.coef_[0]\n",
        "\n",
        "x=np.linspace(-3.0,10.0,100)\n",
        "y=np.linspace(-1.0,10.0,100)\n",
        "lda_boundary=-(intercept_lda+coeffs_lda[0]*x)/coeffs_lda[1]\n",
        "lr_boundary=-(intercept_lr+coeffs_lr[0]*x)/coeffs_lr[1]\n",
        "\n",
        "plt.plot(x,lda_boundary,color='magenta',label='Fisher')\n",
        "plt.plot(x,lr_boundary,color='green',label='Regresion Logistica')\n",
        "#plt.contour(Xtoplot,Ytoplot,Z,levels=[-1.0,0.0,1.0],color='magenta',alpha=1.0)\n",
        "plt.xlim((-3,10))\n",
        "plt.ylim((-1,10))\n",
        "plt.legend(loc='lower left',framealpha=0.2)"
      ],
      "execution_count": 106,
      "outputs": [
        {
          "output_type": "stream",
          "text": [
            "/usr/local/lib/python3.6/dist-packages/sklearn/utils/validation.py:760: DataConversionWarning: A column-vector y was passed when a 1d array was expected. Please change the shape of y to (n_samples, ), for example using ravel().\n",
            "  y = column_or_1d(y, warn=True)\n",
            "/usr/local/lib/python3.6/dist-packages/sklearn/utils/validation.py:760: DataConversionWarning: A column-vector y was passed when a 1d array was expected. Please change the shape of y to (n_samples, ), for example using ravel().\n",
            "  y = column_or_1d(y, warn=True)\n"
          ],
          "name": "stderr"
        },
        {
          "output_type": "execute_result",
          "data": {
            "text/plain": [
              "<matplotlib.legend.Legend at 0x7fefc73f5940>"
            ]
          },
          "metadata": {
            "tags": []
          },
          "execution_count": 106
        },
        {
          "output_type": "display_data",
          "data": {
            "image/png": "[encoded data removed]",
            "text/plain": [
              "<Figure size 432x288 with 1 Axes>"
            ]
          },
          "metadata": {
            "tags": [],
            "needs_background": "light"
          }
        }
      ]
    },
    {
      "cell_type": "code",
      "metadata": {
        "id": "0y0NqwhyWmIM",
        "outputId": "1d0e1c87-509c-4250-d9df-8a93639033c1",
        "colab": {
          "base_uri": "https://localhost:8080/",
          "height": 119
        }
      },
      "source": [
        "cf=confusion_matrix(t,lda.predict(X))\n",
        "print(cf)\n",
        "tn, fp, fn, tp = cf.ravel()\n",
        "print(\"Sensitividad (TPR/Recall):%8.3f\" % (tp/(tp+fn)))\n",
        "print(\"Especificidad:%8.3f\" % (tn/(tn+fp)))\n",
        "print(\"Precision:%8.3f\" % (tp/(tp+fp)))\n",
        "print(\"FPR:%8.3f\" % (fp/(tn+fp)))"
      ],
      "execution_count": 107,
      "outputs": [
        {
          "output_type": "stream",
          "text": [
            "[[96  4]\n",
            " [ 3 97]]\n",
            "Sensitividad (TPR/Recall):   0.970\n",
            "Especificidad:   0.960\n",
            "Precision:   0.960\n",
            "FPR:   0.040\n"
          ],
          "name": "stdout"
        }
      ]
    },
    {
      "cell_type": "code",
      "metadata": {
        "id": "_P-ubHCvWrFs",
        "outputId": "8889542d-e61f-4e59-9a88-c8d7c5dfff94",
        "colab": {
          "base_uri": "https://localhost:8080/",
          "height": 119
        }
      },
      "source": [
        "cf=confusion_matrix(t,lr.predict(X))\n",
        "print(cf)\n",
        "tn, fp, fn, tp = cf.ravel()\n",
        "print(\"Sensitividad (TPR/Recall):%8.3f\" % (tp/(tp+fn)))\n",
        "print(\"Especificidad:%8.3f\" % (tn/(tn+fp)))\n",
        "print(\"Precision:%8.3f\" % (tp/(tp+fp)))\n",
        "print(\"FPR:%8.3f\" % (fp/(tn+fp)))"
      ],
      "execution_count": 108,
      "outputs": [
        {
          "output_type": "stream",
          "text": [
            "[[98  2]\n",
            " [ 1 99]]\n",
            "Sensitividad (TPR/Recall):   0.990\n",
            "Especificidad:   0.980\n",
            "Precision:   0.980\n",
            "FPR:   0.020\n"
          ],
          "name": "stdout"
        }
      ]
    },
    {
      "cell_type": "code",
      "metadata": {
        "id": "lnSsmBZQWuMM"
      },
      "source": [
        ""
      ],
      "execution_count": null,
      "outputs": []
    },
    {
      "cell_type": "markdown",
      "metadata": {
        "id": "Z5Flq6Z4Wv0R"
      },
      "source": [
        "## Matriz de perdida:"
      ]
    },
    {
      "cell_type": "markdown",
      "metadata": {
        "id": "78cxbHWjW0FW"
      },
      "source": [
        "Cuando uno tiene clases no linealmente separables, no puede clasificar perfectamente y tiene que empezar a decidir que error prefiere minimizar. Aqui entra la matriz de perdida  $L_{kj}$  donde $j$ es la clase a la que se lo asigna.\n",
        "\n",
        "Es decir, uno asigna la clase $j$ a la medicion $x$ como la que minimiza\n",
        "\n",
        "$\\sum_{k}L_{kj}p(C_{k}|x)$\n",
        "\n",
        "Volvamos al ejemplo de mas arriba, y decidamos que me importa mas clasificar bien los objetos de la clase 1 que los de la clase 2. Como matriz de perdida, esta seria:\n",
        "\n",
        "Esto seria"
      ]
    },
    {
      "cell_type": "code",
      "metadata": {
        "id": "R6jW3R-4Yrcg",
        "outputId": "f6bffe83-b4d2-4bbc-dd07-2be66cabc491",
        "colab": {
          "base_uri": "https://localhost:8080/",
          "height": 51
        }
      },
      "source": [
        "Loss=np.array([[0.0,1000.0],[1.0,0.0]])\n",
        "print(Loss)"
      ],
      "execution_count": 110,
      "outputs": [
        {
          "output_type": "stream",
          "text": [
            "[[   0. 1000.]\n",
            " [   1.    0.]]\n"
          ],
          "name": "stdout"
        }
      ]
    },
    {
      "cell_type": "code",
      "metadata": {
        "id": "vBygeGNeWw4F",
        "outputId": "0a510bab-4652-4429-8358-9128c5879a0d",
        "colab": {
          "base_uri": "https://localhost:8080/",
          "height": 357
        }
      },
      "source": [
        "np.random.seed(42)\n",
        "X1=multivariate_normal.rvs(size=100,mean=[0,7],cov=[[1,0.0],[0.0, 1]])\n",
        "X2=multivariate_normal.rvs(size=100,mean=[2,4],cov=[[2,0.0],[0.0, 1]])\n",
        "plt.scatter(X1[:,0],X1[:,1],color='blue')\n",
        "plt.scatter(X2[:,0],X2[:,1],color='red')\n",
        "X=np.vstack((X1,X2))\n",
        "t=np.vstack((np.ones(X1.shape[0]).reshape(-1,1),np.zeros(X2.shape[0]).reshape(-1,1)))\n",
        "\n",
        "lr=LogisticRegression()\n",
        "lr.fit(X,t)\n",
        "\n",
        "intercept_lr=lr.intercept_\n",
        "coeffs_lr=lr.coef_[0]\n",
        "\n",
        "x=np.linspace(-3.0,10.0,100)\n",
        "y=np.linspace(-1.0,10.0,100)\n",
        "Xtoplot, Ytoplot = np.meshgrid(x,y)\n",
        "\n",
        "lr_probas=lr.predict_proba(np.c_[Xtoplot.ravel(), Ytoplot.ravel()])\n",
        "t_pred_aux=np.asarray(list(map(lambda pp: [Loss[1,0]*pp[1],Loss[0,1]*pp[0]],lr_probas)))\n",
        "t_pred=np.where(t_pred_aux[:,0]>=t_pred_aux[:,1],1.0,0.0).reshape(Xtoplot.shape)\n",
        "\n",
        "lr_boundary=-(intercept_lr+coeffs_lr[0]*x)/coeffs_lr[1]\n",
        "\n",
        "plt.plot(x,lr_boundary,color='green',label='Regresion Logistica sin Matriz de Perdida')\n",
        "plt.contour(Xtoplot,Ytoplot,t_pred,levels=[0.0,0.5,1.0],color='magenta',alpha=1.0)\n",
        "plt.xlim((-3,10))\n",
        "plt.ylim((-1,10))\n",
        "plt.legend(loc='lower left',framealpha=0.2)"
      ],
      "execution_count": 145,
      "outputs": [
        {
          "output_type": "stream",
          "text": [
            "/usr/local/lib/python3.6/dist-packages/sklearn/utils/validation.py:760: DataConversionWarning: A column-vector y was passed when a 1d array was expected. Please change the shape of y to (n_samples, ), for example using ravel().\n",
            "  y = column_or_1d(y, warn=True)\n",
            "/usr/local/lib/python3.6/dist-packages/ipykernel_launcher.py:26: UserWarning: The following kwargs were not used by contour: 'color'\n"
          ],
          "name": "stderr"
        },
        {
          "output_type": "execute_result",
          "data": {
            "text/plain": [
              "<matplotlib.legend.Legend at 0x7fefc6b42da0>"
            ]
          },
          "metadata": {
            "tags": []
          },
          "execution_count": 145
        },
        {
          "output_type": "display_data",
          "data": {
            "image/png": "[encoded data removed]",
            "text/plain": [
              "<Figure size 432x288 with 1 Axes>"
            ]
          },
          "metadata": {
            "tags": [],
            "needs_background": "light"
          }
        }
      ]
    },
    {
      "cell_type": "code",
      "metadata": {
        "id": "jPBgn8xsdhN_",
        "outputId": "257c11e9-0f9c-488d-e925-81c5149cc2c5",
        "colab": {
          "base_uri": "https://localhost:8080/",
          "height": 34
        }
      },
      "source": [
        "max(t_pred[:,0])"
      ],
      "execution_count": 139,
      "outputs": [
        {
          "output_type": "execute_result",
          "data": {
            "text/plain": [
              "1.0"
            ]
          },
          "metadata": {
            "tags": []
          },
          "execution_count": 139
        }
      ]
    },
    {
      "cell_type": "code",
      "metadata": {
        "id": "yvgGfrw8Z5TK",
        "outputId": "39bbfd0a-268d-4db8-80a6-032cd04fa07e",
        "colab": {
          "base_uri": "https://localhost:8080/",
          "height": 119
        }
      },
      "source": [
        "cf=confusion_matrix(t,lr.predict(X))\n",
        "print(cf)\n",
        "tn, fp, fn, tp = cf.ravel()\n",
        "print(\"Sensitividad (TPR/Recall):%8.3f\" % (tp/(tp+fn)))\n",
        "print(\"Especificidad:%8.3f\" % (tn/(tn+fp)))\n",
        "print(\"Precision:%8.3f\" % (tp/(tp+fp)))\n",
        "print(\"FPR:%8.3f\" % (fp/(tn+fp)))"
      ],
      "execution_count": 114,
      "outputs": [
        {
          "output_type": "stream",
          "text": [
            "[[96  4]\n",
            " [ 4 96]]\n",
            "Sensitividad (TPR/Recall):   0.960\n",
            "Especificidad:   0.960\n",
            "Precision:   0.960\n",
            "FPR:   0.040\n"
          ],
          "name": "stdout"
        }
      ]
    },
    {
      "cell_type": "code",
      "metadata": {
        "id": "D-8L1NsOZ9W1",
        "outputId": "a77fe5a0-bfca-4c63-b382-0b71223234c3",
        "colab": {
          "base_uri": "https://localhost:8080/",
          "height": 119
        }
      },
      "source": [
        "lr_probas=lr.predict_proba(X)\n",
        "t_pred_aux=np.asarray(list(map(lambda pp: [Loss[1,0]*pp[1],Loss[0,1]*pp[0]],lr_probas)))\n",
        "t_pred=np.where(t_pred_aux[:,0]>=t_pred_aux[:,1],1.0,0.0)\n",
        "cf=confusion_matrix(t,t_pred)\n",
        "print(cf)\n",
        "tn, fp, fn, tp = cf.ravel()\n",
        "print(\"Sensitividad (TPR/Recall):%8.3f\" % (tp/(tp+fn)))\n",
        "print(\"Especificidad:%8.3f\" % (tn/(tn+fp)))\n",
        "print(\"Precision:%8.3f\" % (tp/(tp+fp)))\n",
        "print(\"FPR:%8.3f\" % (fp/(tn+fp)))"
      ],
      "execution_count": 119,
      "outputs": [
        {
          "output_type": "stream",
          "text": [
            "[[100   0]\n",
            " [ 79  21]]\n",
            "Sensitividad (TPR/Recall):   0.210\n",
            "Especificidad:   1.000\n",
            "Precision:   1.000\n",
            "FPR:   0.000\n"
          ],
          "name": "stdout"
        }
      ]
    },
    {
      "cell_type": "markdown",
      "metadata": {
        "id": "ImXI4kcFXJYf"
      },
      "source": [
        "Otra opcion es, a la hora de entrenar, darle mas peso a una clase que a la otra. Esto se puede lograr con la opcion de `class_weight`. Corresponde a dar mas peso a un acierto que a otro, pero no da penalidades a distintos errores."
      ]
    },
    {
      "cell_type": "code",
      "metadata": {
        "id": "SN7skjX5XbnI",
        "outputId": "fcb94f04-d3cc-4b72-def5-01b1f72853b2",
        "colab": {
          "base_uri": "https://localhost:8080/",
          "height": 286
        }
      },
      "source": [
        "plt.scatter(X1[:,0],X1[:,1],color='blue')\n",
        "plt.scatter(X2[:,0],X2[:,1],color='red')\n",
        "\n",
        "lr=LogisticRegression(class_weight=[100,0])\n",
        "lr.fit(X,t[:,0])\n",
        "\n",
        "intercept_lr=lr.intercept_\n",
        "coeffs_lr=lr.coef_[0]\n",
        "\n",
        "x=np.linspace(-3.0,10.0,100)\n",
        "y=np.linspace(-1.0,10.0,100)\n",
        "\n",
        "lr_boundary=-(intercept_lr+coeffs_lr[0]*x)/coeffs_lr[1]\n",
        "\n",
        "plt.plot(x,lr_boundary,color='green',label='Regresion Logistica')\n",
        "#plt.contour(Xtoplot,Ytoplot,Z,levels=[-1.0,0.0,1.0],color='magenta',alpha=1.0)\n",
        "plt.xlim((-3,10))\n",
        "plt.ylim((-1,10))\n",
        "plt.legend(loc='lower left',framealpha=0.2)"
      ],
      "execution_count": 125,
      "outputs": [
        {
          "output_type": "execute_result",
          "data": {
            "text/plain": [
              "<matplotlib.legend.Legend at 0x7fefc760db70>"
            ]
          },
          "metadata": {
            "tags": []
          },
          "execution_count": 125
        },
        {
          "output_type": "display_data",
          "data": {
            "image/png": "[encoded data removed]",
            "text/plain": [
              "<Figure size 432x288 with 1 Axes>"
            ]
          },
          "metadata": {
            "tags": [],
            "needs_background": "light"
          }
        }
      ]
    },
    {
      "cell_type": "code",
      "metadata": {
        "id": "l69_IoJQbeC1"
      },
      "source": [
        ""
      ],
      "execution_count": null,
      "outputs": []
    }
  ]
}