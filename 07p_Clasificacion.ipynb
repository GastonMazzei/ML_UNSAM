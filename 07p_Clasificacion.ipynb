{
  "nbformat": 4,
  "nbformat_minor": 0,
  "metadata": {
    "colab": {
      "name": "07p_Clasificacion.ipynb",
      "provenance": [],
      "collapsed_sections": [
        "NR_k-irK5_D1",
        "MmWev-_qTEK8",
        "xWea29HBWC-Z"
      ]
    },
    "kernelspec": {
      "name": "python3",
      "display_name": "Python 3"
    }
  },
  "cells": [
    {
      "cell_type": "code",
      "metadata": {
        "id": "MGs9_54T5oeh",
        "colab_type": "code",
        "colab": {}
      },
      "source": [
        "import matplotlib\n",
        "import matplotlib.pyplot as plt\n",
        "from matplotlib.colors import ListedColormap\n",
        "cmap = matplotlib.cm.get_cmap('Spectral')\n",
        "import pandas as pd\n",
        "import numpy as np\n",
        "\n",
        "from sklearn.pipeline import Pipeline\n",
        "from sklearn.preprocessing import StandardScaler\n",
        "\n",
        "from sklearn.discriminant_analysis import LinearDiscriminantAnalysis\n",
        "from sklearn.linear_model import Perceptron, LogisticRegression\n",
        "from sklearn.metrics import confusion_matrix"
      ],
      "execution_count": null,
      "outputs": []
    },
    {
      "cell_type": "markdown",
      "metadata": {
        "id": "NR_k-irK5_D1",
        "colab_type": "text"
      },
      "source": [
        "# Clasificacion\n",
        "\n",
        "Vamos a hacer una introduccion a problemas de clasificacion adelantandonos nuevamente. Veamos como seria resolver un problema de clasificacion ingenuo con ayuda de sklearn en datos reales."
      ]
    },
    {
      "cell_type": "markdown",
      "metadata": {
        "id": "U1vpGO_w_Ul1",
        "colab_type": "text"
      },
      "source": [
        "# El problema:\n",
        "\n",
        "En esta cuarentena, estoy muy metido en la NBA. Con mi grupo de adictos, empezamos a charlar para matar el tiempo y me surgio una pregunta. ~Puedo hablar de basquet en vez de trabajar?~ Puedo mentir con seguridad sobre las estadisticas que leo en los articulos?\n",
        "\n",
        "Para eso, me puse a explorar un poco. En primer lugar, necesito datos. Para eso, recurro a una pagina llamada basketballreference.com donde se almacenan todos los datos posibles. Para hacer las cosas mas simples, me voy a limitar a una unica temporada, en la que los roles posicionales son mas o menos los mismos en la liga (salvo en Houston) y no tengo jugadores repetidos (salvo los que fueron transferidos, pero ahora mismo no me interesa ser demasiado cauto en el procesado)."
      ]
    },
    {
      "cell_type": "code",
      "metadata": {
        "id": "qbPWuJSJ6hnV",
        "colab_type": "code",
        "colab": {}
      },
      "source": [
        "from urllib.request import urlopen\n",
        "from bs4 import BeautifulSoup"
      ],
      "execution_count": null,
      "outputs": []
    },
    {
      "cell_type": "code",
      "metadata": {
        "id": "-xyf7cjI9m_q",
        "colab_type": "code",
        "colab": {}
      },
      "source": [
        "BeautifulSoup?"
      ],
      "execution_count": null,
      "outputs": []
    },
    {
      "cell_type": "code",
      "metadata": {
        "id": "jg115KYe6yxo",
        "colab_type": "code",
        "colab": {}
      },
      "source": [
        "url = \"https://www.basketball-reference.com/leagues/NBA_{}_advanced.html\".format(2016)# this is the HTML from the given URL\n",
        "html = urlopen(url)\n",
        "soup = BeautifulSoup(html)"
      ],
      "execution_count": null,
      "outputs": []
    },
    {
      "cell_type": "code",
      "metadata": {
        "id": "UOnwq08d9Zae",
        "colab_type": "code",
        "colab": {}
      },
      "source": [
        "soup.findAll('tr', limit=2)# use getText()to extract the text we need into a list\n",
        "headers = [th.getText() for th in soup.findAll('tr', limit=2)[0].findAll('th')]# exclude the first column as we will not need the ranking order from Basketball Reference for the analysis"
      ],
      "execution_count": null,
      "outputs": []
    },
    {
      "cell_type": "code",
      "metadata": {
        "id": "TMDLxLDW9grs",
        "colab_type": "code",
        "colab": {}
      },
      "source": [
        "headers = headers[1:]\n",
        "rows = soup.findAll('tr')[1:]\n",
        "player_stats = [[td.getText() for td in rows[i].findAll('td')] for i in range(len(rows))]\n",
        "stats = pd.DataFrame(player_stats, columns = headers)\n",
        "stats=stats.drop('\\xa0',axis=1)"
      ],
      "execution_count": null,
      "outputs": []
    },
    {
      "cell_type": "code",
      "metadata": {
        "id": "f2SoKk1Ml2Py",
        "colab_type": "code",
        "colab": {
          "base_uri": "https://localhost:8080/",
          "height": 589
        },
        "outputId": "fa954fc8-1cbf-4844-c49c-fb5771c1ace6"
      },
      "source": [
        "stats.info()"
      ],
      "execution_count": null,
      "outputs": [
        {
          "output_type": "stream",
          "text": [
            "<class 'pandas.core.frame.DataFrame'>\n",
            "RangeIndex: 601 entries, 0 to 600\n",
            "Data columns (total 26 columns):\n",
            " #   Column  Non-Null Count  Dtype \n",
            "---  ------  --------------  ----- \n",
            " 0   Player  578 non-null    object\n",
            " 1   Pos     578 non-null    object\n",
            " 2   Age     578 non-null    object\n",
            " 3   Tm      578 non-null    object\n",
            " 4   G       578 non-null    object\n",
            " 5   MP      578 non-null    object\n",
            " 6   PER     578 non-null    object\n",
            " 7   TS%     578 non-null    object\n",
            " 8   3PAr    578 non-null    object\n",
            " 9   FTr     578 non-null    object\n",
            " 10  ORB%    578 non-null    object\n",
            " 11  DRB%    578 non-null    object\n",
            " 12  TRB%    578 non-null    object\n",
            " 13  AST%    578 non-null    object\n",
            " 14  STL%    578 non-null    object\n",
            " 15  BLK%    578 non-null    object\n",
            " 16  TOV%    578 non-null    object\n",
            " 17  USG%    578 non-null    object\n",
            " 18  OWS     578 non-null    object\n",
            " 19  DWS     578 non-null    object\n",
            " 20  WS      578 non-null    object\n",
            " 21  WS/48   578 non-null    object\n",
            " 22  OBPM    578 non-null    object\n",
            " 23  DBPM    578 non-null    object\n",
            " 24  BPM     578 non-null    object\n",
            " 25  VORP    578 non-null    object\n",
            "dtypes: object(26)\n",
            "memory usage: 122.2+ KB\n"
          ],
          "name": "stdout"
        }
      ]
    },
    {
      "cell_type": "code",
      "metadata": {
        "id": "1m4oZ9yM958c",
        "colab_type": "code",
        "colab": {
          "base_uri": "https://localhost:8080/",
          "height": 309
        },
        "outputId": "95352f96-693e-4c1d-98b8-ee8bd4aae344"
      },
      "source": [
        "stats.head()"
      ],
      "execution_count": null,
      "outputs": [
        {
          "output_type": "execute_result",
          "data": {
            "text/html": [
              "<div>\n",
              "<style scoped>\n",
              "    .dataframe tbody tr th:only-of-type {\n",
              "        vertical-align: middle;\n",
              "    }\n",
              "\n",
              "    .dataframe tbody tr th {\n",
              "        vertical-align: top;\n",
              "    }\n",
              "\n",
              "    .dataframe thead th {\n",
              "        text-align: right;\n",
              "    }\n",
              "</style>\n",
              "<table border=\"1\" class=\"dataframe\">\n",
              "  <thead>\n",
              "    <tr style=\"text-align: right;\">\n",
              "      <th></th>\n",
              "      <th>Player</th>\n",
              "      <th>Pos</th>\n",
              "      <th>Age</th>\n",
              "      <th>Tm</th>\n",
              "      <th>G</th>\n",
              "      <th>MP</th>\n",
              "      <th>PER</th>\n",
              "      <th>TS%</th>\n",
              "      <th>3PAr</th>\n",
              "      <th>FTr</th>\n",
              "      <th>ORB%</th>\n",
              "      <th>DRB%</th>\n",
              "      <th>TRB%</th>\n",
              "      <th>AST%</th>\n",
              "      <th>STL%</th>\n",
              "      <th>BLK%</th>\n",
              "      <th>TOV%</th>\n",
              "      <th>USG%</th>\n",
              "      <th>OWS</th>\n",
              "      <th>DWS</th>\n",
              "      <th>WS</th>\n",
              "      <th>WS/48</th>\n",
              "      <th>OBPM</th>\n",
              "      <th>DBPM</th>\n",
              "      <th>BPM</th>\n",
              "      <th>VORP</th>\n",
              "    </tr>\n",
              "  </thead>\n",
              "  <tbody>\n",
              "    <tr>\n",
              "      <th>0</th>\n",
              "      <td>Quincy Acy</td>\n",
              "      <td>PF</td>\n",
              "      <td>25</td>\n",
              "      <td>SAC</td>\n",
              "      <td>59</td>\n",
              "      <td>876</td>\n",
              "      <td>14.7</td>\n",
              "      <td>.629</td>\n",
              "      <td>.229</td>\n",
              "      <td>.318</td>\n",
              "      <td>8.1</td>\n",
              "      <td>15.1</td>\n",
              "      <td>11.6</td>\n",
              "      <td>4.4</td>\n",
              "      <td>1.6</td>\n",
              "      <td>2.2</td>\n",
              "      <td>10.0</td>\n",
              "      <td>13.1</td>\n",
              "      <td>1.8</td>\n",
              "      <td>0.7</td>\n",
              "      <td>2.5</td>\n",
              "      <td>.137</td>\n",
              "      <td>-0.2</td>\n",
              "      <td>0.2</td>\n",
              "      <td>-0.1</td>\n",
              "      <td>0.4</td>\n",
              "    </tr>\n",
              "    <tr>\n",
              "      <th>1</th>\n",
              "      <td>Jordan Adams</td>\n",
              "      <td>SG</td>\n",
              "      <td>21</td>\n",
              "      <td>MEM</td>\n",
              "      <td>2</td>\n",
              "      <td>15</td>\n",
              "      <td>17.3</td>\n",
              "      <td>.427</td>\n",
              "      <td>.167</td>\n",
              "      <td>.833</td>\n",
              "      <td>0.0</td>\n",
              "      <td>15.9</td>\n",
              "      <td>7.6</td>\n",
              "      <td>31.9</td>\n",
              "      <td>10.3</td>\n",
              "      <td>0.0</td>\n",
              "      <td>19.6</td>\n",
              "      <td>30.5</td>\n",
              "      <td>0.0</td>\n",
              "      <td>0.0</td>\n",
              "      <td>0.0</td>\n",
              "      <td>.015</td>\n",
              "      <td>-2.5</td>\n",
              "      <td>9.4</td>\n",
              "      <td>6.9</td>\n",
              "      <td>0.0</td>\n",
              "    </tr>\n",
              "    <tr>\n",
              "      <th>2</th>\n",
              "      <td>Steven Adams</td>\n",
              "      <td>C</td>\n",
              "      <td>22</td>\n",
              "      <td>OKC</td>\n",
              "      <td>80</td>\n",
              "      <td>2014</td>\n",
              "      <td>15.5</td>\n",
              "      <td>.621</td>\n",
              "      <td>.000</td>\n",
              "      <td>.460</td>\n",
              "      <td>12.5</td>\n",
              "      <td>16.1</td>\n",
              "      <td>14.4</td>\n",
              "      <td>4.3</td>\n",
              "      <td>1.0</td>\n",
              "      <td>3.3</td>\n",
              "      <td>14.1</td>\n",
              "      <td>12.6</td>\n",
              "      <td>4.2</td>\n",
              "      <td>2.3</td>\n",
              "      <td>6.5</td>\n",
              "      <td>.155</td>\n",
              "      <td>0.0</td>\n",
              "      <td>0.2</td>\n",
              "      <td>0.2</td>\n",
              "      <td>1.1</td>\n",
              "    </tr>\n",
              "    <tr>\n",
              "      <th>3</th>\n",
              "      <td>Arron Afflalo</td>\n",
              "      <td>SG</td>\n",
              "      <td>30</td>\n",
              "      <td>NYK</td>\n",
              "      <td>71</td>\n",
              "      <td>2371</td>\n",
              "      <td>10.9</td>\n",
              "      <td>.531</td>\n",
              "      <td>.298</td>\n",
              "      <td>.164</td>\n",
              "      <td>1.1</td>\n",
              "      <td>11.0</td>\n",
              "      <td>6.1</td>\n",
              "      <td>9.9</td>\n",
              "      <td>0.5</td>\n",
              "      <td>0.3</td>\n",
              "      <td>8.7</td>\n",
              "      <td>17.9</td>\n",
              "      <td>1.8</td>\n",
              "      <td>0.9</td>\n",
              "      <td>2.7</td>\n",
              "      <td>.055</td>\n",
              "      <td>-1.3</td>\n",
              "      <td>-1.6</td>\n",
              "      <td>-2.9</td>\n",
              "      <td>-0.5</td>\n",
              "    </tr>\n",
              "    <tr>\n",
              "      <th>4</th>\n",
              "      <td>Alexis Ajinça</td>\n",
              "      <td>C</td>\n",
              "      <td>27</td>\n",
              "      <td>NOP</td>\n",
              "      <td>59</td>\n",
              "      <td>861</td>\n",
              "      <td>13.8</td>\n",
              "      <td>.514</td>\n",
              "      <td>.003</td>\n",
              "      <td>.197</td>\n",
              "      <td>9.3</td>\n",
              "      <td>25.9</td>\n",
              "      <td>17.3</td>\n",
              "      <td>5.8</td>\n",
              "      <td>1.1</td>\n",
              "      <td>3.4</td>\n",
              "      <td>13.6</td>\n",
              "      <td>20.4</td>\n",
              "      <td>0.2</td>\n",
              "      <td>0.9</td>\n",
              "      <td>1.0</td>\n",
              "      <td>.058</td>\n",
              "      <td>-3.4</td>\n",
              "      <td>-0.6</td>\n",
              "      <td>-4.0</td>\n",
              "      <td>-0.4</td>\n",
              "    </tr>\n",
              "  </tbody>\n",
              "</table>\n",
              "</div>"
            ],
            "text/plain": [
              "          Player Pos Age   Tm   G    MP  ...   WS WS/48  OBPM  DBPM   BPM  VORP\n",
              "0     Quincy Acy  PF  25  SAC  59   876  ...  2.5  .137  -0.2   0.2  -0.1   0.4\n",
              "1   Jordan Adams  SG  21  MEM   2    15  ...  0.0  .015  -2.5   9.4   6.9   0.0\n",
              "2   Steven Adams   C  22  OKC  80  2014  ...  6.5  .155   0.0   0.2   0.2   1.1\n",
              "3  Arron Afflalo  SG  30  NYK  71  2371  ...  2.7  .055  -1.3  -1.6  -2.9  -0.5\n",
              "4  Alexis Ajinça   C  27  NOP  59   861  ...  1.0  .058  -3.4  -0.6  -4.0  -0.4\n",
              "\n",
              "[5 rows x 26 columns]"
            ]
          },
          "metadata": {
            "tags": []
          },
          "execution_count": 7
        }
      ]
    },
    {
      "cell_type": "code",
      "metadata": {
        "id": "7bPzGq6jW9y4",
        "colab_type": "code",
        "colab": {
          "base_uri": "https://localhost:8080/",
          "height": 901
        },
        "outputId": "4269b609-679b-4134-d681-c211f067d2fd"
      },
      "source": [
        "stats[stats['Tm']=='TOT']['Player']"
      ],
      "execution_count": null,
      "outputs": [
        {
          "output_type": "execute_result",
          "data": {
            "text/plain": [
              "12       Chris Andersen\n",
              "29        D.J. Augustin\n",
              "73       Chase Budinger\n",
              "93       Mario Chalmers\n",
              "107        Bryce Cotton\n",
              "117    Jared Cunningham\n",
              "148         James Ennis\n",
              "163          Randy Foye\n",
              "166         Tim Frazier\n",
              "169     Jimmer Fredette\n",
              "172       Channing Frye\n",
              "197         Erick Green\n",
              "202          Jeff Green\n",
              "207       P.J. Hairston\n",
              "221       Tobias Harris\n",
              "233        J.J. Hickson\n",
              "241        Kirk Hinrich\n",
              "246      Justin Holiday\n",
              "249        Ryan Hollins\n",
              "259      Kris Humphries\n",
              "266      Ersan İlyasova\n",
              "279        John Jenkins\n",
              "282    Brandon Jennings\n",
              "289         Joe Johnson\n",
              "292     Orlando Johnson\n",
              "313     Sean Kilpatrick\n",
              "324           Ty Lawson\n",
              "327        Courtney Lee\n",
              "331           David Lee\n",
              "347        Shelvin Mack\n",
              "356        Kevin Martin\n",
              "363        Ray McCallum\n",
              "374        Jordan McRae\n",
              "384        Andre Miller\n",
              "398     Markieff Morris\n",
              "418         Steve Novak\n",
              "454        Phil Pressey\n",
              "467       Brian Roberts\n",
              "483      JaKarr Sampson\n",
              "500           Ish Smith\n",
              "505          Josh Smith\n",
              "513    Lance Stephenson\n",
              "516      Alex Stepheson\n",
              "519      Jarnell Stokes\n",
              "534      Jason Thompson\n",
              "539     Marcus Thornton\n",
              "548          Beno Udrih\n",
              "552    Anderson Varejão\n",
              "568       Briante Weber\n",
              "571         Sonny Weems\n",
              "Name: Player, dtype: object"
            ]
          },
          "metadata": {
            "tags": []
          },
          "execution_count": 9
        }
      ]
    },
    {
      "cell_type": "markdown",
      "metadata": {
        "id": "7dQPVsTuiWPf",
        "colab_type": "text"
      },
      "source": [
        "En particular, todo a partir de OWS son estadisticas que me hablan de \"cuan bueno es un jugador\", y estan obtenidas con ciertas combinaciones de las previas."
      ]
    },
    {
      "cell_type": "markdown",
      "metadata": {
        "id": "Lm471WZNU880",
        "colab_type": "text"
      },
      "source": [
        "En particular, yo me quiero plantear el siguiente problema. Que tan bien tienen que jugar los jugadores para clasificar a Playoffs? "
      ]
    },
    {
      "cell_type": "code",
      "metadata": {
        "id": "GAWxwgbeWYVz",
        "colab_type": "code",
        "colab": {}
      },
      "source": [
        "teams=stats['Tm'].unique()\n",
        "teams"
      ],
      "execution_count": null,
      "outputs": []
    },
    {
      "cell_type": "code",
      "metadata": {
        "id": "m3GQbtGim5B4",
        "colab_type": "code",
        "colab": {
          "base_uri": "https://localhost:8080/",
          "height": 156
        },
        "outputId": "93551106-caab-473c-e1c3-9563c064934a"
      },
      "source": [
        "stats['G'].unique()"
      ],
      "execution_count": null,
      "outputs": [
        {
          "output_type": "execute_result",
          "data": {
            "text/plain": [
              "array(['59', '2', '80', '71', '60', '74', '8', '79', '64', '82', '29',\n",
              "       '27', '7', '20', '13', '51', '55', '78', '66', None, '72', '19',\n",
              "       '5', '81', '70', '68', '62', '34', '28', '17', '47', '18', '46',\n",
              "       '76', '52', '75', '39', '58', '31', '30', '53', '69', '49', '37',\n",
              "       '67', '6', '77', '26', '54', '61', '1', '3', '45', '56', '24',\n",
              "       '65', '73', '44', '40', '4', '43', '14', '12', '22', '10', '9',\n",
              "       '25', '35', '16', '38', '57', '48', '11', '21', '15', '32', '36',\n",
              "       '23', '50', '41', '42', '63', '33'], dtype=object)"
            ]
          },
          "metadata": {
            "tags": []
          },
          "execution_count": 11
        }
      ]
    },
    {
      "cell_type": "code",
      "metadata": {
        "id": "l9QFsgHkWQsd",
        "colab_type": "code",
        "colab": {
          "base_uri": "https://localhost:8080/",
          "height": 87
        },
        "outputId": "3cc14b7c-b906-496c-f8ba-e3059c1a1809"
      },
      "source": [
        "no_playoff_west=np.asarray(['SAC','DEN','LAL','MIN','PHO','UTA','NOP'])\n",
        "print(len(no_playoff_west))\n",
        "playoff_west=np.asarray(['GSW','SAS','OKC','LAC','POR','DAL','MEM','HOU'])\n",
        "print(len(playoff_west))\n",
        "\n",
        "no_playoff_east=np.asarray(['CHI','WAS','ORL','MIL','NYK','BRK','PHI'])\n",
        "print(len(no_playoff_east))\n",
        "playoff_east=np.asarray(['CLE','TOR','MIA','ATL','BOS','CHO','IND','DET'])\n",
        "print(len(playoff_east))"
      ],
      "execution_count": null,
      "outputs": [
        {
          "output_type": "stream",
          "text": [
            "7\n",
            "8\n",
            "7\n",
            "8\n"
          ],
          "name": "stdout"
        }
      ]
    },
    {
      "cell_type": "code",
      "metadata": {
        "id": "zVqHfn2oAb8a",
        "colab_type": "code",
        "colab": {
          "base_uri": "https://localhost:8080/",
          "height": 156
        },
        "outputId": "78e3db6c-0785-4a98-e9b6-ea4df7522a60"
      },
      "source": [
        "stats['Pos'].value_counts()"
      ],
      "execution_count": null,
      "outputs": [
        {
          "output_type": "execute_result",
          "data": {
            "text/plain": [
              "PG       129\n",
              "PF       122\n",
              "SG       116\n",
              "SF       105\n",
              "C        104\n",
              "PF-C       1\n",
              "SG-SF      1\n",
              "Name: Pos, dtype: int64"
            ]
          },
          "metadata": {
            "tags": []
          },
          "execution_count": 13
        }
      ]
    },
    {
      "cell_type": "markdown",
      "metadata": {
        "id": "Jxee2t6hAC89",
        "colab_type": "text"
      },
      "source": [
        "# El procesado\n",
        "\n",
        "En principio, yo tengo mi dataframe y ahora lo unico que voy a hacer es separar en Train y Test y luego asignarles las clases. En particular, voy considerar jugadores que jugaron cierta cantidad de los partidos al menos cierta cantidad de minutos y que participaron mucho del partido."
      ]
    },
    {
      "cell_type": "code",
      "metadata": {
        "id": "8HvR0ZRGoshn",
        "colab_type": "code",
        "colab": {
          "base_uri": "https://localhost:8080/",
          "height": 52
        },
        "outputId": "b9844780-26d1-4462-dfc9-d48f0d0f4f6f"
      },
      "source": [
        "stats_now=stats.copy()\n",
        "print(len(stats_now)-sum(stats_now['Pos'].isnull()))\n",
        "print(np.sum(stats_now['Pos'].isin(['SG','PF','PG','C','SF'])))"
      ],
      "execution_count": null,
      "outputs": [
        {
          "output_type": "stream",
          "text": [
            "578\n",
            "576\n"
          ],
          "name": "stdout"
        }
      ]
    },
    {
      "cell_type": "code",
      "metadata": {
        "id": "ruTCss2k-37Y",
        "colab_type": "code",
        "colab": {}
      },
      "source": [
        "stats_now=stats.copy()\n",
        "stats_now=stats_now[stats_now['Pos'].isin(['SG','PF','PG','C','SF'])]\n",
        "stats_now[\"G\"]=pd.to_numeric(stats_now[\"G\"])\n",
        "stats_now[\"MP\"]=pd.to_numeric(stats_now[\"MP\"])\n",
        "stats_now[\"USG%\"]=pd.to_numeric(stats_now[\"USG%\"])\n",
        "stats_now=stats_now[stats_now[\"USG%\"]>stats_now[\"USG%\"].mean()]\n",
        "stats_now[\"MPperG\"]=stats_now[\"MP\"]/stats_now[\"G\"]\n",
        "stats_now=stats_now[stats_now[\"G\"]>=20]\n",
        "stats_now=stats_now[stats_now[\"MPperG\"]>=25]\n",
        "stats_now=stats_now[stats_now[\"Tm\"]!=\"TOT\"]"
      ],
      "execution_count": null,
      "outputs": []
    },
    {
      "cell_type": "code",
      "metadata": {
        "id": "GBu5O4nGEyVP",
        "colab_type": "code",
        "colab": {
          "base_uri": "https://localhost:8080/",
          "height": 121
        },
        "outputId": "a89be51e-76d4-44f0-d196-630ad5c8c404"
      },
      "source": [
        "stats_now=stats_now.replace(['PG','SG','SF','PF','C'],[1,2,3,4,5])\n",
        "stats_now['Pos'].value_counts()"
      ],
      "execution_count": null,
      "outputs": [
        {
          "output_type": "execute_result",
          "data": {
            "text/plain": [
              "1    29\n",
              "2    26\n",
              "4    19\n",
              "3    19\n",
              "5    15\n",
              "Name: Pos, dtype: int64"
            ]
          },
          "metadata": {
            "tags": []
          },
          "execution_count": 32
        }
      ]
    },
    {
      "cell_type": "markdown",
      "metadata": {
        "id": "7znYxQfRdbnm",
        "colab_type": "text"
      },
      "source": [
        "Generemos los labels. Voy a aplicar el siguiente codigo:\n",
        "\n",
        "0: no playoff oeste\n",
        "1: playoff oeste\n",
        "2: no playoff este\n",
        "3: playoff este"
      ]
    },
    {
      "cell_type": "code",
      "metadata": {
        "id": "BWpbO1A-d5BS",
        "colab_type": "code",
        "colab": {
          "base_uri": "https://localhost:8080/",
          "height": 404
        },
        "outputId": "3653905b-cd8c-4b75-e56a-801d933befa5"
      },
      "source": [
        "stats_now['label']=stats_now[\"Tm\"]\n",
        "stats_now['label']=stats_now['label'].replace(no_playoff_west,0)\n",
        "stats_now['label']=stats_now['label'].replace(playoff_west,1)\n",
        "stats_now['label']=stats_now['label'].replace(no_playoff_east,2)\n",
        "stats_now['label']=stats_now['label'].replace(playoff_east,3)\n",
        "print(stats_now['label'].value_counts())\n",
        "plt.hist(stats_now['Tm'].value_counts())"
      ],
      "execution_count": null,
      "outputs": [
        {
          "output_type": "stream",
          "text": [
            "0    30\n",
            "2    28\n",
            "3    26\n",
            "1    24\n",
            "Name: label, dtype: int64\n"
          ],
          "name": "stdout"
        },
        {
          "output_type": "execute_result",
          "data": {
            "text/plain": [
              "(array([ 1.,  0.,  4.,  0., 10.,  0.,  7.,  0.,  7.,  1.]),\n",
              " array([1. , 1.5, 2. , 2.5, 3. , 3.5, 4. , 4.5, 5. , 5.5, 6. ]),\n",
              " <a list of 10 Patch objects>)"
            ]
          },
          "metadata": {
            "tags": []
          },
          "execution_count": 34
        },
        {
          "output_type": "display_data",
          "data": {
            "image/png": "[encoded data removed]",
            "text/plain": [
              "<Figure size 432x288 with 1 Axes>"
            ]
          },
          "metadata": {
            "tags": [],
            "needs_background": "light"
          }
        }
      ]
    },
    {
      "cell_type": "code",
      "metadata": {
        "id": "1pOz3M7xZ_EF",
        "colab_type": "code",
        "colab": {
          "base_uri": "https://localhost:8080/",
          "height": 624
        },
        "outputId": "7b9ac243-0268-4483-b0d2-0b3444788dd2"
      },
      "source": [
        "stats_now.info()"
      ],
      "execution_count": null,
      "outputs": [
        {
          "output_type": "stream",
          "text": [
            "<class 'pandas.core.frame.DataFrame'>\n",
            "Int64Index: 108 entries, 6 to 598\n",
            "Data columns (total 28 columns):\n",
            " #   Column  Non-Null Count  Dtype  \n",
            "---  ------  --------------  -----  \n",
            " 0   Player  108 non-null    object \n",
            " 1   Pos     108 non-null    int64  \n",
            " 2   Age     108 non-null    object \n",
            " 3   Tm      108 non-null    object \n",
            " 4   G       108 non-null    int64  \n",
            " 5   MP      108 non-null    int64  \n",
            " 6   PER     108 non-null    object \n",
            " 7   TS%     108 non-null    object \n",
            " 8   3PAr    108 non-null    object \n",
            " 9   FTr     108 non-null    object \n",
            " 10  ORB%    108 non-null    object \n",
            " 11  DRB%    108 non-null    object \n",
            " 12  TRB%    108 non-null    object \n",
            " 13  AST%    108 non-null    object \n",
            " 14  STL%    108 non-null    object \n",
            " 15  BLK%    108 non-null    object \n",
            " 16  TOV%    108 non-null    object \n",
            " 17  USG%    108 non-null    float64\n",
            " 18  OWS     108 non-null    object \n",
            " 19  DWS     108 non-null    object \n",
            " 20  WS      108 non-null    object \n",
            " 21  WS/48   108 non-null    object \n",
            " 22  OBPM    108 non-null    object \n",
            " 23  DBPM    108 non-null    object \n",
            " 24  BPM     108 non-null    object \n",
            " 25  VORP    108 non-null    object \n",
            " 26  MPperG  108 non-null    float64\n",
            " 27  label   108 non-null    int64  \n",
            "dtypes: float64(2), int64(4), object(22)\n",
            "memory usage: 24.5+ KB\n"
          ],
          "name": "stdout"
        }
      ]
    },
    {
      "cell_type": "markdown",
      "metadata": {
        "id": "WdC0OCh3apwC",
        "colab_type": "text"
      },
      "source": [
        "Bien, ahora definamos las caracteristicas que voy a utilizar. Para visualizar facilmente voy a elegir unicamente dos: PER y USG%. Guardo ademas el nombre, la posicion y el label."
      ]
    },
    {
      "cell_type": "code",
      "metadata": {
        "id": "yaKzOo7iapQX",
        "colab_type": "code",
        "colab": {}
      },
      "source": [
        "stats_now=stats_now[['Player','Pos','PER','USG%','label']]\n",
        "stats_now['PER']=pd.to_numeric(stats_now['PER'])\n",
        "stats_now['USG%']=pd.to_numeric(stats_now['USG%'])"
      ],
      "execution_count": null,
      "outputs": []
    },
    {
      "cell_type": "code",
      "metadata": {
        "id": "ldI41Gzeqfl2",
        "colab_type": "code",
        "colab": {
          "base_uri": "https://localhost:8080/",
          "height": 87
        },
        "outputId": "a12b5845-64a8-46cb-f424-989d3413f7d3"
      },
      "source": [
        "print(stats_now.iloc[np.where(stats_now[\"Player\"]==\"LeBron James\")])\n",
        "print(stats_now.iloc[np.where(stats_now[\"Player\"]==\"Will Barton\")])"
      ],
      "execution_count": null,
      "outputs": [
        {
          "output_type": "stream",
          "text": [
            "           Player  Pos   PER  USG%  label\n",
            "275  LeBron James    3  27.5  31.4      3\n",
            "         Player  Pos   PER  USG%  label\n",
            "40  Will Barton    2  16.0  23.0      0\n"
          ],
          "name": "stdout"
        }
      ]
    },
    {
      "cell_type": "markdown",
      "metadata": {
        "id": "ETnfPfXtUvZQ",
        "colab_type": "text"
      },
      "source": [
        "Veamos si hay jugadores repetidos:"
      ]
    },
    {
      "cell_type": "code",
      "metadata": {
        "id": "USICzbaRAqPV",
        "colab_type": "code",
        "colab": {
          "base_uri": "https://localhost:8080/",
          "height": 525
        },
        "outputId": "3d78d61e-dd3f-4929-c1ea-df6cd63e1d48"
      },
      "source": [
        "print(stats_now['Player'].value_counts())\n",
        "plt.hist(stats_now['Player'].value_counts())"
      ],
      "execution_count": null,
      "outputs": [
        {
          "output_type": "stream",
          "text": [
            "Tobias Harris      2\n",
            "Jeff Green         2\n",
            "Gordon Hayward     1\n",
            "Derrick Favors     1\n",
            "Bradley Beal       1\n",
            "                  ..\n",
            "Markieff Morris    1\n",
            "John Wall          1\n",
            "Shelvin Mack       1\n",
            "Isaiah Thomas      1\n",
            "Kawhi Leonard      1\n",
            "Name: Player, Length: 106, dtype: int64\n"
          ],
          "name": "stdout"
        },
        {
          "output_type": "execute_result",
          "data": {
            "text/plain": [
              "(array([104.,   0.,   0.,   0.,   0.,   0.,   0.,   0.,   0.,   2.]),\n",
              " array([1. , 1.1, 1.2, 1.3, 1.4, 1.5, 1.6, 1.7, 1.8, 1.9, 2. ]),\n",
              " <a list of 10 Patch objects>)"
            ]
          },
          "metadata": {
            "tags": []
          },
          "execution_count": 38
        },
        {
          "output_type": "display_data",
          "data": {
            "image/png": "[encoded data removed]",
            "text/plain": [
              "<Figure size 432x288 with 1 Axes>"
            ]
          },
          "metadata": {
            "tags": [],
            "needs_background": "light"
          }
        }
      ]
    },
    {
      "cell_type": "markdown",
      "metadata": {
        "id": "lL0wBLSTUzHf",
        "colab_type": "text"
      },
      "source": [
        "Los hay pero son pocos por lo que no me voy a gastar en corregirlo.\n"
      ]
    },
    {
      "cell_type": "markdown",
      "metadata": {
        "id": "8XZ4SKpalD2r",
        "colab_type": "text"
      },
      "source": [
        "Dividamos en train y test. Como cada posicion es un mundo, voy a estratificar para que train y test tengan mismas proporciones de cada posicio\n",
        "\n"
      ]
    },
    {
      "cell_type": "code",
      "metadata": {
        "id": "K2128Xh5BViN",
        "colab_type": "code",
        "colab": {}
      },
      "source": [
        "from sklearn.model_selection import StratifiedShuffleSplit\n",
        "split = StratifiedShuffleSplit(n_splits=1, test_size=0.2, random_state=445543)\n",
        "for train_index, test_index in split.split(stats_now, stats_now[\"Pos\"]):\n",
        "    strat_train_set = stats_now.iloc[train_index]\n",
        "    strat_test_set = stats_now.iloc[test_index]"
      ],
      "execution_count": null,
      "outputs": []
    },
    {
      "cell_type": "code",
      "metadata": {
        "id": "Db0ehNgVC0JI",
        "colab_type": "code",
        "colab": {}
      },
      "source": [
        "stats_train = strat_train_set.drop([\"Player\",\"Pos\",\"label\"], axis=1) # drop labels for training set\n",
        "stats_train_labels = strat_train_set[\"label\"].copy()\n",
        "stats_test = strat_test_set.drop([\"Player\",\"Pos\",\"label\"], axis=1) # drop labels for training set\n",
        "stats_test_labels = strat_test_set[\"label\"].copy()\n"
      ],
      "execution_count": null,
      "outputs": []
    },
    {
      "cell_type": "markdown",
      "metadata": {
        "id": "lICJfuGkVE-_",
        "colab_type": "text"
      },
      "source": [
        "Veamos cuantos datos tengo para clasificar:"
      ]
    },
    {
      "cell_type": "code",
      "metadata": {
        "id": "fTGq55HYgBkf",
        "colab_type": "code",
        "colab": {
          "base_uri": "https://localhost:8080/",
          "height": 35
        },
        "outputId": "609a1c25-bb08-479c-ea59-96903651f65f"
      },
      "source": [
        "print(len(stats_train))"
      ],
      "execution_count": null,
      "outputs": [
        {
          "output_type": "stream",
          "text": [
            "86\n"
          ],
          "name": "stdout"
        }
      ]
    },
    {
      "cell_type": "code",
      "metadata": {
        "id": "5r2d8ZbtiU1Z",
        "colab_type": "code",
        "colab": {
          "base_uri": "https://localhost:8080/",
          "height": 1000
        },
        "outputId": "03e84ced-ab43-4ef7-d789-556a9ce27db3"
      },
      "source": [
        "plt.hist(stats_train['PER'],bins=10)\n",
        "plt.xlabel(r'PER')\n",
        "plt.show()\n",
        "plt.hist(stats_train['USG%'],bins=10)\n",
        "plt.xlabel(r'USG%')\n",
        "plt.show()\n",
        "plt.scatter(stats_train['PER'][stats_train_labels==0],stats_train['USG%'][stats_train_labels==0], c='red', label=\"No Playoff Oeste\")\n",
        "plt.scatter(stats_train['PER'][stats_train_labels==1],stats_train['USG%'][stats_train_labels==1], c='blue', label=\"Playoff Oeste\")\n",
        "plt.legend(loc='upper left',framealpha =0.1)\n",
        "plt.xlim(9.0,31.0)\n",
        "plt.ylim(15.0,35.0)\n",
        "plt.xlabel(r'PER')\n",
        "plt.ylabel('USG%')\n",
        "plt.show()\n",
        "plt.scatter(stats_train['PER'][stats_train_labels==2],stats_train['USG%'][stats_train_labels==2], c='orange', label=\"No Playoff Este\")\n",
        "plt.scatter(stats_train['PER'][stats_train_labels==3],stats_train['USG%'][stats_train_labels==3], c='green', label=\"Playoff Este\")\n",
        "plt.legend(loc='upper left',framealpha =0.1)\n",
        "plt.xlabel(r'PER')\n",
        "plt.ylabel('USG%')\n",
        "plt.xlim(9.0,31.0)\n",
        "plt.ylim(15.0,35.0)"
      ],
      "execution_count": null,
      "outputs": [
        {
          "output_type": "display_data",
          "data": {
            "image/png": "[encoded data removed]",
            "text/plain": [
              "<Figure size 432x288 with 1 Axes>"
            ]
          },
          "metadata": {
            "tags": [],
            "needs_background": "light"
          }
        },
        {
          "output_type": "display_data",
          "data": {
            "image/png": "[encoded data removed]",
            "text/plain": [
              "<Figure size 432x288 with 1 Axes>"
            ]
          },
          "metadata": {
            "tags": [],
            "needs_background": "light"
          }
        },
        {
          "output_type": "display_data",
          "data": {
            "image/png": "[encoded data removed]",
            "text/plain": [
              "<Figure size 432x288 with 1 Axes>"
            ]
          },
          "metadata": {
            "tags": [],
            "needs_background": "light"
          }
        },
        {
          "output_type": "execute_result",
          "data": {
            "text/plain": [
              "(15.0, 35.0)"
            ]
          },
          "metadata": {
            "tags": []
          },
          "execution_count": 42
        },
        {
          "output_type": "display_data",
          "data": {
            "image/png": "[encoded data removed]",
            "text/plain": [
              "<Figure size 432x288 with 1 Axes>"
            ]
          },
          "metadata": {
            "tags": [],
            "needs_background": "light"
          }
        }
      ]
    },
    {
      "cell_type": "markdown",
      "metadata": {
        "id": "Q9KJ_P2JtG96",
        "colab_type": "text"
      },
      "source": [
        "En el Oeste, esperaria tener muy pocos falsos positivos pero una gran cantidad de falsos negativos. En el Este pasa lo mismo pero menos pronunciado."
      ]
    },
    {
      "cell_type": "code",
      "metadata": {
        "id": "UhCM-NQrrVNP",
        "colab_type": "code",
        "colab": {
          "base_uri": "https://localhost:8080/",
          "height": 243
        },
        "outputId": "4e8c5f88-8c67-4170-f189-d0d9eb7ddb6f"
      },
      "source": [
        "print(strat_train_set[strat_train_set[\"PER\"]<12.0])\n",
        "print(strat_train_set[strat_train_set[\"PER\"]>25.0])"
      ],
      "execution_count": null,
      "outputs": [
        {
          "output_type": "stream",
          "text": [
            "               Player  Pos   PER  USG%  label\n",
            "101       Norris Cole    1  10.8  21.7      0\n",
            "58   Bojan Bogdanović    3  10.7  19.4      2\n",
            "85      Isaiah Canaan    2  11.1  19.9      2\n",
            "404   Emmanuel Mudiay    1   9.9  25.7      0\n",
            "                Player  Pos   PER  USG%  label\n",
            "438         Chris Paul    1  26.2  27.1      1\n",
            "213       James Harden    2  25.3  32.5      1\n",
            "575  Russell Westbrook    1  27.6  31.6      1\n",
            "275       LeBron James    3  27.5  31.4      3\n",
            "335      Kawhi Leonard    3  26.0  25.8      1\n",
            "143       Kevin Durant    3  28.2  30.6      1\n",
            "121      Stephen Curry    1  31.5  32.6      1\n"
          ],
          "name": "stdout"
        }
      ]
    },
    {
      "cell_type": "markdown",
      "metadata": {
        "id": "MWqUwnXPVsbz",
        "colab_type": "text"
      },
      "source": [
        "#Clasificacion"
      ]
    },
    {
      "cell_type": "markdown",
      "metadata": {
        "id": "z8MWf7Lhr2CR",
        "colab_type": "text"
      },
      "source": [
        "Entrenemos un clasificador, para Este y Oeste separados."
      ]
    },
    {
      "cell_type": "code",
      "metadata": {
        "id": "ICTEjXVYuZ1S",
        "colab_type": "code",
        "colab": {
          "base_uri": "https://localhost:8080/",
          "height": 87
        },
        "outputId": "0ca8dd02-0d32-4490-c218-11a33d327710"
      },
      "source": [
        "X_este=np.asarray(strat_train_set[(stats_train_labels==2) | (stats_train_labels==3)][[\"PER\",\"USG%\"]])\n",
        "print(X_este.shape)\n",
        "y_este=np.asarray(strat_train_set[(stats_train_labels==2) | (stats_train_labels==3)][[\"label\"]])\n",
        "y_este=np.where(y_este==2,0,1)[:,0]\n",
        "print(y_este.shape)\n",
        "\n",
        "X_oeste=np.asarray(strat_train_set[(stats_train_labels==0) | (stats_train_labels==1)][[\"PER\",\"USG%\"]])\n",
        "print(X_oeste.shape)\n",
        "y_oeste=np.asarray(strat_train_set[(stats_train_labels==0) | (stats_train_labels==1)][[\"label\"]])\n",
        "print(y_oeste.shape)"
      ],
      "execution_count": null,
      "outputs": [
        {
          "output_type": "stream",
          "text": [
            "(41, 2)\n",
            "(41,)\n",
            "(45, 2)\n",
            "(45, 1)\n"
          ],
          "name": "stdout"
        }
      ]
    },
    {
      "cell_type": "markdown",
      "metadata": {
        "id": "XLNHI2DRQi6f",
        "colab_type": "text"
      },
      "source": [
        "El primer algoritmo importante que vamos a ver es Discriminante Lineal de Fisher. El objetivo del algoritmo, que es ademas un ejemplo de reduccion dimensional, es encontrar las componentes que minimizen la varianza intraclase y maximizen la varianza entre clases.\n",
        "\n",
        "Para el caso de 2 clases, el discriminante lineal de fisher busca encontrar los coeficientes $w$ tales que la funcion discriminante es\n",
        "\n",
        "$y=w_{0}+\\vec{w}^{T}\\cdot \\vec{x}$\n",
        "\n",
        "Y la superficie de decision usual es $y=0$. $w_{0}$ es el `intercept_` y $\\vec{w}$ el vector de `coef_`.\n"
      ]
    },
    {
      "cell_type": "code",
      "metadata": {
        "id": "LcwgnwLAS0HT",
        "colab_type": "code",
        "colab": {
          "base_uri": "https://localhost:8080/",
          "height": 35
        },
        "outputId": "57faaa2d-d408-43fa-bde4-23efe05e234a"
      },
      "source": [
        "LDA_este=LinearDiscriminantAnalysis(solver='eigen')\n",
        "LDA_este.fit(X_este,y_este)\n",
        "print(LDA_este.intercept_,LDA_este.coef_)\n",
        "#LDA_este.intercept_+=-1.0"
      ],
      "execution_count": null,
      "outputs": [
        {
          "output_type": "stream",
          "text": [
            "[-3.56360439] [[0.10776742 0.05911706]]\n"
          ],
          "name": "stdout"
        }
      ]
    },
    {
      "cell_type": "markdown",
      "metadata": {
        "id": "H-SydSdETMMH",
        "colab_type": "text"
      },
      "source": [
        "Grafiquemos un poco los valores posibles"
      ]
    },
    {
      "cell_type": "code",
      "metadata": {
        "id": "Rjqu6YQeTQgj",
        "colab_type": "code",
        "colab": {
          "base_uri": "https://localhost:8080/",
          "height": 301
        },
        "outputId": "86d7bbd3-1953-4791-9563-6c14330004b0"
      },
      "source": [
        "x=np.linspace(9.0,31.0,100)\n",
        "y=np.linspace(15.0,35.0,100)\n",
        "Xtoplot,Ytoplot=np.meshgrid(x,y)\n",
        "plt.xlim(9.0,31.0)\n",
        "plt.ylim(15.0,35.0)\n",
        "Z=LDA_este.intercept_ + LDA_este.coef_[0,0]*Xtoplot+LDA_este.coef_[0,1]*Ytoplot\n",
        "plt.contourf(Xtoplot,Ytoplot,Z,levels=[-2.0,-1.0,0.0,1.0,2.0,2.5],alpha=0.6)\n",
        "plt.colorbar()\n",
        "plt.scatter(stats_train['PER'][stats_train_labels==2],stats_train['USG%'][stats_train_labels==2], c='orange', label=\"No Playoff Este\")\n",
        "plt.scatter(stats_train['PER'][stats_train_labels==3],stats_train['USG%'][stats_train_labels==3], c='green', label=\"Playoff Este\")\n",
        "plt.legend(loc='upper left',framealpha =0.1)\n",
        "plt.xlabel(r'PER')\n",
        "plt.ylabel('USG%')"
      ],
      "execution_count": null,
      "outputs": [
        {
          "output_type": "execute_result",
          "data": {
            "text/plain": [
              "Text(0, 0.5, 'USG%')"
            ]
          },
          "metadata": {
            "tags": []
          },
          "execution_count": 50
        },
        {
          "output_type": "display_data",
          "data": {
            "image/png": "[encoded data removed]",
            "text/plain": [
              "<Figure size 432x288 with 2 Axes>"
            ]
          },
          "metadata": {
            "tags": [],
            "needs_background": "light"
          }
        }
      ]
    },
    {
      "cell_type": "markdown",
      "metadata": {
        "id": "TQeNaFNUT-V-",
        "colab_type": "text"
      },
      "source": [
        "Otra manera de obtener la funcion de decision es usando... `decision_function`"
      ]
    },
    {
      "cell_type": "code",
      "metadata": {
        "id": "26W4vE4LUK4m",
        "colab_type": "code",
        "colab": {
          "base_uri": "https://localhost:8080/",
          "height": 301
        },
        "outputId": "399e16d8-029f-4d29-9a57-8b449286cf6f"
      },
      "source": [
        "x=np.linspace(9.0,31.0,100)\n",
        "y=np.linspace(15.0,35.0,100)\n",
        "Xtoplot,Ytoplot=np.meshgrid(x,y)\n",
        "plt.xlim(9.0,31.0)\n",
        "plt.ylim(15.0,35.0)\n",
        "Z=LDA_este.decision_function(np.c_[Xtoplot.ravel(), Ytoplot.ravel()]).reshape(Xtoplot.shape)\n",
        "plt.contourf(Xtoplot,Ytoplot,Z,levels=[-2.0,-1.0,0.0,1.0,2.0,2.5],alpha=0.6)\n",
        "plt.colorbar()\n",
        "plt.scatter(stats_train['PER'][stats_train_labels==2],stats_train['USG%'][stats_train_labels==2], c='orange', label=\"No Playoff Este\")\n",
        "plt.scatter(stats_train['PER'][stats_train_labels==3],stats_train['USG%'][stats_train_labels==3], c='green', label=\"Playoff Este\")\n",
        "plt.legend(loc='upper left',framealpha =0.1)\n",
        "plt.xlabel(r'PER')\n",
        "plt.ylabel('USG%')"
      ],
      "execution_count": null,
      "outputs": [
        {
          "output_type": "execute_result",
          "data": {
            "text/plain": [
              "Text(0, 0.5, 'USG%')"
            ]
          },
          "metadata": {
            "tags": []
          },
          "execution_count": 51
        },
        {
          "output_type": "display_data",
          "data": {
            "image/png": "[encoded data removed]",
            "text/plain": [
              "<Figure size 432x288 with 2 Axes>"
            ]
          },
          "metadata": {
            "tags": [],
            "needs_background": "light"
          }
        }
      ]
    },
    {
      "cell_type": "code",
      "metadata": {
        "id": "-NNaqYJTUT6U",
        "colab_type": "code",
        "colab": {
          "base_uri": "https://localhost:8080/",
          "height": 35
        },
        "outputId": "ac7a1a69-7ab3-48da-e910-b333c011a330"
      },
      "source": [
        "LDA_este.decision_function(X_este[0,:].reshape(1,-1))"
      ],
      "execution_count": null,
      "outputs": [
        {
          "output_type": "execute_result",
          "data": {
            "text/plain": [
              "array([-0.7063715])"
            ]
          },
          "metadata": {
            "tags": []
          },
          "execution_count": 48
        }
      ]
    },
    {
      "cell_type": "markdown",
      "metadata": {
        "id": "CGob1PHnU-GD",
        "colab_type": "text"
      },
      "source": [
        "Podemos asignar las clases utilizando la funcion de decision. sklearn nos lo provee con `predict` donde el umbral esta en $y=0$."
      ]
    },
    {
      "cell_type": "code",
      "metadata": {
        "id": "FDdmpQ0OVM8W",
        "colab_type": "code",
        "colab": {
          "base_uri": "https://localhost:8080/",
          "height": 301
        },
        "outputId": "3dc44df9-1b15-4bda-bd5e-a55c094631b1"
      },
      "source": [
        "x=np.linspace(9.0,31.0,100)\n",
        "y=np.linspace(15.0,35.0,100)\n",
        "Xtoplot,Ytoplot=np.meshgrid(x,y)\n",
        "plt.xlim(9.0,31.0)\n",
        "plt.ylim(15.0,35.0)\n",
        "Z=LDA_este.predict(np.c_[Xtoplot.ravel(), Ytoplot.ravel()]).reshape(Xtoplot.shape)\n",
        "plt.contourf(Xtoplot,Ytoplot,Z,levels=[0.0,0.5,1.0],colors=['orange','green'],alpha=0.6)\n",
        "plt.scatter(stats_train['PER'][stats_train_labels==2],stats_train['USG%'][stats_train_labels==2], c='orange', label=\"No Playoff Este\")\n",
        "plt.scatter(stats_train['PER'][stats_train_labels==3],stats_train['USG%'][stats_train_labels==3], c='green', label=\"Playoff Este\")\n",
        "plt.legend(loc='upper left',framealpha=0.1)\n",
        "plt.xlabel(r'PER')\n",
        "plt.ylabel('USG%')"
      ],
      "execution_count": null,
      "outputs": [
        {
          "output_type": "execute_result",
          "data": {
            "text/plain": [
              "Text(0, 0.5, 'USG%')"
            ]
          },
          "metadata": {
            "tags": []
          },
          "execution_count": 59
        },
        {
          "output_type": "display_data",
          "data": {
            "image/png": "[encoded data removed]",
            "text/plain": [
              "<Figure size 432x288 with 1 Axes>"
            ]
          },
          "metadata": {
            "tags": [],
            "needs_background": "light"
          }
        }
      ]
    },
    {
      "cell_type": "markdown",
      "metadata": {
        "id": "7gGNDW4ExQa7",
        "colab_type": "text"
      },
      "source": [
        "Si mi umbral esta ahora en $y=y_{1}$\n",
        "\n",
        "$y_{1}=w_{0}+w_{1}x_{1}+w_{2}x_{2}$\n",
        "\n",
        "$0=w_{0}-y_{1}+w_{1}x_{1}+w_{2}x_{2}$\n",
        "\n",
        "Redefino mi sesgo como $w_{0}-y_{1}$\n",
        "\n",
        "$0=w^{'}_{0}+w_{1}x_{1}+w_{2}x_{2}$\n"
      ]
    },
    {
      "cell_type": "markdown",
      "metadata": {
        "id": "5H8_GDa8VeQI",
        "colab_type": "text"
      },
      "source": [
        "Una vez asignamos las clases, podemos calcular matriz de confusion y con eso distintas metricas\n",
        "\n",
        "Matriz de confusion: Cada fila corresponde a una clase y cada columna corresponde a una asignacion."
      ]
    },
    {
      "cell_type": "code",
      "metadata": {
        "id": "1ODzpgxsVknQ",
        "colab_type": "code",
        "colab": {
          "base_uri": "https://localhost:8080/",
          "height": 121
        },
        "outputId": "68cefa3e-78ce-421e-a43a-d67baaf5ea5a"
      },
      "source": [
        "cf_este=confusion_matrix(y_este,LDA_este.predict(X_este))\n",
        "print(cf_este)\n",
        "tn, fp, fn, tp = cf_este.ravel()\n",
        "print(\"Sensitividad (TPR/Recall):%8.3f\" % (tp/(tp+fn)))\n",
        "print(\"Especificidad:%8.3f\" % (tn/(tn+fp)))\n",
        "print(\"Precision:%8.3f\" % (tp/(tp+fp)))\n",
        "print(\"FPR:%8.3f\" % (fp/(tn+fp)))"
      ],
      "execution_count": null,
      "outputs": [
        {
          "output_type": "stream",
          "text": [
            "[[17  6]\n",
            " [10  8]]\n",
            "Sensitividad (TPR/Recall):   0.444\n",
            "Especificidad:   0.739\n",
            "Precision:   0.571\n",
            "FPR:   0.261\n"
          ],
          "name": "stdout"
        }
      ]
    },
    {
      "cell_type": "markdown",
      "metadata": {
        "id": "fGiT92gEVxfG",
        "colab_type": "text"
      },
      "source": [
        "De todas maneras, no tenemos demasiados datos pero podemos ver que lo mas alto es la especificidad. Es decir, no solemos asignar como positivos a los verdaderos negativos. Lo peor que tenemos es la sensitividad, que nos dice cuantos positivos nos perdemos. La precision nos dice cuan seguros podemos estar de un positivo."
      ]
    },
    {
      "cell_type": "markdown",
      "metadata": {
        "id": "bIIzw3K8Wj4i",
        "colab_type": "text"
      },
      "source": [
        "El segundo algoritmo es el Perceptron Multicapa, que tambien obtiene una funcion discriminante. \n",
        "\n",
        "$y=f(\\vec{w}^{T}\\cdot\\vec{\\phi}(\\vec{x}))$\n",
        "\n",
        "Con $f(a)=\\frac{a}{|a|}$ y por convencion $\\phi_0(\\vec{x})=1$.\n",
        "\n",
        "El Perceptron se resuelve con algoritmo iterativo que solo tiene asegurada la convergencia para problemas linealmente separables, que no es el caso. Sin embargo, ya que estamos probemoslo."
      ]
    },
    {
      "cell_type": "code",
      "metadata": {
        "id": "hsGOikptX-HU",
        "colab_type": "code",
        "colab": {
          "base_uri": "https://localhost:8080/",
          "height": 35
        },
        "outputId": "29e71fdd-a796-4678-8bbe-0ba6a43bfa89"
      },
      "source": [
        "Percep_este=Perceptron()\n",
        "Percep_este.fit(X_este,y_este)\n",
        "print(Percep_este.intercept_,Percep_este.coef_)"
      ],
      "execution_count": null,
      "outputs": [
        {
          "output_type": "stream",
          "text": [
            "[-4.] [[18.4 15.3]]\n"
          ],
          "name": "stdout"
        }
      ]
    },
    {
      "cell_type": "markdown",
      "metadata": {
        "id": "YIJb258BYKqL",
        "colab_type": "text"
      },
      "source": [
        "Como es un algoritmo que busca la funcion discriminante, se puede hacer lo mismo que hicimos para LDA."
      ]
    },
    {
      "cell_type": "markdown",
      "metadata": {
        "id": "EOZJeUFBQwMr",
        "colab_type": "text"
      },
      "source": [
        "El tercero es el de Regresion Logistica. A diferencia de los anteriores, este es un algoritmo que, bajo ciertas hipotesis, busca recuperar el posterior de la clase. Es decir, obtiene una probabilidad para cada clase. \n",
        "\n",
        "$y_{k}(\\vec{w},\\vec{x})=p(k|\\vec{w},\\vec{x})$\n",
        "\n",
        "\n",
        "Es un ejemplo de un algoritmo discriminativo. En principio, se necesitan tantas funciones $y$ como clases. Sin embargo, el caso de 2 clases provee una simplificacion ya que como son probabilidades, $y_{0}+y_{1} = 1$. Entonces, llamo $y$ a $y_{1}$ y puedo escribir de manera compacta.\n",
        "\n",
        "$t=0,1$\n",
        "\n",
        "$p(t|\\vec{x},\\vec{w})=y(\\vec{x},\\vec{w})^{t}(1-y(\\vec{x},\\vec{w}))^{1-t}$\n",
        "\n",
        "$y(\\vec{w},\\vec{x})=\\sigma(\\vec{w}^{T}\\cdot\\vec{\\phi}(\\vec{x}))$\n",
        "\n",
        "Donde $\\sigma$ es la funcion sigmoide.\n",
        "\n",
        "Ahora la superficie de decision estara, para dos clases, en la recta de equiprobabilidad \n",
        "\n",
        "$p(0|\\vec{w},\\vec{x})=p(1|\\vec{w},\\vec{x})$\n",
        "\n",
        "$1-y=y$\n",
        "\n",
        "$y=0.5$\n",
        "\n",
        "El error que se minimiza en este caso no es el de cuadrados minimos sino que es el de la entropia cruzada (_cross-entropy_):\n",
        "\n",
        "\n",
        "$E(\\vec{w})=-\\sum_{n=1}^{N}(t_{n}\\text{ln}(y_{n})+(1-t_{n})\\text{ln}(1-y_{n}))$\n",
        "\n",
        "Ya no se puede minimizar esto analiticamente pero se puede hacer de manera numerica."
      ]
    },
    {
      "cell_type": "code",
      "metadata": {
        "id": "wPb0luRFwvIC",
        "colab_type": "code",
        "colab": {
          "base_uri": "https://localhost:8080/",
          "height": 104
        },
        "outputId": "38827d39-9c2c-4bdc-86d8-f245bc54c03a"
      },
      "source": [
        "logistic_este=LogisticRegression()\n",
        "logistic_este.fit(X_este,y_este)"
      ],
      "execution_count": null,
      "outputs": [
        {
          "output_type": "execute_result",
          "data": {
            "text/plain": [
              "LogisticRegression(C=1.0, class_weight=None, dual=False, fit_intercept=True,\n",
              "                   intercept_scaling=1, l1_ratio=None, max_iter=100,\n",
              "                   multi_class='auto', n_jobs=None, penalty='l2',\n",
              "                   random_state=None, solver='lbfgs', tol=0.0001, verbose=0,\n",
              "                   warm_start=False)"
            ]
          },
          "metadata": {
            "tags": []
          },
          "execution_count": 62
        }
      ]
    },
    {
      "cell_type": "markdown",
      "metadata": {
        "id": "mkMHpksJagAw",
        "colab_type": "text"
      },
      "source": [
        "Ahora, ademas de funcion de decision, tenemos probabilidaes:\n",
        "\n"
      ]
    },
    {
      "cell_type": "code",
      "metadata": {
        "id": "Fu32fLasakVQ",
        "colab_type": "code",
        "colab": {
          "base_uri": "https://localhost:8080/",
          "height": 52
        },
        "outputId": "35b74935-5130-4532-d5d6-7a46ab1930b4"
      },
      "source": [
        "proba=logistic_este.predict_proba(X_este)\n",
        "print(proba.shape)\n",
        "print(proba[0],y_este[0])"
      ],
      "execution_count": null,
      "outputs": [
        {
          "output_type": "stream",
          "text": [
            "(41, 2)\n",
            "[0.66550955 0.33449045] 0\n"
          ],
          "name": "stdout"
        }
      ]
    },
    {
      "cell_type": "markdown",
      "metadata": {
        "id": "1abWWkp2bGxa",
        "colab_type": "text"
      },
      "source": [
        "Y tambien tenemos la opcion predict, tal como antes:"
      ]
    },
    {
      "cell_type": "code",
      "metadata": {
        "id": "gQUR7N67w7gX",
        "colab_type": "code",
        "colab": {
          "base_uri": "https://localhost:8080/",
          "height": 301
        },
        "outputId": "7164c1db-164d-4aae-bb88-b22141efc2d0"
      },
      "source": [
        "x=np.linspace(9.0,31.0,100)\n",
        "y=np.linspace(15.0,35.0,100)\n",
        "Xtoplot,Ytoplot=np.meshgrid(x,y)\n",
        "plt.xlim(9.0,31.0)\n",
        "plt.ylim(15.0,35.0)\n",
        "Z=logistic_este.predict(np.c_[Xtoplot.ravel(), Ytoplot.ravel()]).reshape(Xtoplot.shape)\n",
        "plt.contourf(Xtoplot,Ytoplot,Z,levels=[0.0,0.5,1.0],colors=['orange','green'],alpha=0.6)\n",
        "plt.scatter(stats_train['PER'][stats_train_labels==2],stats_train['USG%'][stats_train_labels==2], c='orange', label=\"No Playoff Este\")\n",
        "plt.scatter(stats_train['PER'][stats_train_labels==3],stats_train['USG%'][stats_train_labels==3], c='green', label=\"Playoff Este\")\n",
        "plt.legend(loc='upper left',framealpha =0.1)\n",
        "plt.xlabel(r'PER')\n",
        "plt.ylabel('USG%')"
      ],
      "execution_count": null,
      "outputs": [
        {
          "output_type": "execute_result",
          "data": {
            "text/plain": [
              "Text(0, 0.5, 'USG%')"
            ]
          },
          "metadata": {
            "tags": []
          },
          "execution_count": 64
        },
        {
          "output_type": "display_data",
          "data": {
            "image/png": "[encoded data removed]",
            "text/plain": [
              "<Figure size 432x288 with 1 Axes>"
            ]
          },
          "metadata": {
            "tags": [],
            "needs_background": "light"
          }
        }
      ]
    },
    {
      "cell_type": "markdown",
      "metadata": {
        "id": "uIZw9yg9-Sxz",
        "colab_type": "text"
      },
      "source": [
        "Podemos sacar mas informacion viendo la matriz de confusion"
      ]
    },
    {
      "cell_type": "code",
      "metadata": {
        "id": "ENB4CAH29xvp",
        "colab_type": "code",
        "colab": {
          "base_uri": "https://localhost:8080/",
          "height": 121
        },
        "outputId": "b98d69cd-22f8-4201-da9d-4e91e16cb6cc"
      },
      "source": [
        "from sklearn.metrics import confusion_matrix\n",
        "cf_este=confusion_matrix(y_este,logistic_este.predict(X_este))\n",
        "print(cf_este)\n",
        "tn, fp, fn, tp = cf_este.ravel()\n",
        "print(\"Sensitividad (TPR/Recall):%8.3f\" % (tp/(tp+fn)))\n",
        "print(\"Especificidad:%8.3f\" % (tn/(tn+fp)))\n",
        "print(\"Precision:%8.3f\" % (tp/(tp+fp)))\n",
        "print(\"FPR:%8.3f\" % (fp/(tn+fp)))"
      ],
      "execution_count": null,
      "outputs": [
        {
          "output_type": "stream",
          "text": [
            "[[17  6]\n",
            " [10  8]]\n",
            "Sensitividad (TPR/Recall):   0.444\n",
            "Especificidad:   0.739\n",
            "Precision:   0.571\n",
            "FPR:   0.261\n"
          ],
          "name": "stdout"
        }
      ]
    },
    {
      "cell_type": "markdown",
      "metadata": {
        "id": "N7NKFiXWbPRt",
        "colab_type": "text"
      },
      "source": [
        "Ya que tenemos probabilidades, yo me siento comodo jugando un poco con los umbrales de decision:"
      ]
    },
    {
      "cell_type": "code",
      "metadata": {
        "id": "WgeqDKyBdaic",
        "colab_type": "code",
        "colab": {
          "base_uri": "https://localhost:8080/",
          "height": 301
        },
        "outputId": "5b136fd2-252c-4f19-fde5-98ea46b582e3"
      },
      "source": [
        "x=np.linspace(9.0,31.0,100)\n",
        "y=np.linspace(15.0,35.0,100)\n",
        "Xtoplot,Ytoplot=np.meshgrid(x,y)\n",
        "plt.xlim(9.0,31.0)\n",
        "plt.ylim(15.0,35.0)\n",
        "Z=logistic_este.predict_proba(np.c_[Xtoplot.ravel(), Ytoplot.ravel()])[:,1].reshape(Xtoplot.shape)\n",
        "plt.contourf(Xtoplot,Ytoplot,Z,levels=[0.0,0.2,0.4,0.5,0.6,0.8,1.0],alpha=0.6)\n",
        "plt.colorbar()\n",
        "plt.scatter(stats_train['PER'][stats_train_labels==2],stats_train['USG%'][stats_train_labels==2], c='orange', label=\"No Playoff Este\")\n",
        "plt.scatter(stats_train['PER'][stats_train_labels==3],stats_train['USG%'][stats_train_labels==3], c='green', label=\"Playoff Este\")\n",
        "plt.legend(loc='upper left',framealpha =0.1)\n",
        "plt.xlabel(r'PER')\n",
        "plt.ylabel('USG%')"
      ],
      "execution_count": null,
      "outputs": [
        {
          "output_type": "execute_result",
          "data": {
            "text/plain": [
              "Text(0, 0.5, 'USG%')"
            ]
          },
          "metadata": {
            "tags": []
          },
          "execution_count": 66
        },
        {
          "output_type": "display_data",
          "data": {
            "image/png": "[encoded data removed]",
            "text/plain": [
              "<Figure size 432x288 with 2 Axes>"
            ]
          },
          "metadata": {
            "tags": [],
            "needs_background": "light"
          }
        }
      ]
    },
    {
      "cell_type": "code",
      "metadata": {
        "id": "tBRdr9T8b4yW",
        "colab_type": "code",
        "colab": {
          "base_uri": "https://localhost:8080/",
          "height": 415
        },
        "outputId": "72c4f7de-74a1-4188-88d8-ede1286fe574"
      },
      "source": [
        "from sklearn.metrics import roc_curve\n",
        "fpr, tpr, thresholds = roc_curve(y_este, logistic_este.predict_proba(X_este)[:,1])\n",
        "print(tpr.shape)\n",
        "plt.figure(figsize=(8, 6))                         # Not shown\n",
        "plt.plot(fpr, tpr, linewidth=2, label=None)\n",
        "plt.plot([0, 1], [0, 1], 'k--') # dashed diagonal\n",
        "plt.axis([0, 1, 0, 1])\n",
        "plt.scatter(fpr[np.argmin(np.abs(thresholds-0.5))],tpr[np.argmin(np.abs(thresholds-0.5))],color='red')                                    # Not shown in the book\n",
        "plt.xlabel('False Positive Rate (Fall-Out)', fontsize=16) # Not shown\n",
        "plt.ylabel('True Positive Rate (Recall)', fontsize=16)    # Not shown\n",
        "plt.grid(True)                                            # Not shown\n",
        "plt.show()"
      ],
      "execution_count": null,
      "outputs": [
        {
          "output_type": "stream",
          "text": [
            "(20,)\n"
          ],
          "name": "stdout"
        },
        {
          "output_type": "display_data",
          "data": {
            "image/png": "[encoded data removed]",
            "text/plain": [
              "<Figure size 576x432 with 1 Axes>"
            ]
          },
          "metadata": {
            "tags": [],
            "needs_background": "light"
          }
        }
      ]
    },
    {
      "cell_type": "markdown",
      "metadata": {
        "id": "MmWev-_qTEK8",
        "colab_type": "text"
      },
      "source": [
        "## Y si quiero mas inputs?\n",
        "\n",
        "Bueno, en principio puedo elegir mas inputs"
      ]
    },
    {
      "cell_type": "code",
      "metadata": {
        "id": "G4KHUyJKTMwh",
        "colab_type": "code",
        "colab": {}
      },
      "source": [
        "stats_now=stats_now[['Player','Pos','PER','USG%','TS%','3PAr','FTr','ORB%','DRB%','TRB%','AST%','STL%','BLK%','TOV%','label']]\n",
        "for e in ['PER','USG%','TS%','3PAr','FTr','ORB%','DRB%','TRB%','AST%','STL%','BLK%','TOV%']:\n",
        "  stats_now[e]=pd.to_numeric(stats_now[e])"
      ],
      "execution_count": null,
      "outputs": []
    },
    {
      "cell_type": "code",
      "metadata": {
        "id": "hfqI1QvmUO3U",
        "colab_type": "code",
        "colab": {}
      },
      "source": [
        "from sklearn.model_selection import StratifiedShuffleSplit\n",
        "split = StratifiedShuffleSplit(n_splits=1, test_size=0.2, random_state=445543)\n",
        "for train_index, test_index in split.split(stats_now, stats_now[\"Pos\"]):\n",
        "    strat_train_set = stats_now.iloc[train_index]\n",
        "    strat_test_set = stats_now.iloc[test_index]"
      ],
      "execution_count": null,
      "outputs": []
    },
    {
      "cell_type": "code",
      "metadata": {
        "id": "zHl3IEovUVlT",
        "colab_type": "code",
        "colab": {}
      },
      "source": [
        "stats_train = strat_train_set.drop([\"Player\",\"Pos\",\"label\"], axis=1) # drop labels for training set\n",
        "stats_train_labels = strat_train_set[\"label\"].copy()\n",
        "stats_test = strat_test_set.drop([\"Player\",\"Pos\",\"label\"], axis=1) # drop labels for training set\n",
        "stats_test_labels = strat_test_set[\"label\"].copy()"
      ],
      "execution_count": null,
      "outputs": []
    },
    {
      "cell_type": "code",
      "metadata": {
        "id": "nNIYP2CAUhNV",
        "colab_type": "code",
        "colab": {}
      },
      "source": [
        "X_este=np.asarray(stats_train[(stats_train_labels==2) | (stats_train_labels==3)])\n",
        "print(X_este.shape)\n",
        "y_este=np.asarray(strat_train_set[(stats_train_labels==2) | (stats_train_labels==3)][[\"label\"]])\n",
        "y_este=np.where(y_este==2,0,1)[:,0]\n",
        "print(y_este.shape)\n",
        "\n",
        "X_oeste=np.asarray(stats_train[(stats_train_labels==0) | (stats_train_labels==1)])\n",
        "print(X_oeste.shape)\n",
        "y_oeste=np.asarray(strat_train_set[(stats_train_labels==0) | (stats_train_labels==1)][[\"label\"]])\n",
        "print(y_oeste.shape)"
      ],
      "execution_count": null,
      "outputs": []
    },
    {
      "cell_type": "code",
      "metadata": {
        "id": "PlvAQykrUszb",
        "colab_type": "code",
        "colab": {}
      },
      "source": [
        "scaler=StandardScaler()\n",
        "X_este_tr=scaler.fit_transform(X_este)\n",
        "LDA_este_multi=LinearDiscriminantAnalysis(solver='eigen')\n",
        "LDA_este_multi.fit(X_este_tr,y_este)"
      ],
      "execution_count": null,
      "outputs": []
    },
    {
      "cell_type": "code",
      "metadata": {
        "id": "j-xt6FazVAtu",
        "colab_type": "code",
        "colab": {}
      },
      "source": [
        "from sklearn.metrics import confusion_matrix\n",
        "cf_este=confusion_matrix(y_este,LDA_este_multi.predict(X_este_tr))\n",
        "print(cf_este)\n",
        "tn, fp, fn, tp = cf_este.ravel()\n",
        "print(\"Sensitividad:%8.3f\" % (tp/(tp+fn)))\n",
        "print(\"Especificidad:%8.3f\" % (tn/(tn+fp)))\n",
        "print(\"Precision:%8.3f\" % (tp/(tp+fp)))"
      ],
      "execution_count": null,
      "outputs": []
    },
    {
      "cell_type": "markdown",
      "metadata": {
        "id": "qBRsbrXmVKY1",
        "colab_type": "text"
      },
      "source": [
        "Funciona mejor! Pero para plottear, hay que marginalizar en las otras variables.\n",
        "\n",
        "Una alternativa es utilizar herramientas de reduccion de dimensionalidad. LDA es una de ellas, que baja de 12 features a 1."
      ]
    },
    {
      "cell_type": "code",
      "metadata": {
        "id": "dUyRDVjrV_pW",
        "colab_type": "code",
        "colab": {}
      },
      "source": [
        "LDA_este_multi.decision_function(X_este_tr).shape\n",
        "plt.hist(LDA_este_multi.decision_function(X_este_tr[y_este==0]),color='orange',histtype='step',label='No playoff este')\n",
        "plt.hist(LDA_este_multi.decision_function(X_este_tr[y_este==1]),color='green',histtype='step',label='Playoff este')\n",
        "plt.axvline(x=0,color='black',label='Frontera de decision')\n",
        "plt.legend(loc='upper left',framealpha=0.6)"
      ],
      "execution_count": null,
      "outputs": []
    },
    {
      "cell_type": "markdown",
      "metadata": {
        "id": "eKXq2722WqBd",
        "colab_type": "text"
      },
      "source": [
        "Una alternativa es usar Principal Component analysis (PCA) para bajar de 12 a 2"
      ]
    },
    {
      "cell_type": "code",
      "metadata": {
        "id": "K4m-rHniW4ad",
        "colab_type": "code",
        "colab": {}
      },
      "source": [
        "from sklearn.decomposition import PCA\n",
        "pca = PCA(n_components=2)\n",
        "X_este_pca=pca.fit_transform(X_este)\n",
        "X_este_pca.shape"
      ],
      "execution_count": null,
      "outputs": []
    },
    {
      "cell_type": "code",
      "metadata": {
        "id": "ZmmG0_v5XR8d",
        "colab_type": "code",
        "colab": {}
      },
      "source": [
        "plt.hist(X_este_pca[:,0],bins=10)\n",
        "plt.xlabel(r'PCA 1')\n",
        "plt.show()\n",
        "plt.hist(X_este_pca[:,1],bins=10)\n",
        "plt.xlabel(r'PCA 2')\n",
        "plt.show()\n",
        "plt.scatter(X_este_pca[y_este==0,0],X_este_pca[y_este==0,1], c='orange', label=\"No Playoff Este\")\n",
        "plt.scatter(X_este_pca[y_este==1,0],X_este_pca[y_este==1,1], c='green', label=\"Playoff Oeste\")\n",
        "plt.legend(loc='upper left',framealpha =0.1)\n",
        "#plt.xlim(9.0,31.0)\n",
        "#plt.ylim(15.0,35.0)\n",
        "plt.xlabel(r'PCA 1')\n",
        "plt.ylabel('PCA 2')\n",
        "plt.show()"
      ],
      "execution_count": null,
      "outputs": []
    },
    {
      "cell_type": "code",
      "metadata": {
        "id": "O5uhC1pzX6ST",
        "colab_type": "code",
        "colab": {}
      },
      "source": [
        "LDA_este_pca=LinearDiscriminantAnalysis(solver='eigen')\n",
        "LDA_este_pca.fit(X_este_pca,y_este)"
      ],
      "execution_count": null,
      "outputs": []
    },
    {
      "cell_type": "code",
      "metadata": {
        "id": "BLq0VqDqYbVv",
        "colab_type": "code",
        "colab": {}
      },
      "source": [
        "x=np.linspace(-25.0,25.0,100)\n",
        "y=np.linspace(-15.0,15.0,100)\n",
        "Xtoplot,Ytoplot=np.meshgrid(x,y)\n",
        "plt.xlim(-25.0,25.0)\n",
        "plt.ylim(-15.0,15.0)\n",
        "Z=LDA_este_pca.predict(np.c_[Xtoplot.ravel(), Ytoplot.ravel()]).reshape(Xtoplot.shape)\n",
        "plt.contourf(Xtoplot,Ytoplot,Z,levels=[0.0,0.5,1.0],colors=['orange','green'],alpha=0.6)\n",
        "plt.scatter(X_este_pca[y_este==0,0],X_este_pca[y_este==0,1], c='orange', label=\"No Playoff Este\")\n",
        "plt.scatter(X_este_pca[y_este==1,0],X_este_pca[y_este==1,1], c='green', label=\"Playoff Oeste\")\n",
        "plt.legend(loc='upper left',framealpha =0.1)\n",
        "plt.xlabel(r'PCA 1')\n",
        "plt.ylabel('PCA 2')"
      ],
      "execution_count": null,
      "outputs": []
    },
    {
      "cell_type": "code",
      "metadata": {
        "id": "23gEi-TqX-V-",
        "colab_type": "code",
        "colab": {}
      },
      "source": [
        "from sklearn.metrics import confusion_matrix\n",
        "cf_este=confusion_matrix(y_este,LDA_este_pca.predict(X_este_pca))\n",
        "print(cf_este)\n",
        "tn, fp, fn, tp = cf_este.ravel()\n",
        "print(\"Sensitividad (TPR/Recall) :%8.3f\" % (tp/(tp+fn)))\n",
        "print(\"Especificidad:%8.3f\" % (tn/(tn+fp)))\n",
        "print(\"Precision:%8.3f\" % (tp/(tp+fp)))\n",
        "print(\"FPR :%8.3f\" % (fp/(tn+fp)))"
      ],
      "execution_count": null,
      "outputs": []
    },
    {
      "cell_type": "code",
      "metadata": {
        "id": "NcAkknsXeoYs",
        "colab_type": "code",
        "colab": {}
      },
      "source": [
        "from sklearn.preprocessing import MinMaxScaler\n",
        "minmax=MinMaxScaler()\n",
        "print(LDA_este_pca.decision_function(X_este_pca).min(),LDA_este_pca.decision_function(X_este_pca).max())\n",
        "decision=minmax.fit_transform(LDA_este_pca.decision_function(X_este_pca).reshape(-1,1))\n",
        "print(decision.min(),decision.max())"
      ],
      "execution_count": null,
      "outputs": []
    },
    {
      "cell_type": "code",
      "metadata": {
        "id": "6SFXsZ9QebBy",
        "colab_type": "code",
        "colab": {}
      },
      "source": [
        "from sklearn.metrics import roc_curve\n",
        "fpr, tpr, thresholds = roc_curve(y_este, LDA_este_pca.decision_function(X_este_pca))\n",
        "print(thresholds[0],thresholds[-1])\n",
        "plt.figure(figsize=(8, 6))                         # Not shown\n",
        "plt.plot(fpr, tpr, linewidth=2, label=None)\n",
        "plt.plot([0, 1], [0, 1], 'k--') # dashed diagonal\n",
        "plt.axis([0, 1, 0, 1])\n",
        "plt.scatter(fpr[np.argmin(np.abs(thresholds-0.0))],tpr[np.argmin(np.abs(thresholds-0.0))],color='red')                                    # Not shown in the book\n",
        "plt.xlabel('False Positive Rate (Fall-Out)', fontsize=16) # Not shown\n",
        "plt.ylabel('True Positive Rate (Recall)', fontsize=16)    # Not shown\n",
        "plt.grid(True)                                            # Not shown\n",
        "plt.show()"
      ],
      "execution_count": null,
      "outputs": []
    },
    {
      "cell_type": "markdown",
      "metadata": {
        "id": "xWea29HBWC-Z",
        "colab_type": "text"
      },
      "source": [
        "# Test"
      ]
    }
  ]
}